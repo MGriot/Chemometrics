{
 "cells": [
  {
   "cell_type": "code",
   "execution_count": null,
   "metadata": {
    "tags": []
   },
   "outputs": [],
   "source": [
    "pip list"
   ]
  },
  {
   "cell_type": "code",
   "execution_count": null,
   "metadata": {
    "tags": []
   },
   "outputs": [],
   "source": [
    "conda install -c plotly plotly_express"
   ]
  },
  {
   "cell_type": "code",
   "execution_count": null,
   "metadata": {},
   "outputs": [],
   "source": [
    "!jupyter labextension uninstall @jupyterlab/plotly-extension\n",
    "!jupyter labextension uninstall jupyterlab-plotly \n",
    "!jupyter labextension uninstall plotlywidget"
   ]
  },
  {
   "cell_type": "code",
   "execution_count": null,
   "metadata": {},
   "outputs": [],
   "source": [
    "!jupyter labextension install jupyterlab-plotly@4.14.3"
   ]
  },
  {
   "cell_type": "code",
   "execution_count": null,
   "metadata": {},
   "outputs": [],
   "source": [
    "# JupyterLab renderer support\n",
    "!jupyter labextension install jupyterlab-plotly@4.14.3\n",
    "\n",
    "# OPTIONAL: Jupyter widgets extension\n",
    "!jupyter labextension install @jupyter-widgets/jupyterlab-manager plotlywidget@4.14.3"
   ]
  },
  {
   "cell_type": "markdown",
   "metadata": {},
   "source": [
    "## Set-Up : https://www.youtube.com/watch?v=QkOKkrKqI-k&ab_channel=CharmingData"
   ]
  },
  {
   "cell_type": "markdown",
   "metadata": {
    "tags": []
   },
   "source": [
    "# PCA Visualization in Python with Plotly and Skitlearn"
   ]
  },
  {
   "cell_type": "code",
   "execution_count": 1,
   "metadata": {},
   "outputs": [
    {
     "data": {
      "text/html": [
       "<div>\n",
       "<style scoped>\n",
       "    .dataframe tbody tr th:only-of-type {\n",
       "        vertical-align: middle;\n",
       "    }\n",
       "\n",
       "    .dataframe tbody tr th {\n",
       "        vertical-align: top;\n",
       "    }\n",
       "\n",
       "    .dataframe thead th {\n",
       "        text-align: right;\n",
       "    }\n",
       "</style>\n",
       "<table border=\"1\" class=\"dataframe\">\n",
       "  <thead>\n",
       "    <tr style=\"text-align: right;\">\n",
       "      <th></th>\n",
       "      <th>sepal_length</th>\n",
       "      <th>sepal_width</th>\n",
       "      <th>petal_length</th>\n",
       "      <th>petal_width</th>\n",
       "      <th>species</th>\n",
       "      <th>species_id</th>\n",
       "    </tr>\n",
       "  </thead>\n",
       "  <tbody>\n",
       "    <tr>\n",
       "      <th>0</th>\n",
       "      <td>5.1</td>\n",
       "      <td>3.5</td>\n",
       "      <td>1.4</td>\n",
       "      <td>0.2</td>\n",
       "      <td>setosa</td>\n",
       "      <td>1</td>\n",
       "    </tr>\n",
       "    <tr>\n",
       "      <th>1</th>\n",
       "      <td>4.9</td>\n",
       "      <td>3.0</td>\n",
       "      <td>1.4</td>\n",
       "      <td>0.2</td>\n",
       "      <td>setosa</td>\n",
       "      <td>1</td>\n",
       "    </tr>\n",
       "    <tr>\n",
       "      <th>2</th>\n",
       "      <td>4.7</td>\n",
       "      <td>3.2</td>\n",
       "      <td>1.3</td>\n",
       "      <td>0.2</td>\n",
       "      <td>setosa</td>\n",
       "      <td>1</td>\n",
       "    </tr>\n",
       "    <tr>\n",
       "      <th>3</th>\n",
       "      <td>4.6</td>\n",
       "      <td>3.1</td>\n",
       "      <td>1.5</td>\n",
       "      <td>0.2</td>\n",
       "      <td>setosa</td>\n",
       "      <td>1</td>\n",
       "    </tr>\n",
       "    <tr>\n",
       "      <th>4</th>\n",
       "      <td>5.0</td>\n",
       "      <td>3.6</td>\n",
       "      <td>1.4</td>\n",
       "      <td>0.2</td>\n",
       "      <td>setosa</td>\n",
       "      <td>1</td>\n",
       "    </tr>\n",
       "    <tr>\n",
       "      <th>...</th>\n",
       "      <td>...</td>\n",
       "      <td>...</td>\n",
       "      <td>...</td>\n",
       "      <td>...</td>\n",
       "      <td>...</td>\n",
       "      <td>...</td>\n",
       "    </tr>\n",
       "    <tr>\n",
       "      <th>145</th>\n",
       "      <td>6.7</td>\n",
       "      <td>3.0</td>\n",
       "      <td>5.2</td>\n",
       "      <td>2.3</td>\n",
       "      <td>virginica</td>\n",
       "      <td>3</td>\n",
       "    </tr>\n",
       "    <tr>\n",
       "      <th>146</th>\n",
       "      <td>6.3</td>\n",
       "      <td>2.5</td>\n",
       "      <td>5.0</td>\n",
       "      <td>1.9</td>\n",
       "      <td>virginica</td>\n",
       "      <td>3</td>\n",
       "    </tr>\n",
       "    <tr>\n",
       "      <th>147</th>\n",
       "      <td>6.5</td>\n",
       "      <td>3.0</td>\n",
       "      <td>5.2</td>\n",
       "      <td>2.0</td>\n",
       "      <td>virginica</td>\n",
       "      <td>3</td>\n",
       "    </tr>\n",
       "    <tr>\n",
       "      <th>148</th>\n",
       "      <td>6.2</td>\n",
       "      <td>3.4</td>\n",
       "      <td>5.4</td>\n",
       "      <td>2.3</td>\n",
       "      <td>virginica</td>\n",
       "      <td>3</td>\n",
       "    </tr>\n",
       "    <tr>\n",
       "      <th>149</th>\n",
       "      <td>5.9</td>\n",
       "      <td>3.0</td>\n",
       "      <td>5.1</td>\n",
       "      <td>1.8</td>\n",
       "      <td>virginica</td>\n",
       "      <td>3</td>\n",
       "    </tr>\n",
       "  </tbody>\n",
       "</table>\n",
       "<p>150 rows × 6 columns</p>\n",
       "</div>"
      ],
      "text/plain": [
       "     sepal_length  sepal_width  petal_length  petal_width    species  \\\n",
       "0             5.1          3.5           1.4          0.2     setosa   \n",
       "1             4.9          3.0           1.4          0.2     setosa   \n",
       "2             4.7          3.2           1.3          0.2     setosa   \n",
       "3             4.6          3.1           1.5          0.2     setosa   \n",
       "4             5.0          3.6           1.4          0.2     setosa   \n",
       "..            ...          ...           ...          ...        ...   \n",
       "145           6.7          3.0           5.2          2.3  virginica   \n",
       "146           6.3          2.5           5.0          1.9  virginica   \n",
       "147           6.5          3.0           5.2          2.0  virginica   \n",
       "148           6.2          3.4           5.4          2.3  virginica   \n",
       "149           5.9          3.0           5.1          1.8  virginica   \n",
       "\n",
       "     species_id  \n",
       "0             1  \n",
       "1             1  \n",
       "2             1  \n",
       "3             1  \n",
       "4             1  \n",
       "..          ...  \n",
       "145           3  \n",
       "146           3  \n",
       "147           3  \n",
       "148           3  \n",
       "149           3  \n",
       "\n",
       "[150 rows x 6 columns]"
      ]
     },
     "execution_count": 1,
     "metadata": {},
     "output_type": "execute_result"
    }
   ],
   "source": [
    "import plotly.express as px\n",
    "\n",
    "df = px.data.iris()\n",
    "features = [\"sepal_width\", \"sepal_length\", \"petal_width\", \"petal_length\"]\n",
    "df"
   ]
  },
  {
   "cell_type": "code",
   "execution_count": 3,
   "metadata": {},
   "outputs": [
    {
     "data": {
      "application/vnd.plotly.v1+json": {
       "config": {
        "plotlyServerURL": "https://plot.ly"
       },
       "data": [
        {
         "diagonal": {
          "visible": false
         },
         "dimensions": [
          {
           "axis": {
            "matches": true
           },
           "label": "sepal_width",
           "values": [
            3.5,
            3,
            3.2,
            3.1,
            3.6,
            3.9,
            3.4,
            3.4,
            2.9,
            3.1,
            3.7,
            3.4,
            3,
            3,
            4,
            4.4,
            3.9,
            3.5,
            3.8,
            3.8,
            3.4,
            3.7,
            3.6,
            3.3,
            3.4,
            3,
            3.4,
            3.5,
            3.4,
            3.2,
            3.1,
            3.4,
            4.1,
            4.2,
            3.1,
            3.2,
            3.5,
            3.1,
            3,
            3.4,
            3.5,
            2.3,
            3.2,
            3.5,
            3.8,
            3,
            3.8,
            3.2,
            3.7,
            3.3
           ]
          },
          {
           "axis": {
            "matches": true
           },
           "label": "sepal_length",
           "values": [
            5.1,
            4.9,
            4.7,
            4.6,
            5,
            5.4,
            4.6,
            5,
            4.4,
            4.9,
            5.4,
            4.8,
            4.8,
            4.3,
            5.8,
            5.7,
            5.4,
            5.1,
            5.7,
            5.1,
            5.4,
            5.1,
            4.6,
            5.1,
            4.8,
            5,
            5,
            5.2,
            5.2,
            4.7,
            4.8,
            5.4,
            5.2,
            5.5,
            4.9,
            5,
            5.5,
            4.9,
            4.4,
            5.1,
            5,
            4.5,
            4.4,
            5,
            5.1,
            4.8,
            5.1,
            4.6,
            5.3,
            5
           ]
          },
          {
           "axis": {
            "matches": true
           },
           "label": "petal_width",
           "values": [
            0.2,
            0.2,
            0.2,
            0.2,
            0.2,
            0.4,
            0.3,
            0.2,
            0.2,
            0.1,
            0.2,
            0.2,
            0.1,
            0.1,
            0.2,
            0.4,
            0.4,
            0.3,
            0.3,
            0.3,
            0.2,
            0.4,
            0.2,
            0.5,
            0.2,
            0.2,
            0.4,
            0.2,
            0.2,
            0.2,
            0.2,
            0.4,
            0.1,
            0.2,
            0.1,
            0.2,
            0.2,
            0.1,
            0.2,
            0.2,
            0.3,
            0.3,
            0.2,
            0.6,
            0.4,
            0.3,
            0.2,
            0.2,
            0.2,
            0.2
           ]
          },
          {
           "axis": {
            "matches": true
           },
           "label": "petal_length",
           "values": [
            1.4,
            1.4,
            1.3,
            1.5,
            1.4,
            1.7,
            1.4,
            1.5,
            1.4,
            1.5,
            1.5,
            1.6,
            1.4,
            1.1,
            1.2,
            1.5,
            1.3,
            1.4,
            1.7,
            1.5,
            1.7,
            1.5,
            1,
            1.7,
            1.9,
            1.6,
            1.6,
            1.5,
            1.4,
            1.6,
            1.6,
            1.5,
            1.5,
            1.4,
            1.5,
            1.2,
            1.3,
            1.5,
            1.3,
            1.5,
            1.3,
            1.3,
            1.3,
            1.6,
            1.9,
            1.4,
            1.6,
            1.4,
            1.5,
            1.4
           ]
          }
         ],
         "hovertemplate": "species=setosa<br>%{xaxis.title.text}=%{x}<br>%{yaxis.title.text}=%{y}<extra></extra>",
         "legendgroup": "setosa",
         "marker": {
          "color": "#636efa",
          "symbol": "circle"
         },
         "name": "setosa",
         "showlegend": true,
         "type": "splom"
        },
        {
         "diagonal": {
          "visible": false
         },
         "dimensions": [
          {
           "axis": {
            "matches": true
           },
           "label": "sepal_width",
           "values": [
            3.2,
            3.2,
            3.1,
            2.3,
            2.8,
            2.8,
            3.3,
            2.4,
            2.9,
            2.7,
            2,
            3,
            2.2,
            2.9,
            2.9,
            3.1,
            3,
            2.7,
            2.2,
            2.5,
            3.2,
            2.8,
            2.5,
            2.8,
            2.9,
            3,
            2.8,
            3,
            2.9,
            2.6,
            2.4,
            2.4,
            2.7,
            2.7,
            3,
            3.4,
            3.1,
            2.3,
            3,
            2.5,
            2.6,
            3,
            2.6,
            2.3,
            2.7,
            3,
            2.9,
            2.9,
            2.5,
            2.8
           ]
          },
          {
           "axis": {
            "matches": true
           },
           "label": "sepal_length",
           "values": [
            7,
            6.4,
            6.9,
            5.5,
            6.5,
            5.7,
            6.3,
            4.9,
            6.6,
            5.2,
            5,
            5.9,
            6,
            6.1,
            5.6,
            6.7,
            5.6,
            5.8,
            6.2,
            5.6,
            5.9,
            6.1,
            6.3,
            6.1,
            6.4,
            6.6,
            6.8,
            6.7,
            6,
            5.7,
            5.5,
            5.5,
            5.8,
            6,
            5.4,
            6,
            6.7,
            6.3,
            5.6,
            5.5,
            5.5,
            6.1,
            5.8,
            5,
            5.6,
            5.7,
            5.7,
            6.2,
            5.1,
            5.7
           ]
          },
          {
           "axis": {
            "matches": true
           },
           "label": "petal_width",
           "values": [
            1.4,
            1.5,
            1.5,
            1.3,
            1.5,
            1.3,
            1.6,
            1,
            1.3,
            1.4,
            1,
            1.5,
            1,
            1.4,
            1.3,
            1.4,
            1.5,
            1,
            1.5,
            1.1,
            1.8,
            1.3,
            1.5,
            1.2,
            1.3,
            1.4,
            1.4,
            1.7,
            1.5,
            1,
            1.1,
            1,
            1.2,
            1.6,
            1.5,
            1.6,
            1.5,
            1.3,
            1.3,
            1.3,
            1.2,
            1.4,
            1.2,
            1,
            1.3,
            1.2,
            1.3,
            1.3,
            1.1,
            1.3
           ]
          },
          {
           "axis": {
            "matches": true
           },
           "label": "petal_length",
           "values": [
            4.7,
            4.5,
            4.9,
            4,
            4.6,
            4.5,
            4.7,
            3.3,
            4.6,
            3.9,
            3.5,
            4.2,
            4,
            4.7,
            3.6,
            4.4,
            4.5,
            4.1,
            4.5,
            3.9,
            4.8,
            4,
            4.9,
            4.7,
            4.3,
            4.4,
            4.8,
            5,
            4.5,
            3.5,
            3.8,
            3.7,
            3.9,
            5.1,
            4.5,
            4.5,
            4.7,
            4.4,
            4.1,
            4,
            4.4,
            4.6,
            4,
            3.3,
            4.2,
            4.2,
            4.2,
            4.3,
            3,
            4.1
           ]
          }
         ],
         "hovertemplate": "species=versicolor<br>%{xaxis.title.text}=%{x}<br>%{yaxis.title.text}=%{y}<extra></extra>",
         "legendgroup": "versicolor",
         "marker": {
          "color": "#EF553B",
          "symbol": "circle"
         },
         "name": "versicolor",
         "showlegend": true,
         "type": "splom"
        },
        {
         "diagonal": {
          "visible": false
         },
         "dimensions": [
          {
           "axis": {
            "matches": true
           },
           "label": "sepal_width",
           "values": [
            3.3,
            2.7,
            3,
            2.9,
            3,
            3,
            2.5,
            2.9,
            2.5,
            3.6,
            3.2,
            2.7,
            3,
            2.5,
            2.8,
            3.2,
            3,
            3.8,
            2.6,
            2.2,
            3.2,
            2.8,
            2.8,
            2.7,
            3.3,
            3.2,
            2.8,
            3,
            2.8,
            3,
            2.8,
            3.8,
            2.8,
            2.8,
            2.6,
            3,
            3.4,
            3.1,
            3,
            3.1,
            3.1,
            3.1,
            2.7,
            3.2,
            3.3,
            3,
            2.5,
            3,
            3.4,
            3
           ]
          },
          {
           "axis": {
            "matches": true
           },
           "label": "sepal_length",
           "values": [
            6.3,
            5.8,
            7.1,
            6.3,
            6.5,
            7.6,
            4.9,
            7.3,
            6.7,
            7.2,
            6.5,
            6.4,
            6.8,
            5.7,
            5.8,
            6.4,
            6.5,
            7.7,
            7.7,
            6,
            6.9,
            5.6,
            7.7,
            6.3,
            6.7,
            7.2,
            6.2,
            6.1,
            6.4,
            7.2,
            7.4,
            7.9,
            6.4,
            6.3,
            6.1,
            7.7,
            6.3,
            6.4,
            6,
            6.9,
            6.7,
            6.9,
            5.8,
            6.8,
            6.7,
            6.7,
            6.3,
            6.5,
            6.2,
            5.9
           ]
          },
          {
           "axis": {
            "matches": true
           },
           "label": "petal_width",
           "values": [
            2.5,
            1.9,
            2.1,
            1.8,
            2.2,
            2.1,
            1.7,
            1.8,
            1.8,
            2.5,
            2,
            1.9,
            2.1,
            2,
            2.4,
            2.3,
            1.8,
            2.2,
            2.3,
            1.5,
            2.3,
            2,
            2,
            1.8,
            2.1,
            1.8,
            1.8,
            1.8,
            2.1,
            1.6,
            1.9,
            2,
            2.2,
            1.5,
            1.4,
            2.3,
            2.4,
            1.8,
            1.8,
            2.1,
            2.4,
            2.3,
            1.9,
            2.3,
            2.5,
            2.3,
            1.9,
            2,
            2.3,
            1.8
           ]
          },
          {
           "axis": {
            "matches": true
           },
           "label": "petal_length",
           "values": [
            6,
            5.1,
            5.9,
            5.6,
            5.8,
            6.6,
            4.5,
            6.3,
            5.8,
            6.1,
            5.1,
            5.3,
            5.5,
            5,
            5.1,
            5.3,
            5.5,
            6.7,
            6.9,
            5,
            5.7,
            4.9,
            6.7,
            4.9,
            5.7,
            6,
            4.8,
            4.9,
            5.6,
            5.8,
            6.1,
            6.4,
            5.6,
            5.1,
            5.6,
            6.1,
            5.6,
            5.5,
            4.8,
            5.4,
            5.6,
            5.1,
            5.1,
            5.9,
            5.7,
            5.2,
            5,
            5.2,
            5.4,
            5.1
           ]
          }
         ],
         "hovertemplate": "species=virginica<br>%{xaxis.title.text}=%{x}<br>%{yaxis.title.text}=%{y}<extra></extra>",
         "legendgroup": "virginica",
         "marker": {
          "color": "#00cc96",
          "symbol": "circle"
         },
         "name": "virginica",
         "showlegend": true,
         "type": "splom"
        }
       ],
       "layout": {
        "autosize": true,
        "dragmode": "select",
        "legend": {
         "title": {
          "text": "species"
         },
         "tracegroupgap": 0
        },
        "margin": {
         "t": 60
        },
        "template": {
         "data": {
          "bar": [
           {
            "error_x": {
             "color": "#2a3f5f"
            },
            "error_y": {
             "color": "#2a3f5f"
            },
            "marker": {
             "line": {
              "color": "#E5ECF6",
              "width": 0.5
             }
            },
            "type": "bar"
           }
          ],
          "barpolar": [
           {
            "marker": {
             "line": {
              "color": "#E5ECF6",
              "width": 0.5
             }
            },
            "type": "barpolar"
           }
          ],
          "carpet": [
           {
            "aaxis": {
             "endlinecolor": "#2a3f5f",
             "gridcolor": "white",
             "linecolor": "white",
             "minorgridcolor": "white",
             "startlinecolor": "#2a3f5f"
            },
            "baxis": {
             "endlinecolor": "#2a3f5f",
             "gridcolor": "white",
             "linecolor": "white",
             "minorgridcolor": "white",
             "startlinecolor": "#2a3f5f"
            },
            "type": "carpet"
           }
          ],
          "choropleth": [
           {
            "colorbar": {
             "outlinewidth": 0,
             "ticks": ""
            },
            "type": "choropleth"
           }
          ],
          "contour": [
           {
            "colorbar": {
             "outlinewidth": 0,
             "ticks": ""
            },
            "colorscale": [
             [
              0,
              "#0d0887"
             ],
             [
              0.1111111111111111,
              "#46039f"
             ],
             [
              0.2222222222222222,
              "#7201a8"
             ],
             [
              0.3333333333333333,
              "#9c179e"
             ],
             [
              0.4444444444444444,
              "#bd3786"
             ],
             [
              0.5555555555555556,
              "#d8576b"
             ],
             [
              0.6666666666666666,
              "#ed7953"
             ],
             [
              0.7777777777777778,
              "#fb9f3a"
             ],
             [
              0.8888888888888888,
              "#fdca26"
             ],
             [
              1,
              "#f0f921"
             ]
            ],
            "type": "contour"
           }
          ],
          "contourcarpet": [
           {
            "colorbar": {
             "outlinewidth": 0,
             "ticks": ""
            },
            "type": "contourcarpet"
           }
          ],
          "heatmap": [
           {
            "colorbar": {
             "outlinewidth": 0,
             "ticks": ""
            },
            "colorscale": [
             [
              0,
              "#0d0887"
             ],
             [
              0.1111111111111111,
              "#46039f"
             ],
             [
              0.2222222222222222,
              "#7201a8"
             ],
             [
              0.3333333333333333,
              "#9c179e"
             ],
             [
              0.4444444444444444,
              "#bd3786"
             ],
             [
              0.5555555555555556,
              "#d8576b"
             ],
             [
              0.6666666666666666,
              "#ed7953"
             ],
             [
              0.7777777777777778,
              "#fb9f3a"
             ],
             [
              0.8888888888888888,
              "#fdca26"
             ],
             [
              1,
              "#f0f921"
             ]
            ],
            "type": "heatmap"
           }
          ],
          "heatmapgl": [
           {
            "colorbar": {
             "outlinewidth": 0,
             "ticks": ""
            },
            "colorscale": [
             [
              0,
              "#0d0887"
             ],
             [
              0.1111111111111111,
              "#46039f"
             ],
             [
              0.2222222222222222,
              "#7201a8"
             ],
             [
              0.3333333333333333,
              "#9c179e"
             ],
             [
              0.4444444444444444,
              "#bd3786"
             ],
             [
              0.5555555555555556,
              "#d8576b"
             ],
             [
              0.6666666666666666,
              "#ed7953"
             ],
             [
              0.7777777777777778,
              "#fb9f3a"
             ],
             [
              0.8888888888888888,
              "#fdca26"
             ],
             [
              1,
              "#f0f921"
             ]
            ],
            "type": "heatmapgl"
           }
          ],
          "histogram": [
           {
            "marker": {
             "colorbar": {
              "outlinewidth": 0,
              "ticks": ""
             }
            },
            "type": "histogram"
           }
          ],
          "histogram2d": [
           {
            "colorbar": {
             "outlinewidth": 0,
             "ticks": ""
            },
            "colorscale": [
             [
              0,
              "#0d0887"
             ],
             [
              0.1111111111111111,
              "#46039f"
             ],
             [
              0.2222222222222222,
              "#7201a8"
             ],
             [
              0.3333333333333333,
              "#9c179e"
             ],
             [
              0.4444444444444444,
              "#bd3786"
             ],
             [
              0.5555555555555556,
              "#d8576b"
             ],
             [
              0.6666666666666666,
              "#ed7953"
             ],
             [
              0.7777777777777778,
              "#fb9f3a"
             ],
             [
              0.8888888888888888,
              "#fdca26"
             ],
             [
              1,
              "#f0f921"
             ]
            ],
            "type": "histogram2d"
           }
          ],
          "histogram2dcontour": [
           {
            "colorbar": {
             "outlinewidth": 0,
             "ticks": ""
            },
            "colorscale": [
             [
              0,
              "#0d0887"
             ],
             [
              0.1111111111111111,
              "#46039f"
             ],
             [
              0.2222222222222222,
              "#7201a8"
             ],
             [
              0.3333333333333333,
              "#9c179e"
             ],
             [
              0.4444444444444444,
              "#bd3786"
             ],
             [
              0.5555555555555556,
              "#d8576b"
             ],
             [
              0.6666666666666666,
              "#ed7953"
             ],
             [
              0.7777777777777778,
              "#fb9f3a"
             ],
             [
              0.8888888888888888,
              "#fdca26"
             ],
             [
              1,
              "#f0f921"
             ]
            ],
            "type": "histogram2dcontour"
           }
          ],
          "mesh3d": [
           {
            "colorbar": {
             "outlinewidth": 0,
             "ticks": ""
            },
            "type": "mesh3d"
           }
          ],
          "parcoords": [
           {
            "line": {
             "colorbar": {
              "outlinewidth": 0,
              "ticks": ""
             }
            },
            "type": "parcoords"
           }
          ],
          "pie": [
           {
            "automargin": true,
            "type": "pie"
           }
          ],
          "scatter": [
           {
            "marker": {
             "colorbar": {
              "outlinewidth": 0,
              "ticks": ""
             }
            },
            "type": "scatter"
           }
          ],
          "scatter3d": [
           {
            "line": {
             "colorbar": {
              "outlinewidth": 0,
              "ticks": ""
             }
            },
            "marker": {
             "colorbar": {
              "outlinewidth": 0,
              "ticks": ""
             }
            },
            "type": "scatter3d"
           }
          ],
          "scattercarpet": [
           {
            "marker": {
             "colorbar": {
              "outlinewidth": 0,
              "ticks": ""
             }
            },
            "type": "scattercarpet"
           }
          ],
          "scattergeo": [
           {
            "marker": {
             "colorbar": {
              "outlinewidth": 0,
              "ticks": ""
             }
            },
            "type": "scattergeo"
           }
          ],
          "scattergl": [
           {
            "marker": {
             "colorbar": {
              "outlinewidth": 0,
              "ticks": ""
             }
            },
            "type": "scattergl"
           }
          ],
          "scattermapbox": [
           {
            "marker": {
             "colorbar": {
              "outlinewidth": 0,
              "ticks": ""
             }
            },
            "type": "scattermapbox"
           }
          ],
          "scatterpolar": [
           {
            "marker": {
             "colorbar": {
              "outlinewidth": 0,
              "ticks": ""
             }
            },
            "type": "scatterpolar"
           }
          ],
          "scatterpolargl": [
           {
            "marker": {
             "colorbar": {
              "outlinewidth": 0,
              "ticks": ""
             }
            },
            "type": "scatterpolargl"
           }
          ],
          "scatterternary": [
           {
            "marker": {
             "colorbar": {
              "outlinewidth": 0,
              "ticks": ""
             }
            },
            "type": "scatterternary"
           }
          ],
          "surface": [
           {
            "colorbar": {
             "outlinewidth": 0,
             "ticks": ""
            },
            "colorscale": [
             [
              0,
              "#0d0887"
             ],
             [
              0.1111111111111111,
              "#46039f"
             ],
             [
              0.2222222222222222,
              "#7201a8"
             ],
             [
              0.3333333333333333,
              "#9c179e"
             ],
             [
              0.4444444444444444,
              "#bd3786"
             ],
             [
              0.5555555555555556,
              "#d8576b"
             ],
             [
              0.6666666666666666,
              "#ed7953"
             ],
             [
              0.7777777777777778,
              "#fb9f3a"
             ],
             [
              0.8888888888888888,
              "#fdca26"
             ],
             [
              1,
              "#f0f921"
             ]
            ],
            "type": "surface"
           }
          ],
          "table": [
           {
            "cells": {
             "fill": {
              "color": "#EBF0F8"
             },
             "line": {
              "color": "white"
             }
            },
            "header": {
             "fill": {
              "color": "#C8D4E3"
             },
             "line": {
              "color": "white"
             }
            },
            "type": "table"
           }
          ]
         },
         "layout": {
          "annotationdefaults": {
           "arrowcolor": "#2a3f5f",
           "arrowhead": 0,
           "arrowwidth": 1
          },
          "autotypenumbers": "strict",
          "coloraxis": {
           "colorbar": {
            "outlinewidth": 0,
            "ticks": ""
           }
          },
          "colorscale": {
           "diverging": [
            [
             0,
             "#8e0152"
            ],
            [
             0.1,
             "#c51b7d"
            ],
            [
             0.2,
             "#de77ae"
            ],
            [
             0.3,
             "#f1b6da"
            ],
            [
             0.4,
             "#fde0ef"
            ],
            [
             0.5,
             "#f7f7f7"
            ],
            [
             0.6,
             "#e6f5d0"
            ],
            [
             0.7,
             "#b8e186"
            ],
            [
             0.8,
             "#7fbc41"
            ],
            [
             0.9,
             "#4d9221"
            ],
            [
             1,
             "#276419"
            ]
           ],
           "sequential": [
            [
             0,
             "#0d0887"
            ],
            [
             0.1111111111111111,
             "#46039f"
            ],
            [
             0.2222222222222222,
             "#7201a8"
            ],
            [
             0.3333333333333333,
             "#9c179e"
            ],
            [
             0.4444444444444444,
             "#bd3786"
            ],
            [
             0.5555555555555556,
             "#d8576b"
            ],
            [
             0.6666666666666666,
             "#ed7953"
            ],
            [
             0.7777777777777778,
             "#fb9f3a"
            ],
            [
             0.8888888888888888,
             "#fdca26"
            ],
            [
             1,
             "#f0f921"
            ]
           ],
           "sequentialminus": [
            [
             0,
             "#0d0887"
            ],
            [
             0.1111111111111111,
             "#46039f"
            ],
            [
             0.2222222222222222,
             "#7201a8"
            ],
            [
             0.3333333333333333,
             "#9c179e"
            ],
            [
             0.4444444444444444,
             "#bd3786"
            ],
            [
             0.5555555555555556,
             "#d8576b"
            ],
            [
             0.6666666666666666,
             "#ed7953"
            ],
            [
             0.7777777777777778,
             "#fb9f3a"
            ],
            [
             0.8888888888888888,
             "#fdca26"
            ],
            [
             1,
             "#f0f921"
            ]
           ]
          },
          "colorway": [
           "#636efa",
           "#EF553B",
           "#00cc96",
           "#ab63fa",
           "#FFA15A",
           "#19d3f3",
           "#FF6692",
           "#B6E880",
           "#FF97FF",
           "#FECB52"
          ],
          "font": {
           "color": "#2a3f5f"
          },
          "geo": {
           "bgcolor": "white",
           "lakecolor": "white",
           "landcolor": "#E5ECF6",
           "showlakes": true,
           "showland": true,
           "subunitcolor": "white"
          },
          "hoverlabel": {
           "align": "left"
          },
          "hovermode": "closest",
          "mapbox": {
           "style": "light"
          },
          "paper_bgcolor": "white",
          "plot_bgcolor": "#E5ECF6",
          "polar": {
           "angularaxis": {
            "gridcolor": "white",
            "linecolor": "white",
            "ticks": ""
           },
           "bgcolor": "#E5ECF6",
           "radialaxis": {
            "gridcolor": "white",
            "linecolor": "white",
            "ticks": ""
           }
          },
          "scene": {
           "xaxis": {
            "backgroundcolor": "#E5ECF6",
            "gridcolor": "white",
            "gridwidth": 2,
            "linecolor": "white",
            "showbackground": true,
            "ticks": "",
            "zerolinecolor": "white"
           },
           "yaxis": {
            "backgroundcolor": "#E5ECF6",
            "gridcolor": "white",
            "gridwidth": 2,
            "linecolor": "white",
            "showbackground": true,
            "ticks": "",
            "zerolinecolor": "white"
           },
           "zaxis": {
            "backgroundcolor": "#E5ECF6",
            "gridcolor": "white",
            "gridwidth": 2,
            "linecolor": "white",
            "showbackground": true,
            "ticks": "",
            "zerolinecolor": "white"
           }
          },
          "shapedefaults": {
           "line": {
            "color": "#2a3f5f"
           }
          },
          "ternary": {
           "aaxis": {
            "gridcolor": "white",
            "linecolor": "white",
            "ticks": ""
           },
           "baxis": {
            "gridcolor": "white",
            "linecolor": "white",
            "ticks": ""
           },
           "bgcolor": "#E5ECF6",
           "caxis": {
            "gridcolor": "white",
            "linecolor": "white",
            "ticks": ""
           }
          },
          "title": {
           "x": 0.05
          },
          "xaxis": {
           "automargin": true,
           "gridcolor": "white",
           "linecolor": "white",
           "ticks": "",
           "title": {
            "standoff": 15
           },
           "zerolinecolor": "white",
           "zerolinewidth": 2
          },
          "yaxis": {
           "automargin": true,
           "gridcolor": "white",
           "linecolor": "white",
           "ticks": "",
           "title": {
            "standoff": 15
           },
           "zerolinecolor": "white",
           "zerolinewidth": 2
          }
         }
        },
        "xaxis": {
         "autorange": true,
         "range": [
          1.690872210953347,
          4.709127789046653
         ],
         "type": "linear"
        },
        "xaxis2": {
         "autorange": true,
         "range": [
          3.8363083164300202,
          8.36369168356998
         ],
         "type": "linear"
        },
        "xaxis3": {
         "autorange": true,
         "range": [
          -0.20912778904665316,
          2.809127789046653
         ],
         "type": "linear"
        },
        "xaxis4": {
         "autorange": true,
         "range": [
          0.24006085192697757,
          7.659939148073023
         ],
         "type": "linear"
        },
        "yaxis": {
         "autorange": true,
         "range": [
          1.690872210953347,
          4.709127789046653
         ],
         "type": "linear"
        },
        "yaxis2": {
         "autorange": true,
         "range": [
          3.8363083164300202,
          8.36369168356998
         ],
         "type": "linear"
        },
        "yaxis3": {
         "autorange": true,
         "range": [
          -0.20912778904665316,
          2.809127789046653
         ],
         "type": "linear"
        },
        "yaxis4": {
         "autorange": true,
         "range": [
          0.24006085192697757,
          7.659939148073023
         ],
         "type": "linear"
        }
       }
      },
      "image/png": "[encoded data removed]",
      "text/html": [
       "<div>                            <div id=\"1ece0194-678d-4b5e-87cb-7dbcfa8d645e\" class=\"plotly-graph-div\" style=\"height:525px; width:100%;\"></div>            <script type=\"text/javascript\">                require([\"plotly\"], function(Plotly) {                    window.PLOTLYENV=window.PLOTLYENV || {};                                    if (document.getElementById(\"1ece0194-678d-4b5e-87cb-7dbcfa8d645e\")) {                    Plotly.newPlot(                        \"1ece0194-678d-4b5e-87cb-7dbcfa8d645e\",                        [{\"diagonal\": {\"visible\": false}, \"dimensions\": [{\"axis\": {\"matches\": true}, \"label\": \"sepal_width\", \"values\": [3.5, 3.0, 3.2, 3.1, 3.6, 3.9, 3.4, 3.4, 2.9, 3.1, 3.7, 3.4, 3.0, 3.0, 4.0, 4.4, 3.9, 3.5, 3.8, 3.8, 3.4, 3.7, 3.6, 3.3, 3.4, 3.0, 3.4, 3.5, 3.4, 3.2, 3.1, 3.4, 4.1, 4.2, 3.1, 3.2, 3.5, 3.1, 3.0, 3.4, 3.5, 2.3, 3.2, 3.5, 3.8, 3.0, 3.8, 3.2, 3.7, 3.3]}, {\"axis\": {\"matches\": true}, \"label\": \"sepal_length\", \"values\": [5.1, 4.9, 4.7, 4.6, 5.0, 5.4, 4.6, 5.0, 4.4, 4.9, 5.4, 4.8, 4.8, 4.3, 5.8, 5.7, 5.4, 5.1, 5.7, 5.1, 5.4, 5.1, 4.6, 5.1, 4.8, 5.0, 5.0, 5.2, 5.2, 4.7, 4.8, 5.4, 5.2, 5.5, 4.9, 5.0, 5.5, 4.9, 4.4, 5.1, 5.0, 4.5, 4.4, 5.0, 5.1, 4.8, 5.1, 4.6, 5.3, 5.0]}, {\"axis\": {\"matches\": true}, \"label\": \"petal_width\", \"values\": [0.2, 0.2, 0.2, 0.2, 0.2, 0.4, 0.3, 0.2, 0.2, 0.1, 0.2, 0.2, 0.1, 0.1, 0.2, 0.4, 0.4, 0.3, 0.3, 0.3, 0.2, 0.4, 0.2, 0.5, 0.2, 0.2, 0.4, 0.2, 0.2, 0.2, 0.2, 0.4, 0.1, 0.2, 0.1, 0.2, 0.2, 0.1, 0.2, 0.2, 0.3, 0.3, 0.2, 0.6, 0.4, 0.3, 0.2, 0.2, 0.2, 0.2]}, {\"axis\": {\"matches\": true}, \"label\": \"petal_length\", \"values\": [1.4, 1.4, 1.3, 1.5, 1.4, 1.7, 1.4, 1.5, 1.4, 1.5, 1.5, 1.6, 1.4, 1.1, 1.2, 1.5, 1.3, 1.4, 1.7, 1.5, 1.7, 1.5, 1.0, 1.7, 1.9, 1.6, 1.6, 1.5, 1.4, 1.6, 1.6, 1.5, 1.5, 1.4, 1.5, 1.2, 1.3, 1.5, 1.3, 1.5, 1.3, 1.3, 1.3, 1.6, 1.9, 1.4, 1.6, 1.4, 1.5, 1.4]}], \"hovertemplate\": \"species=setosa<br>%{xaxis.title.text}=%{x}<br>%{yaxis.title.text}=%{y}<extra></extra>\", \"legendgroup\": \"setosa\", \"marker\": {\"color\": \"#636efa\", \"symbol\": \"circle\"}, \"name\": \"setosa\", \"showlegend\": true, \"type\": \"splom\"}, {\"diagonal\": {\"visible\": false}, \"dimensions\": [{\"axis\": {\"matches\": true}, \"label\": \"sepal_width\", \"values\": [3.2, 3.2, 3.1, 2.3, 2.8, 2.8, 3.3, 2.4, 2.9, 2.7, 2.0, 3.0, 2.2, 2.9, 2.9, 3.1, 3.0, 2.7, 2.2, 2.5, 3.2, 2.8, 2.5, 2.8, 2.9, 3.0, 2.8, 3.0, 2.9, 2.6, 2.4, 2.4, 2.7, 2.7, 3.0, 3.4, 3.1, 2.3, 3.0, 2.5, 2.6, 3.0, 2.6, 2.3, 2.7, 3.0, 2.9, 2.9, 2.5, 2.8]}, {\"axis\": {\"matches\": true}, \"label\": \"sepal_length\", \"values\": [7.0, 6.4, 6.9, 5.5, 6.5, 5.7, 6.3, 4.9, 6.6, 5.2, 5.0, 5.9, 6.0, 6.1, 5.6, 6.7, 5.6, 5.8, 6.2, 5.6, 5.9, 6.1, 6.3, 6.1, 6.4, 6.6, 6.8, 6.7, 6.0, 5.7, 5.5, 5.5, 5.8, 6.0, 5.4, 6.0, 6.7, 6.3, 5.6, 5.5, 5.5, 6.1, 5.8, 5.0, 5.6, 5.7, 5.7, 6.2, 5.1, 5.7]}, {\"axis\": {\"matches\": true}, \"label\": \"petal_width\", \"values\": [1.4, 1.5, 1.5, 1.3, 1.5, 1.3, 1.6, 1.0, 1.3, 1.4, 1.0, 1.5, 1.0, 1.4, 1.3, 1.4, 1.5, 1.0, 1.5, 1.1, 1.8, 1.3, 1.5, 1.2, 1.3, 1.4, 1.4, 1.7, 1.5, 1.0, 1.1, 1.0, 1.2, 1.6, 1.5, 1.6, 1.5, 1.3, 1.3, 1.3, 1.2, 1.4, 1.2, 1.0, 1.3, 1.2, 1.3, 1.3, 1.1, 1.3]}, {\"axis\": {\"matches\": true}, \"label\": \"petal_length\", \"values\": [4.7, 4.5, 4.9, 4.0, 4.6, 4.5, 4.7, 3.3, 4.6, 3.9, 3.5, 4.2, 4.0, 4.7, 3.6, 4.4, 4.5, 4.1, 4.5, 3.9, 4.8, 4.0, 4.9, 4.7, 4.3, 4.4, 4.8, 5.0, 4.5, 3.5, 3.8, 3.7, 3.9, 5.1, 4.5, 4.5, 4.7, 4.4, 4.1, 4.0, 4.4, 4.6, 4.0, 3.3, 4.2, 4.2, 4.2, 4.3, 3.0, 4.1]}], \"hovertemplate\": \"species=versicolor<br>%{xaxis.title.text}=%{x}<br>%{yaxis.title.text}=%{y}<extra></extra>\", \"legendgroup\": \"versicolor\", \"marker\": {\"color\": \"#EF553B\", \"symbol\": \"circle\"}, \"name\": \"versicolor\", \"showlegend\": true, \"type\": \"splom\"}, {\"diagonal\": {\"visible\": false}, \"dimensions\": [{\"axis\": {\"matches\": true}, \"label\": \"sepal_width\", \"values\": [3.3, 2.7, 3.0, 2.9, 3.0, 3.0, 2.5, 2.9, 2.5, 3.6, 3.2, 2.7, 3.0, 2.5, 2.8, 3.2, 3.0, 3.8, 2.6, 2.2, 3.2, 2.8, 2.8, 2.7, 3.3, 3.2, 2.8, 3.0, 2.8, 3.0, 2.8, 3.8, 2.8, 2.8, 2.6, 3.0, 3.4, 3.1, 3.0, 3.1, 3.1, 3.1, 2.7, 3.2, 3.3, 3.0, 2.5, 3.0, 3.4, 3.0]}, {\"axis\": {\"matches\": true}, \"label\": \"sepal_length\", \"values\": [6.3, 5.8, 7.1, 6.3, 6.5, 7.6, 4.9, 7.3, 6.7, 7.2, 6.5, 6.4, 6.8, 5.7, 5.8, 6.4, 6.5, 7.7, 7.7, 6.0, 6.9, 5.6, 7.7, 6.3, 6.7, 7.2, 6.2, 6.1, 6.4, 7.2, 7.4, 7.9, 6.4, 6.3, 6.1, 7.7, 6.3, 6.4, 6.0, 6.9, 6.7, 6.9, 5.8, 6.8, 6.7, 6.7, 6.3, 6.5, 6.2, 5.9]}, {\"axis\": {\"matches\": true}, \"label\": \"petal_width\", \"values\": [2.5, 1.9, 2.1, 1.8, 2.2, 2.1, 1.7, 1.8, 1.8, 2.5, 2.0, 1.9, 2.1, 2.0, 2.4, 2.3, 1.8, 2.2, 2.3, 1.5, 2.3, 2.0, 2.0, 1.8, 2.1, 1.8, 1.8, 1.8, 2.1, 1.6, 1.9, 2.0, 2.2, 1.5, 1.4, 2.3, 2.4, 1.8, 1.8, 2.1, 2.4, 2.3, 1.9, 2.3, 2.5, 2.3, 1.9, 2.0, 2.3, 1.8]}, {\"axis\": {\"matches\": true}, \"label\": \"petal_length\", \"values\": [6.0, 5.1, 5.9, 5.6, 5.8, 6.6, 4.5, 6.3, 5.8, 6.1, 5.1, 5.3, 5.5, 5.0, 5.1, 5.3, 5.5, 6.7, 6.9, 5.0, 5.7, 4.9, 6.7, 4.9, 5.7, 6.0, 4.8, 4.9, 5.6, 5.8, 6.1, 6.4, 5.6, 5.1, 5.6, 6.1, 5.6, 5.5, 4.8, 5.4, 5.6, 5.1, 5.1, 5.9, 5.7, 5.2, 5.0, 5.2, 5.4, 5.1]}], \"hovertemplate\": \"species=virginica<br>%{xaxis.title.text}=%{x}<br>%{yaxis.title.text}=%{y}<extra></extra>\", \"legendgroup\": \"virginica\", \"marker\": {\"color\": \"#00cc96\", \"symbol\": \"circle\"}, \"name\": \"virginica\", \"showlegend\": true, \"type\": \"splom\"}],                        {\"dragmode\": \"select\", \"legend\": {\"title\": {\"text\": \"species\"}, \"tracegroupgap\": 0}, \"margin\": {\"t\": 60}, \"template\": {\"data\": {\"bar\": [{\"error_x\": {\"color\": \"#2a3f5f\"}, \"error_y\": {\"color\": \"#2a3f5f\"}, \"marker\": {\"line\": {\"color\": \"#E5ECF6\", \"width\": 0.5}}, \"type\": \"bar\"}], \"barpolar\": [{\"marker\": {\"line\": {\"color\": \"#E5ECF6\", \"width\": 0.5}}, \"type\": \"barpolar\"}], \"carpet\": [{\"aaxis\": {\"endlinecolor\": \"#2a3f5f\", \"gridcolor\": \"white\", \"linecolor\": \"white\", \"minorgridcolor\": \"white\", \"startlinecolor\": \"#2a3f5f\"}, \"baxis\": {\"endlinecolor\": \"#2a3f5f\", \"gridcolor\": \"white\", \"linecolor\": \"white\", \"minorgridcolor\": \"white\", \"startlinecolor\": \"#2a3f5f\"}, \"type\": \"carpet\"}], \"choropleth\": [{\"colorbar\": {\"outlinewidth\": 0, \"ticks\": \"\"}, \"type\": \"choropleth\"}], \"contour\": [{\"colorbar\": {\"outlinewidth\": 0, \"ticks\": \"\"}, \"colorscale\": [[0.0, \"#0d0887\"], [0.1111111111111111, \"#46039f\"], [0.2222222222222222, \"#7201a8\"], [0.3333333333333333, \"#9c179e\"], [0.4444444444444444, \"#bd3786\"], [0.5555555555555556, \"#d8576b\"], [0.6666666666666666, \"#ed7953\"], [0.7777777777777778, \"#fb9f3a\"], [0.8888888888888888, \"#fdca26\"], [1.0, \"#f0f921\"]], \"type\": \"contour\"}], \"contourcarpet\": [{\"colorbar\": {\"outlinewidth\": 0, \"ticks\": \"\"}, \"type\": \"contourcarpet\"}], \"heatmap\": [{\"colorbar\": {\"outlinewidth\": 0, \"ticks\": \"\"}, \"colorscale\": [[0.0, \"#0d0887\"], [0.1111111111111111, \"#46039f\"], [0.2222222222222222, \"#7201a8\"], [0.3333333333333333, \"#9c179e\"], [0.4444444444444444, \"#bd3786\"], [0.5555555555555556, \"#d8576b\"], [0.6666666666666666, \"#ed7953\"], [0.7777777777777778, \"#fb9f3a\"], [0.8888888888888888, \"#fdca26\"], [1.0, \"#f0f921\"]], \"type\": \"heatmap\"}], \"heatmapgl\": [{\"colorbar\": {\"outlinewidth\": 0, \"ticks\": \"\"}, \"colorscale\": [[0.0, \"#0d0887\"], [0.1111111111111111, \"#46039f\"], [0.2222222222222222, \"#7201a8\"], [0.3333333333333333, \"#9c179e\"], [0.4444444444444444, \"#bd3786\"], [0.5555555555555556, \"#d8576b\"], [0.6666666666666666, \"#ed7953\"], [0.7777777777777778, \"#fb9f3a\"], [0.8888888888888888, \"#fdca26\"], [1.0, \"#f0f921\"]], \"type\": \"heatmapgl\"}], \"histogram\": [{\"marker\": {\"colorbar\": {\"outlinewidth\": 0, \"ticks\": \"\"}}, \"type\": \"histogram\"}], \"histogram2d\": [{\"colorbar\": {\"outlinewidth\": 0, \"ticks\": \"\"}, \"colorscale\": [[0.0, \"#0d0887\"], [0.1111111111111111, \"#46039f\"], [0.2222222222222222, \"#7201a8\"], [0.3333333333333333, \"#9c179e\"], [0.4444444444444444, \"#bd3786\"], [0.5555555555555556, \"#d8576b\"], [0.6666666666666666, \"#ed7953\"], [0.7777777777777778, \"#fb9f3a\"], [0.8888888888888888, \"#fdca26\"], [1.0, \"#f0f921\"]], \"type\": \"histogram2d\"}], \"histogram2dcontour\": [{\"colorbar\": {\"outlinewidth\": 0, \"ticks\": \"\"}, \"colorscale\": [[0.0, \"#0d0887\"], [0.1111111111111111, \"#46039f\"], [0.2222222222222222, \"#7201a8\"], [0.3333333333333333, \"#9c179e\"], [0.4444444444444444, \"#bd3786\"], [0.5555555555555556, \"#d8576b\"], [0.6666666666666666, \"#ed7953\"], [0.7777777777777778, \"#fb9f3a\"], [0.8888888888888888, \"#fdca26\"], [1.0, \"#f0f921\"]], \"type\": \"histogram2dcontour\"}], \"mesh3d\": [{\"colorbar\": {\"outlinewidth\": 0, \"ticks\": \"\"}, \"type\": \"mesh3d\"}], \"parcoords\": [{\"line\": {\"colorbar\": {\"outlinewidth\": 0, \"ticks\": \"\"}}, \"type\": \"parcoords\"}], \"pie\": [{\"automargin\": true, \"type\": \"pie\"}], \"scatter\": [{\"marker\": {\"colorbar\": {\"outlinewidth\": 0, \"ticks\": \"\"}}, \"type\": \"scatter\"}], \"scatter3d\": [{\"line\": {\"colorbar\": {\"outlinewidth\": 0, \"ticks\": \"\"}}, \"marker\": {\"colorbar\": {\"outlinewidth\": 0, \"ticks\": \"\"}}, \"type\": \"scatter3d\"}], \"scattercarpet\": [{\"marker\": {\"colorbar\": {\"outlinewidth\": 0, \"ticks\": \"\"}}, \"type\": \"scattercarpet\"}], \"scattergeo\": [{\"marker\": {\"colorbar\": {\"outlinewidth\": 0, \"ticks\": \"\"}}, \"type\": \"scattergeo\"}], \"scattergl\": [{\"marker\": {\"colorbar\": {\"outlinewidth\": 0, \"ticks\": \"\"}}, \"type\": \"scattergl\"}], \"scattermapbox\": [{\"marker\": {\"colorbar\": {\"outlinewidth\": 0, \"ticks\": \"\"}}, \"type\": \"scattermapbox\"}], \"scatterpolar\": [{\"marker\": {\"colorbar\": {\"outlinewidth\": 0, \"ticks\": \"\"}}, \"type\": \"scatterpolar\"}], \"scatterpolargl\": [{\"marker\": {\"colorbar\": {\"outlinewidth\": 0, \"ticks\": \"\"}}, \"type\": \"scatterpolargl\"}], \"scatterternary\": [{\"marker\": {\"colorbar\": {\"outlinewidth\": 0, \"ticks\": \"\"}}, \"type\": \"scatterternary\"}], \"surface\": [{\"colorbar\": {\"outlinewidth\": 0, \"ticks\": \"\"}, \"colorscale\": [[0.0, \"#0d0887\"], [0.1111111111111111, \"#46039f\"], [0.2222222222222222, \"#7201a8\"], [0.3333333333333333, \"#9c179e\"], [0.4444444444444444, \"#bd3786\"], [0.5555555555555556, \"#d8576b\"], [0.6666666666666666, \"#ed7953\"], [0.7777777777777778, \"#fb9f3a\"], [0.8888888888888888, \"#fdca26\"], [1.0, \"#f0f921\"]], \"type\": \"surface\"}], \"table\": [{\"cells\": {\"fill\": {\"color\": \"#EBF0F8\"}, \"line\": {\"color\": \"white\"}}, \"header\": {\"fill\": {\"color\": \"#C8D4E3\"}, \"line\": {\"color\": \"white\"}}, \"type\": \"table\"}]}, \"layout\": {\"annotationdefaults\": {\"arrowcolor\": \"#2a3f5f\", \"arrowhead\": 0, \"arrowwidth\": 1}, \"autotypenumbers\": \"strict\", \"coloraxis\": {\"colorbar\": {\"outlinewidth\": 0, \"ticks\": \"\"}}, \"colorscale\": {\"diverging\": [[0, \"#8e0152\"], [0.1, \"#c51b7d\"], [0.2, \"#de77ae\"], [0.3, \"#f1b6da\"], [0.4, \"#fde0ef\"], [0.5, \"#f7f7f7\"], [0.6, \"#e6f5d0\"], [0.7, \"#b8e186\"], [0.8, \"#7fbc41\"], [0.9, \"#4d9221\"], [1, \"#276419\"]], \"sequential\": [[0.0, \"#0d0887\"], [0.1111111111111111, \"#46039f\"], [0.2222222222222222, \"#7201a8\"], [0.3333333333333333, \"#9c179e\"], [0.4444444444444444, \"#bd3786\"], [0.5555555555555556, \"#d8576b\"], [0.6666666666666666, \"#ed7953\"], [0.7777777777777778, \"#fb9f3a\"], [0.8888888888888888, \"#fdca26\"], [1.0, \"#f0f921\"]], \"sequentialminus\": [[0.0, \"#0d0887\"], [0.1111111111111111, \"#46039f\"], [0.2222222222222222, \"#7201a8\"], [0.3333333333333333, \"#9c179e\"], [0.4444444444444444, \"#bd3786\"], [0.5555555555555556, \"#d8576b\"], [0.6666666666666666, \"#ed7953\"], [0.7777777777777778, \"#fb9f3a\"], [0.8888888888888888, \"#fdca26\"], [1.0, \"#f0f921\"]]}, \"colorway\": [\"#636efa\", \"#EF553B\", \"#00cc96\", \"#ab63fa\", \"#FFA15A\", \"#19d3f3\", \"#FF6692\", \"#B6E880\", \"#FF97FF\", \"#FECB52\"], \"font\": {\"color\": \"#2a3f5f\"}, \"geo\": {\"bgcolor\": \"white\", \"lakecolor\": \"white\", \"landcolor\": \"#E5ECF6\", \"showlakes\": true, \"showland\": true, \"subunitcolor\": \"white\"}, \"hoverlabel\": {\"align\": \"left\"}, \"hovermode\": \"closest\", \"mapbox\": {\"style\": \"light\"}, \"paper_bgcolor\": \"white\", \"plot_bgcolor\": \"#E5ECF6\", \"polar\": {\"angularaxis\": {\"gridcolor\": \"white\", \"linecolor\": \"white\", \"ticks\": \"\"}, \"bgcolor\": \"#E5ECF6\", \"radialaxis\": {\"gridcolor\": \"white\", \"linecolor\": \"white\", \"ticks\": \"\"}}, \"scene\": {\"xaxis\": {\"backgroundcolor\": \"#E5ECF6\", \"gridcolor\": \"white\", \"gridwidth\": 2, \"linecolor\": \"white\", \"showbackground\": true, \"ticks\": \"\", \"zerolinecolor\": \"white\"}, \"yaxis\": {\"backgroundcolor\": \"#E5ECF6\", \"gridcolor\": \"white\", \"gridwidth\": 2, \"linecolor\": \"white\", \"showbackground\": true, \"ticks\": \"\", \"zerolinecolor\": \"white\"}, \"zaxis\": {\"backgroundcolor\": \"#E5ECF6\", \"gridcolor\": \"white\", \"gridwidth\": 2, \"linecolor\": \"white\", \"showbackground\": true, \"ticks\": \"\", \"zerolinecolor\": \"white\"}}, \"shapedefaults\": {\"line\": {\"color\": \"#2a3f5f\"}}, \"ternary\": {\"aaxis\": {\"gridcolor\": \"white\", \"linecolor\": \"white\", \"ticks\": \"\"}, \"baxis\": {\"gridcolor\": \"white\", \"linecolor\": \"white\", \"ticks\": \"\"}, \"bgcolor\": \"#E5ECF6\", \"caxis\": {\"gridcolor\": \"white\", \"linecolor\": \"white\", \"ticks\": \"\"}}, \"title\": {\"x\": 0.05}, \"xaxis\": {\"automargin\": true, \"gridcolor\": \"white\", \"linecolor\": \"white\", \"ticks\": \"\", \"title\": {\"standoff\": 15}, \"zerolinecolor\": \"white\", \"zerolinewidth\": 2}, \"yaxis\": {\"automargin\": true, \"gridcolor\": \"white\", \"linecolor\": \"white\", \"ticks\": \"\", \"title\": {\"standoff\": 15}, \"zerolinecolor\": \"white\", \"zerolinewidth\": 2}}}},                        {\"responsive\": true}                    ).then(function(){\n",
       "                            \n",
       "var gd = document.getElementById('1ece0194-678d-4b5e-87cb-7dbcfa8d645e');\n",
       "var x = new MutationObserver(function (mutations, observer) {{\n",
       "        var display = window.getComputedStyle(gd).display;\n",
       "        if (!display || display === 'none') {{\n",
       "            console.log([gd, 'removed!']);\n",
       "            Plotly.purge(gd);\n",
       "            observer.disconnect();\n",
       "        }}\n",
       "}});\n",
       "\n",
       "// Listen for the removal of the full notebook cells\n",
       "var notebookContainer = gd.closest('#notebook-container');\n",
       "if (notebookContainer) {{\n",
       "    x.observe(notebookContainer, {childList: true});\n",
       "}}\n",
       "\n",
       "// Listen for the clearing of the current output cell\n",
       "var outputEl = gd.closest('.output');\n",
       "if (outputEl) {{\n",
       "    x.observe(outputEl, {childList: true});\n",
       "}}\n",
       "\n",
       "                        })                };                });            </script>        </div>"
      ]
     },
     "metadata": {},
     "output_type": "display_data"
    }
   ],
   "source": [
    "fig = px.scatter_matrix(\n",
    "    df,\n",
    "    dimensions=features,\n",
    "    color=\"species\"\n",
    ")\n",
    "fig.update_traces(diagonal_visible=False)\n",
    "fig.show()"
   ]
  },
  {
   "cell_type": "code",
   "execution_count": 4,
   "metadata": {},
   "outputs": [
    {
     "data": {
      "application/vnd.plotly.v1+json": {
       "config": {
        "plotlyServerURL": "https://plot.ly"
       },
       "data": [
        {
         "diagonal": {
          "visible": false
         },
         "dimensions": [
          {
           "axis": {
            "matches": true
           },
           "label": "PC 1 (92.5%)",
           "values": [
            -2.6842071251039457,
            -2.7153906156341274,
            -2.8898195396179136,
            -2.7464371973087336,
            -2.7285929818313144,
            -2.279897361009597,
            -2.820890682180629,
            -2.6264819933238184,
            -2.8879585653356337,
            -2.67384468671912,
            -2.5065267893389023,
            -2.6131427182710554,
            -2.787433975997097,
            -3.2252004462749797,
            -2.643543216941146,
            -2.3838693237993747,
            -2.622526203125808,
            -2.648322732479126,
            -2.199077961430762,
            -2.587346188917737,
            -2.310531701313133,
            -2.543234907303695,
            -3.2158576949001048,
            -2.3031285376638815,
            -2.3561710866838967,
            -2.5079172268378795,
            -2.469055997545122,
            -2.5623909468367496,
            -2.6398212683765814,
            -2.6328479080307567,
            -2.588462051303391,
            -2.410077337121595,
            -2.6476366733968995,
            -2.5971594770759174,
            -2.67384468671912,
            -2.866999846932534,
            -2.6252284646804207,
            -2.67384468671912,
            -2.9818426648539074,
            -2.5903230255856733,
            -2.7701389107463235,
            -2.852211081566391,
            -2.9982964428323506,
            -2.405514101284701,
            -2.2088329541767044,
            -2.715665190747454,
            -2.537573371013506,
            -2.840321296827008,
            -2.5426857570770474,
            -2.7039123148636497
           ]
          },
          {
           "axis": {
            "matches": true
           },
           "label": "PC 2 (5.3%)",
           "values": [
            0.3266073147643878,
            -0.1695568475560264,
            -0.13734560960502792,
            -0.31112431575199173,
            0.33392456356845496,
            0.7477827132251336,
            -0.0821045110246807,
            0.17040534896028992,
            -0.5707980263315916,
            -0.10669170375273855,
            0.6519350136725721,
            0.02152063196025819,
            -0.22774018887110634,
            -0.5032799094854257,
            1.1861948994134495,
            1.3447543445598624,
            0.8180896745965952,
            0.31913666775088473,
            0.8792440880917366,
            0.5204736388059681,
            0.39786782158889195,
            0.4400317546598155,
            0.14161557162558397,
            0.10552267842998239,
            -0.03120958906833811,
            -0.13905633991317415,
            0.13788731459041786,
            0.3746845627501061,
            0.31929006596032183,
            -0.19007583063362388,
            -0.19739307943769077,
            0.41808000824761615,
            0.8199826325595073,
            1.1000219280072687,
            -0.10669170375273855,
            0.07719309572358724,
            0.6068000084215862,
            -0.10669170375273855,
            -0.48025004885607636,
            0.2360593372888729,
            0.2710594197651672,
            -0.9328653674695446,
            -0.3343075745907768,
            0.195917257696061,
            0.4426960304210031,
            -0.24268148289811295,
            0.510367545476606,
            -0.22057633827647635,
            0.5862810253439885,
            0.11501085217050563
           ]
          },
          {
           "axis": {
            "matches": true
           },
           "label": "PC 3 (1.7%)",
           "values": [
            -0.02151183700196235,
            -0.2035214250054912,
            0.02470924099895738,
            0.03767197528530111,
            0.09622969977460932,
            0.17432561901640273,
            0.2642510851906961,
            -0.015801510264315,
            0.02733540611450733,
            -0.19153329973564465,
            -0.06927499581393105,
            0.10765035324990449,
            -0.20032778809538918,
            0.0684136291723304,
            -0.1445057040096353,
            0.283730663939777,
            0.14531598882161795,
            0.0333942540706981,
            -0.11452146479835278,
            0.2195720880008249,
            -0.2336956070979694,
            0.21483637027967542,
            0.29961898151087113,
            0.045680041274487236,
            0.1294075758959931,
            -0.24711633789085968,
            0.10126307942970227,
            -0.07235915743602819,
            -0.13925337377853464,
            0.04646646364504566,
            -0.07127507313152603,
            -0.13838824005004072,
            0.23058560425417246,
            0.1635819126236625,
            -0.19153329973564465,
            -0.156842350498024,
            -0.2611631564817054,
            -0.19153329973564465,
            0.07972480735962129,
            -0.07390123824707646,
            0.08424157450476334,
            -0.3409614911071511,
            0.19900842494724177,
            0.2707170703688335,
            0.30348780926827024,
            -0.09051560595006812,
            0.17191840447686055,
            0.09006137653041511,
            -0.011175267831169055,
            -0.08269572660682147
           ]
          },
          {
           "axis": {
            "matches": true
           },
           "label": "PC 4 (0.5%)",
           "values": [
            0.0010061572415414933,
            0.09960242401681504,
            0.019304542832508913,
            -0.07595527410853589,
            -0.0631287327171095,
            -0.02714680369790101,
            -0.05009962506284994,
            -0.046281760966509884,
            -0.02661541432565594,
            -0.05589096599605559,
            -0.016608247824484074,
            -0.157704569133212,
            -0.007235086738118943,
            -0.021946664123407397,
            0.15698096151652366,
            0.0019261817096647108,
            0.1647407912340746,
            0.07611821327962355,
            0.025326939656375762,
            -0.06908199117876092,
            -0.015323739565081406,
            0.038439500101117956,
            0.0018570433474501002,
            0.14724549964039962,
            -0.3016202653321939,
            0.03538408126768324,
            0.05597045237666049,
            -0.015240286774598481,
            0.06514104720019236,
            -0.12461115336647241,
            -0.06047626340782173,
            0.23084416997707077,
            -0.2848089542634613,
            -0.09895807058362019,
            -0.05589096599605559,
            0.16245280571606593,
            0.17587987484195147,
            -0.05589096599605559,
            -0.011052950834459112,
            -0.014556306249655909,
            0.09236465729576343,
            0.322650606613055,
            -0.07587182131805251,
            0.17378512921102804,
            -0.18585753007265463,
            0.14298902533804544,
            -0.19216594594983716,
            -0.06039281061733843,
            -0.0483337025413383,
            0.03409957300828095
           ]
          }
         ],
         "hovertemplate": "color=setosa<br>%{xaxis.title.text}=%{x}<br>%{yaxis.title.text}=%{y}<extra></extra>",
         "legendgroup": "setosa",
         "marker": {
          "color": "#636efa",
          "symbol": "circle"
         },
         "name": "setosa",
         "showlegend": true,
         "type": "splom"
        },
        {
         "diagonal": {
          "visible": false
         },
         "dimensions": [
          {
           "axis": {
            "matches": true
           },
           "label": "PC 1 (92.5%)",
           "values": [
            1.2847945878450713,
            0.9324107529829175,
            1.464061322779075,
            0.18096720634769878,
            1.0871344872070001,
            0.6404367495231457,
            1.095223709938478,
            -0.7514671406482262,
            1.0432977807062809,
            -0.01019007072785282,
            -0.5110861958950904,
            0.5110980606834775,
            0.26233575615318033,
            0.984044545169431,
            -0.1748640019656961,
            0.9275729420326991,
            0.6595927890562007,
            0.23454058625983584,
            0.9423617073988417,
            0.04324640032870494,
            1.1162407237538159,
            0.35678656783046103,
            1.2964688502855337,
            0.9205026489090095,
            0.714008213642833,
            0.8996408632837762,
            1.3310414188547195,
            1.557396272070702,
            0.812455548998002,
            -0.3073347556634042,
            -0.07034288894927138,
            -0.19188449210314537,
            0.13499495045137344,
            1.3787369827755829,
            0.587274853579911,
            0.8072054966767166,
            1.2204289662446788,
            0.8128677903690699,
            0.24519516169034616,
            0.16451342836925592,
            0.4630309888714247,
            0.8901604456511564,
            0.22887904996964767,
            -0.70708128392086,
            0.35553303918706386,
            0.331126947332723,
            0.3752382289467661,
            0.6416902781665431,
            -0.908463333123495,
            0.29780790740693414
           ]
          },
          {
           "axis": {
            "matches": true
           },
           "label": "PC 2 (5.3%)",
           "values": [
            0.6854391861329199,
            0.3191980898336487,
            0.5041898329724528,
            -0.8256039435761132,
            0.07539038928876729,
            -0.4173234829700257,
            0.28389121093848035,
            -1.001107512974394,
            0.2289569087770065,
            -0.7205748667019014,
            -1.2624919538621404,
            -0.10228410504597014,
            -0.547893298025337,
            -0.12436042022227797,
            -0.2518155710801705,
            0.4682362050431169,
            -0.35197629106031625,
            -0.3319218293621205,
            -0.5418222581500144,
            -0.5814894466123588,
            -0.08421401387837324,
            -0.06682382794136632,
            -0.32756151979494447,
            -0.1823903633279211,
            0.15037915314843703,
            0.32961097958188373,
            0.24466952060228903,
            0.26739258481276484,
            -0.16233157487863328,
            -0.36508661276616056,
            -0.702537931730726,
            -0.6774905443743574,
            -0.31170964270339624,
            -0.42120513821462835,
            -0.4832842677174821,
            0.19505396377111178,
            0.40803533700101735,
            -0.37067899831891016,
            -0.2667280356618479,
            -0.6796614693108138,
            -0.6695265465361225,
            -0.033812442746762726,
            -0.4022576201789115,
            -1.0084247617784607,
            -0.5032184874026623,
            -0.2111801406626266,
            -0.2916220248087797,
            0.01907117649127059,
            -0.7515687251694856,
            -0.3470165215985639
           ]
          },
          {
           "axis": {
            "matches": true
           },
           "label": "PC 3 (1.7%)",
           "values": [
            -0.4061295530769631,
            -0.017129909205125315,
            -0.3382607277179589,
            -0.17708285639336457,
            -0.3065444648144316,
            0.041188769353644177,
            0.17002253374149967,
            0.015672194238160155,
            -0.4148145661487038,
            0.2834372462541255,
            -0.2664899538224496,
            0.1323278904749737,
            -0.6919415783189644,
            -0.06215742761353894,
            0.09365863819195047,
            -0.3132294005685771,
            0.3283842970693476,
            -0.2702806708356938,
            -0.497348541177704,
            -0.2329635564825228,
            0.4598442265727532,
            -0.2274721803208831,
            -0.34751321258425016,
            -0.23161141855267023,
            -0.3203723328292696,
            -0.3147714813796254,
            -0.5212449247379846,
            -0.16463849085222862,
            0.03634357634449063,
            -0.3153371969389199,
            -0.24175804484226787,
            -0.3039165434636246,
            -0.17497330378776513,
            0.015480495121708173,
            0.44458375303487047,
            0.38945871138620236,
            -0.2365660868498279,
            -0.6128710500606728,
            0.18956248472924175,
            -0.057799238805744155,
            -0.0240538908898095,
            -0.00976802636842489,
            -0.2273627050328792,
            -0.10206934253841152,
            0.017889465896507483,
            0.08380907322251552,
            0.0790733555013658,
            -0.20417287686374616,
            -0.007736584506980426,
            0.012179139158859311
           ]
          },
          {
           "axis": {
            "matches": true
           },
           "label": "PC 4 (0.5%)",
           "values": [
            0.0192901168553435,
            -6.757941710499064e-06,
            -0.000857644047619441,
            0.09578444837157993,
            0.11338453900933707,
            -0.24267131206866585,
            -0.08497338932826724,
            -0.01651059215462981,
            -0.03752355359177024,
            -0.005945701975093421,
            0.04890880606342353,
            0.05010053515659475,
            0.061484989083400325,
            -0.16901066987095262,
            0.12494088656962886,
            0.10043888414556008,
            -0.18899152519294954,
            -0.21198499529228568,
            0.2606366850425495,
            -0.03956118073833005,
            -0.07721355961071602,
            0.12409000046372005,
            0.003246239102036986,
            -0.28682534670532017,
            0.04294123317350376,
            0.10112286467050263,
            0.0375050496558289,
            0.07035309510363978,
            -0.029680271083736276,
            0.07653037763062089,
            0.009094698519606741,
            -0.018045458785481684,
            0.034182914249866435,
            -0.17758073696002424,
            -0.2524424346266574,
            -0.11661539125463814,
            0.03163524398466046,
            0.15770049117443624,
            -0.1473280423371377,
            0.030965577887986255,
            -0.26844350832386893,
            -0.1534482063797553,
            0.0186204507586693,
            0.04762429780402104,
            -0.09807163534474157,
            -0.23868654239135995,
            -0.13116505111148086,
            -0.020509676260204376,
            0.23355863427434548,
            -0.05078371713668979
           ]
          }
         ],
         "hovertemplate": "color=versicolor<br>%{xaxis.title.text}=%{x}<br>%{yaxis.title.text}=%{y}<extra></extra>",
         "legendgroup": "versicolor",
         "marker": {
          "color": "#EF553B",
          "symbol": "circle"
         },
         "name": "versicolor",
         "showlegend": true,
         "type": "splom"
        },
        {
         "diagonal": {
          "visible": false
         },
         "dimensions": [
          {
           "axis": {
            "matches": true
           },
           "label": "PC 1 (92.5%)",
           "values": [
            2.531726980439558,
            1.4140722251737572,
            2.616484608284043,
            1.970814945906482,
            2.349757983950942,
            3.396879920678137,
            0.5193832450849367,
            2.9320050969913005,
            2.319672793874053,
            2.9181342336442504,
            1.6619349470194862,
            1.8023404526607327,
            2.1653788629533968,
            1.3445942175098242,
            1.5852672993086434,
            1.9047435782139122,
            1.949248781864498,
            3.4887653796563844,
            3.7946868612099687,
            1.298329824567816,
            2.428167259020848,
            1.1980973722749626,
            3.499265484298956,
            1.3876682501815554,
            2.275853649305694,
            2.614193830698333,
            1.257625182925136,
            1.2906696477376014,
            2.122853980508313,
            2.3875644023690272,
            2.8409609252853825,
            3.232342898295874,
            2.1587383731331347,
            1.4431026043759745,
            1.7796401068985697,
            3.0765216210206603,
            2.1449868567093033,
            1.9048629251371312,
            1.1688534694704031,
            2.107653731173268,
            2.314303394629547,
            1.9224508848357522,
            1.4140722251737572,
            2.5633227123408084,
            2.4193912198049796,
            1.9440170488777369,
            1.525663631313872,
            1.7640459355269822,
            1.901629075288232,
            1.3896661333194167
           ]
          },
          {
           "axis": {
            "matches": true
           },
           "label": "PC 2 (5.3%)",
           "values": [
            -0.01184223664030016,
            -0.5749250559123047,
            0.34193528698729453,
            -0.1811256947049138,
            -0.041882549654841686,
            0.5471680462301521,
            -1.1913516890506528,
            0.35237700618085954,
            -0.24554817060691045,
            0.7803806293720323,
            0.24203840103752247,
            -0.21615460662653638,
            0.21528028337300723,
            -0.7764154251768248,
            -0.5393070538471717,
            0.11881899098269876,
            0.04073025942776784,
            1.1715445442635644,
            0.25326557097253416,
            -0.761013936521508,
            0.3767819712541527,
            -0.6055789617645941,
            0.456773466964074,
            -0.2040309865701549,
            0.33338652575664224,
            0.5583669502788222,
            -0.17913699742322284,
            -0.11642525182937238,
            -0.21085488454948986,
            0.46251925072626016,
            0.3727425910490209,
            1.3705240359763335,
            -0.2183255315629932,
            -0.14380128908272632,
            -0.5014647947060157,
            0.6857644422460563,
            0.13890660887731493,
            0.048047508231834644,
            -0.16450249981508977,
            0.3714822491771058,
            0.18260885079369865,
            0.40927117617869563,
            -0.5749250559123047,
            0.2759745022398383,
            0.30350393770262896,
            0.18741522204601402,
            -0.37502084819182296,
            0.07851918642935751,
            0.11587674824796604,
            -0.28288670917226894
           ]
          },
          {
           "axis": {
            "matches": true
           },
           "label": "PC 3 (1.7%)",
           "values": [
            0.758458651528495,
            0.296398224305213,
            -0.11214137055436664,
            0.10653914864984576,
            0.2841106808661672,
            -0.3518731576273014,
            0.5466855311249487,
            -0.4236912783368972,
            -0.34992218335904945,
            0.42173893361376713,
            0.24281526346759313,
            -0.037695328493964675,
            0.03314818319913322,
            0.28286801822431823,
            0.6305704884623257,
            0.4801380797657285,
            0.04272909392943644,
            0.12932008336177514,
            -0.5169707159938947,
            -0.3448870474686996,
            0.2186490700467051,
            0.5126407650398146,
            -0.5769101867216482,
            -0.06351132177864799,
            0.2846781526607176,
            -0.20842334661879364,
            0.046977807449227194,
            0.231613560568306,
            0.15351588509125508,
            -0.4520239614491275,
            -0.5010315391382014,
            -0.11844877739515808,
            0.20842197616391564,
            -0.15408297110542718,
            -0.17581118605670365,
            -0.3364227412082235,
            0.7341847390548597,
            0.16047063070600812,
            0.28246088100237116,
            0.027437856461485326,
            0.32286040074238254,
            0.11549281596071757,
            0.296398224305213,
            0.29125361312685943,
            0.5043025169513597,
            0.1793028706811268,
            -0.12063644074491195,
            0.1307840534286688,
            0.7228735608675684,
            0.36231783163122117
           ]
          },
          {
           "axis": {
            "matches": true
           },
           "label": "PC 4 (0.5%)",
           "values": [
            -0.03259956851444956,
            -0.015695478279486006,
            0.06595604952643852,
            -0.23685862488186132,
            -0.0013127240036090412,
            -0.11121996802024864,
            -0.09879841992577924,
            -0.2554073688442786,
            -0.07626286251324566,
            0.10772931947885302,
            0.11944758456759058,
            0.07871345255565047,
            0.16266728030785266,
            0.1404818922583298,
            0.3274553666691282,
            0.217114500498995,
            -0.15784525195695603,
            -0.3116298379326808,
            0.056451643540974684,
            -0.042673718056128546,
            0.1838541791512894,
            0.05950003054907905,
            -0.1377595975908772,
            0.16376353673268987,
            -0.062230277600379955,
            -0.24044543308754104,
            0.14760054550703341,
            0.003084321573591337,
            0.05261243319103639,
            -0.2299068772141239,
            -0.020216625381557395,
            -0.25448734437615517,
            0.12772448922911864,
            -0.18992586408934103,
            -0.5035294527425077,
            0.3105890924377394,
            0.051766535137647694,
            -0.22198014191560683,
            0.019330765589731597,
            0.20995519851590377,
            0.27589665973045435,
            0.5040950067910501,
            -0.015695478279486006,
            0.05618492696844713,
            0.23821794655194872,
            0.4250816338661446,
            0.2557225645213718,
            0.1362945563181902,
            0.040872821848699156,
            -0.15631038532610417
           ]
          }
         ],
         "hovertemplate": "color=virginica<br>%{xaxis.title.text}=%{x}<br>%{yaxis.title.text}=%{y}<extra></extra>",
         "legendgroup": "virginica",
         "marker": {
          "color": "#00cc96",
          "symbol": "circle"
         },
         "name": "virginica",
         "showlegend": true,
         "type": "splom"
        }
       ],
       "layout": {
        "autosize": true,
        "dragmode": "pan",
        "legend": {
         "title": {
          "text": "color"
         },
         "tracegroupgap": 0
        },
        "margin": {
         "t": 60
        },
        "template": {
         "data": {
          "bar": [
           {
            "error_x": {
             "color": "#2a3f5f"
            },
            "error_y": {
             "color": "#2a3f5f"
            },
            "marker": {
             "line": {
              "color": "#E5ECF6",
              "width": 0.5
             }
            },
            "type": "bar"
           }
          ],
          "barpolar": [
           {
            "marker": {
             "line": {
              "color": "#E5ECF6",
              "width": 0.5
             }
            },
            "type": "barpolar"
           }
          ],
          "carpet": [
           {
            "aaxis": {
             "endlinecolor": "#2a3f5f",
             "gridcolor": "white",
             "linecolor": "white",
             "minorgridcolor": "white",
             "startlinecolor": "#2a3f5f"
            },
            "baxis": {
             "endlinecolor": "#2a3f5f",
             "gridcolor": "white",
             "linecolor": "white",
             "minorgridcolor": "white",
             "startlinecolor": "#2a3f5f"
            },
            "type": "carpet"
           }
          ],
          "choropleth": [
           {
            "colorbar": {
             "outlinewidth": 0,
             "ticks": ""
            },
            "type": "choropleth"
           }
          ],
          "contour": [
           {
            "colorbar": {
             "outlinewidth": 0,
             "ticks": ""
            },
            "colorscale": [
             [
              0,
              "#0d0887"
             ],
             [
              0.1111111111111111,
              "#46039f"
             ],
             [
              0.2222222222222222,
              "#7201a8"
             ],
             [
              0.3333333333333333,
              "#9c179e"
             ],
             [
              0.4444444444444444,
              "#bd3786"
             ],
             [
              0.5555555555555556,
              "#d8576b"
             ],
             [
              0.6666666666666666,
              "#ed7953"
             ],
             [
              0.7777777777777778,
              "#fb9f3a"
             ],
             [
              0.8888888888888888,
              "#fdca26"
             ],
             [
              1,
              "#f0f921"
             ]
            ],
            "type": "contour"
           }
          ],
          "contourcarpet": [
           {
            "colorbar": {
             "outlinewidth": 0,
             "ticks": ""
            },
            "type": "contourcarpet"
           }
          ],
          "heatmap": [
           {
            "colorbar": {
             "outlinewidth": 0,
             "ticks": ""
            },
            "colorscale": [
             [
              0,
              "#0d0887"
             ],
             [
              0.1111111111111111,
              "#46039f"
             ],
             [
              0.2222222222222222,
              "#7201a8"
             ],
             [
              0.3333333333333333,
              "#9c179e"
             ],
             [
              0.4444444444444444,
              "#bd3786"
             ],
             [
              0.5555555555555556,
              "#d8576b"
             ],
             [
              0.6666666666666666,
              "#ed7953"
             ],
             [
              0.7777777777777778,
              "#fb9f3a"
             ],
             [
              0.8888888888888888,
              "#fdca26"
             ],
             [
              1,
              "#f0f921"
             ]
            ],
            "type": "heatmap"
           }
          ],
          "heatmapgl": [
           {
            "colorbar": {
             "outlinewidth": 0,
             "ticks": ""
            },
            "colorscale": [
             [
              0,
              "#0d0887"
             ],
             [
              0.1111111111111111,
              "#46039f"
             ],
             [
              0.2222222222222222,
              "#7201a8"
             ],
             [
              0.3333333333333333,
              "#9c179e"
             ],
             [
              0.4444444444444444,
              "#bd3786"
             ],
             [
              0.5555555555555556,
              "#d8576b"
             ],
             [
              0.6666666666666666,
              "#ed7953"
             ],
             [
              0.7777777777777778,
              "#fb9f3a"
             ],
             [
              0.8888888888888888,
              "#fdca26"
             ],
             [
              1,
              "#f0f921"
             ]
            ],
            "type": "heatmapgl"
           }
          ],
          "histogram": [
           {
            "marker": {
             "colorbar": {
              "outlinewidth": 0,
              "ticks": ""
             }
            },
            "type": "histogram"
           }
          ],
          "histogram2d": [
           {
            "colorbar": {
             "outlinewidth": 0,
             "ticks": ""
            },
            "colorscale": [
             [
              0,
              "#0d0887"
             ],
             [
              0.1111111111111111,
              "#46039f"
             ],
             [
              0.2222222222222222,
              "#7201a8"
             ],
             [
              0.3333333333333333,
              "#9c179e"
             ],
             [
              0.4444444444444444,
              "#bd3786"
             ],
             [
              0.5555555555555556,
              "#d8576b"
             ],
             [
              0.6666666666666666,
              "#ed7953"
             ],
             [
              0.7777777777777778,
              "#fb9f3a"
             ],
             [
              0.8888888888888888,
              "#fdca26"
             ],
             [
              1,
              "#f0f921"
             ]
            ],
            "type": "histogram2d"
           }
          ],
          "histogram2dcontour": [
           {
            "colorbar": {
             "outlinewidth": 0,
             "ticks": ""
            },
            "colorscale": [
             [
              0,
              "#0d0887"
             ],
             [
              0.1111111111111111,
              "#46039f"
             ],
             [
              0.2222222222222222,
              "#7201a8"
             ],
             [
              0.3333333333333333,
              "#9c179e"
             ],
             [
              0.4444444444444444,
              "#bd3786"
             ],
             [
              0.5555555555555556,
              "#d8576b"
             ],
             [
              0.6666666666666666,
              "#ed7953"
             ],
             [
              0.7777777777777778,
              "#fb9f3a"
             ],
             [
              0.8888888888888888,
              "#fdca26"
             ],
             [
              1,
              "#f0f921"
             ]
            ],
            "type": "histogram2dcontour"
           }
          ],
          "mesh3d": [
           {
            "colorbar": {
             "outlinewidth": 0,
             "ticks": ""
            },
            "type": "mesh3d"
           }
          ],
          "parcoords": [
           {
            "line": {
             "colorbar": {
              "outlinewidth": 0,
              "ticks": ""
             }
            },
            "type": "parcoords"
           }
          ],
          "pie": [
           {
            "automargin": true,
            "type": "pie"
           }
          ],
          "scatter": [
           {
            "marker": {
             "colorbar": {
              "outlinewidth": 0,
              "ticks": ""
             }
            },
            "type": "scatter"
           }
          ],
          "scatter3d": [
           {
            "line": {
             "colorbar": {
              "outlinewidth": 0,
              "ticks": ""
             }
            },
            "marker": {
             "colorbar": {
              "outlinewidth": 0,
              "ticks": ""
             }
            },
            "type": "scatter3d"
           }
          ],
          "scattercarpet": [
           {
            "marker": {
             "colorbar": {
              "outlinewidth": 0,
              "ticks": ""
             }
            },
            "type": "scattercarpet"
           }
          ],
          "scattergeo": [
           {
            "marker": {
             "colorbar": {
              "outlinewidth": 0,
              "ticks": ""
             }
            },
            "type": "scattergeo"
           }
          ],
          "scattergl": [
           {
            "marker": {
             "colorbar": {
              "outlinewidth": 0,
              "ticks": ""
             }
            },
            "type": "scattergl"
           }
          ],
          "scattermapbox": [
           {
            "marker": {
             "colorbar": {
              "outlinewidth": 0,
              "ticks": ""
             }
            },
            "type": "scattermapbox"
           }
          ],
          "scatterpolar": [
           {
            "marker": {
             "colorbar": {
              "outlinewidth": 0,
              "ticks": ""
             }
            },
            "type": "scatterpolar"
           }
          ],
          "scatterpolargl": [
           {
            "marker": {
             "colorbar": {
              "outlinewidth": 0,
              "ticks": ""
             }
            },
            "type": "scatterpolargl"
           }
          ],
          "scatterternary": [
           {
            "marker": {
             "colorbar": {
              "outlinewidth": 0,
              "ticks": ""
             }
            },
            "type": "scatterternary"
           }
          ],
          "surface": [
           {
            "colorbar": {
             "outlinewidth": 0,
             "ticks": ""
            },
            "colorscale": [
             [
              0,
              "#0d0887"
             ],
             [
              0.1111111111111111,
              "#46039f"
             ],
             [
              0.2222222222222222,
              "#7201a8"
             ],
             [
              0.3333333333333333,
              "#9c179e"
             ],
             [
              0.4444444444444444,
              "#bd3786"
             ],
             [
              0.5555555555555556,
              "#d8576b"
             ],
             [
              0.6666666666666666,
              "#ed7953"
             ],
             [
              0.7777777777777778,
              "#fb9f3a"
             ],
             [
              0.8888888888888888,
              "#fdca26"
             ],
             [
              1,
              "#f0f921"
             ]
            ],
            "type": "surface"
           }
          ],
          "table": [
           {
            "cells": {
             "fill": {
              "color": "#EBF0F8"
             },
             "line": {
              "color": "white"
             }
            },
            "header": {
             "fill": {
              "color": "#C8D4E3"
             },
             "line": {
              "color": "white"
             }
            },
            "type": "table"
           }
          ]
         },
         "layout": {
          "annotationdefaults": {
           "arrowcolor": "#2a3f5f",
           "arrowhead": 0,
           "arrowwidth": 1
          },
          "autotypenumbers": "strict",
          "coloraxis": {
           "colorbar": {
            "outlinewidth": 0,
            "ticks": ""
           }
          },
          "colorscale": {
           "diverging": [
            [
             0,
             "#8e0152"
            ],
            [
             0.1,
             "#c51b7d"
            ],
            [
             0.2,
             "#de77ae"
            ],
            [
             0.3,
             "#f1b6da"
            ],
            [
             0.4,
             "#fde0ef"
            ],
            [
             0.5,
             "#f7f7f7"
            ],
            [
             0.6,
             "#e6f5d0"
            ],
            [
             0.7,
             "#b8e186"
            ],
            [
             0.8,
             "#7fbc41"
            ],
            [
             0.9,
             "#4d9221"
            ],
            [
             1,
             "#276419"
            ]
           ],
           "sequential": [
            [
             0,
             "#0d0887"
            ],
            [
             0.1111111111111111,
             "#46039f"
            ],
            [
             0.2222222222222222,
             "#7201a8"
            ],
            [
             0.3333333333333333,
             "#9c179e"
            ],
            [
             0.4444444444444444,
             "#bd3786"
            ],
            [
             0.5555555555555556,
             "#d8576b"
            ],
            [
             0.6666666666666666,
             "#ed7953"
            ],
            [
             0.7777777777777778,
             "#fb9f3a"
            ],
            [
             0.8888888888888888,
             "#fdca26"
            ],
            [
             1,
             "#f0f921"
            ]
           ],
           "sequentialminus": [
            [
             0,
             "#0d0887"
            ],
            [
             0.1111111111111111,
             "#46039f"
            ],
            [
             0.2222222222222222,
             "#7201a8"
            ],
            [
             0.3333333333333333,
             "#9c179e"
            ],
            [
             0.4444444444444444,
             "#bd3786"
            ],
            [
             0.5555555555555556,
             "#d8576b"
            ],
            [
             0.6666666666666666,
             "#ed7953"
            ],
            [
             0.7777777777777778,
             "#fb9f3a"
            ],
            [
             0.8888888888888888,
             "#fdca26"
            ],
            [
             1,
             "#f0f921"
            ]
           ]
          },
          "colorway": [
           "#636efa",
           "#EF553B",
           "#00cc96",
           "#ab63fa",
           "#FFA15A",
           "#19d3f3",
           "#FF6692",
           "#B6E880",
           "#FF97FF",
           "#FECB52"
          ],
          "font": {
           "color": "#2a3f5f"
          },
          "geo": {
           "bgcolor": "white",
           "lakecolor": "white",
           "landcolor": "#E5ECF6",
           "showlakes": true,
           "showland": true,
           "subunitcolor": "white"
          },
          "hoverlabel": {
           "align": "left"
          },
          "hovermode": "closest",
          "mapbox": {
           "style": "light"
          },
          "paper_bgcolor": "white",
          "plot_bgcolor": "#E5ECF6",
          "polar": {
           "angularaxis": {
            "gridcolor": "white",
            "linecolor": "white",
            "ticks": ""
           },
           "bgcolor": "#E5ECF6",
           "radialaxis": {
            "gridcolor": "white",
            "linecolor": "white",
            "ticks": ""
           }
          },
          "scene": {
           "xaxis": {
            "backgroundcolor": "#E5ECF6",
            "gridcolor": "white",
            "gridwidth": 2,
            "linecolor": "white",
            "showbackground": true,
            "ticks": "",
            "zerolinecolor": "white"
           },
           "yaxis": {
            "backgroundcolor": "#E5ECF6",
            "gridcolor": "white",
            "gridwidth": 2,
            "linecolor": "white",
            "showbackground": true,
            "ticks": "",
            "zerolinecolor": "white"
           },
           "zaxis": {
            "backgroundcolor": "#E5ECF6",
            "gridcolor": "white",
            "gridwidth": 2,
            "linecolor": "white",
            "showbackground": true,
            "ticks": "",
            "zerolinecolor": "white"
           }
          },
          "shapedefaults": {
           "line": {
            "color": "#2a3f5f"
           }
          },
          "ternary": {
           "aaxis": {
            "gridcolor": "white",
            "linecolor": "white",
            "ticks": ""
           },
           "baxis": {
            "gridcolor": "white",
            "linecolor": "white",
            "ticks": ""
           },
           "bgcolor": "#E5ECF6",
           "caxis": {
            "gridcolor": "white",
            "linecolor": "white",
            "ticks": ""
           }
          },
          "title": {
           "x": 0.05
          },
          "xaxis": {
           "automargin": true,
           "gridcolor": "white",
           "linecolor": "white",
           "ticks": "",
           "title": {
            "standoff": 15
           },
           "zerolinecolor": "white",
           "zerolinewidth": 2
          },
          "yaxis": {
           "automargin": true,
           "gridcolor": "white",
           "linecolor": "white",
           "ticks": "",
           "title": {
            "standoff": 15
           },
           "zerolinecolor": "white",
           "zerolinewidth": 2
          }
         }
        },
        "xaxis": {
         "autorange": false,
         "range": [
          -4.129384714074765,
          4.6988711290097545
         ],
         "type": "linear"
        },
        "xaxis2": {
         "autorange": false,
         "range": [
          -1.6016329586384954,
          1.7096650407526885
         ],
         "type": "linear"
        },
        "xaxis3": {
         "autorange": false,
         "range": [
          -0.8787578351045907,
          0.9452749083141214
         ],
         "type": "linear"
        },
        "xaxis4": {
         "autorange": false,
         "range": [
          -0.6333147533112318,
          0.6338803073597741
         ],
         "type": "linear"
        },
        "yaxis": {
         "autorange": false,
         "range": [
          -4.129384714074765,
          4.6988711290097545
         ],
         "type": "linear"
        },
        "yaxis2": {
         "autorange": false,
         "range": [
          -1.6016329586384954,
          1.7096650407526885
         ],
         "type": "linear"
        },
        "yaxis3": {
         "autorange": false,
         "range": [
          -0.8787578351045907,
          0.9452749083141214
         ],
         "type": "linear"
        },
        "yaxis4": {
         "autorange": false,
         "range": [
          -0.6333147533112318,
          0.6338803073597741
         ],
         "type": "linear"
        }
       }
      },
      "image/png": "[encoded data removed]",
      "text/html": [
       "<div>                            <div id=\"89bb1f36-1565-43f7-b9d6-7db492dd2bc8\" class=\"plotly-graph-div\" style=\"height:525px; width:100%;\"></div>            <script type=\"text/javascript\">                require([\"plotly\"], function(Plotly) {                    window.PLOTLYENV=window.PLOTLYENV || {};                                    if (document.getElementById(\"89bb1f36-1565-43f7-b9d6-7db492dd2bc8\")) {                    Plotly.newPlot(                        \"89bb1f36-1565-43f7-b9d6-7db492dd2bc8\",                        [{\"diagonal\": {\"visible\": false}, \"dimensions\": [{\"axis\": {\"matches\": true}, \"label\": \"PC 1 (92.5%)\", \"values\": [-2.6842071251039457, -2.7153906156341274, -2.8898195396179136, -2.7464371973087336, -2.7285929818313144, -2.279897361009597, -2.820890682180629, -2.6264819933238184, -2.8879585653356337, -2.67384468671912, -2.5065267893389023, -2.6131427182710554, -2.787433975997097, -3.2252004462749797, -2.643543216941146, -2.3838693237993747, -2.622526203125808, -2.648322732479126, -2.199077961430762, -2.587346188917737, -2.310531701313133, -2.543234907303695, -3.2158576949001048, -2.3031285376638815, -2.3561710866838967, -2.5079172268378795, -2.469055997545122, -2.5623909468367496, -2.6398212683765814, -2.6328479080307567, -2.588462051303391, -2.410077337121595, -2.6476366733968995, -2.5971594770759174, -2.67384468671912, -2.866999846932534, -2.6252284646804207, -2.67384468671912, -2.9818426648539074, -2.5903230255856733, -2.7701389107463235, -2.852211081566391, -2.9982964428323506, -2.405514101284701, -2.2088329541767044, -2.715665190747454, -2.537573371013506, -2.840321296827008, -2.5426857570770474, -2.7039123148636497]}, {\"axis\": {\"matches\": true}, \"label\": \"PC 2 (5.3%)\", \"values\": [0.3266073147643878, -0.1695568475560264, -0.13734560960502792, -0.31112431575199173, 0.33392456356845496, 0.7477827132251336, -0.0821045110246807, 0.17040534896028992, -0.5707980263315916, -0.10669170375273855, 0.6519350136725721, 0.02152063196025819, -0.22774018887110634, -0.5032799094854257, 1.1861948994134495, 1.3447543445598624, 0.8180896745965952, 0.31913666775088473, 0.8792440880917366, 0.5204736388059681, 0.39786782158889195, 0.4400317546598155, 0.14161557162558397, 0.10552267842998239, -0.03120958906833811, -0.13905633991317415, 0.13788731459041786, 0.3746845627501061, 0.31929006596032183, -0.19007583063362388, -0.19739307943769077, 0.41808000824761615, 0.8199826325595073, 1.1000219280072687, -0.10669170375273855, 0.07719309572358724, 0.6068000084215862, -0.10669170375273855, -0.48025004885607636, 0.2360593372888729, 0.2710594197651672, -0.9328653674695446, -0.3343075745907768, 0.195917257696061, 0.4426960304210031, -0.24268148289811295, 0.510367545476606, -0.22057633827647635, 0.5862810253439885, 0.11501085217050563]}, {\"axis\": {\"matches\": true}, \"label\": \"PC 3 (1.7%)\", \"values\": [-0.02151183700196235, -0.2035214250054912, 0.02470924099895738, 0.03767197528530111, 0.09622969977460932, 0.17432561901640273, 0.2642510851906961, -0.015801510264315, 0.02733540611450733, -0.19153329973564465, -0.06927499581393105, 0.10765035324990449, -0.20032778809538918, 0.0684136291723304, -0.1445057040096353, 0.283730663939777, 0.14531598882161795, 0.0333942540706981, -0.11452146479835278, 0.2195720880008249, -0.2336956070979694, 0.21483637027967542, 0.29961898151087113, 0.045680041274487236, 0.1294075758959931, -0.24711633789085968, 0.10126307942970227, -0.07235915743602819, -0.13925337377853464, 0.04646646364504566, -0.07127507313152603, -0.13838824005004072, 0.23058560425417246, 0.1635819126236625, -0.19153329973564465, -0.156842350498024, -0.2611631564817054, -0.19153329973564465, 0.07972480735962129, -0.07390123824707646, 0.08424157450476334, -0.3409614911071511, 0.19900842494724177, 0.2707170703688335, 0.30348780926827024, -0.09051560595006812, 0.17191840447686055, 0.09006137653041511, -0.011175267831169055, -0.08269572660682147]}, {\"axis\": {\"matches\": true}, \"label\": \"PC 4 (0.5%)\", \"values\": [0.0010061572415414933, 0.09960242401681504, 0.019304542832508913, -0.07595527410853589, -0.0631287327171095, -0.02714680369790101, -0.05009962506284994, -0.046281760966509884, -0.02661541432565594, -0.05589096599605559, -0.016608247824484074, -0.157704569133212, -0.007235086738118943, -0.021946664123407397, 0.15698096151652366, 0.0019261817096647108, 0.1647407912340746, 0.07611821327962355, 0.025326939656375762, -0.06908199117876092, -0.015323739565081406, 0.038439500101117956, 0.0018570433474501002, 0.14724549964039962, -0.3016202653321939, 0.03538408126768324, 0.05597045237666049, -0.015240286774598481, 0.06514104720019236, -0.12461115336647241, -0.06047626340782173, 0.23084416997707077, -0.2848089542634613, -0.09895807058362019, -0.05589096599605559, 0.16245280571606593, 0.17587987484195147, -0.05589096599605559, -0.011052950834459112, -0.014556306249655909, 0.09236465729576343, 0.322650606613055, -0.07587182131805251, 0.17378512921102804, -0.18585753007265463, 0.14298902533804544, -0.19216594594983716, -0.06039281061733843, -0.0483337025413383, 0.03409957300828095]}], \"hovertemplate\": \"color=setosa<br>%{xaxis.title.text}=%{x}<br>%{yaxis.title.text}=%{y}<extra></extra>\", \"legendgroup\": \"setosa\", \"marker\": {\"color\": \"#636efa\", \"symbol\": \"circle\"}, \"name\": \"setosa\", \"showlegend\": true, \"type\": \"splom\"}, {\"diagonal\": {\"visible\": false}, \"dimensions\": [{\"axis\": {\"matches\": true}, \"label\": \"PC 1 (92.5%)\", \"values\": [1.2847945878450713, 0.9324107529829175, 1.464061322779075, 0.18096720634769878, 1.0871344872070001, 0.6404367495231457, 1.095223709938478, -0.7514671406482262, 1.0432977807062809, -0.01019007072785282, -0.5110861958950904, 0.5110980606834775, 0.26233575615318033, 0.984044545169431, -0.1748640019656961, 0.9275729420326991, 0.6595927890562007, 0.23454058625983584, 0.9423617073988417, 0.04324640032870494, 1.1162407237538159, 0.35678656783046103, 1.2964688502855337, 0.9205026489090095, 0.714008213642833, 0.8996408632837762, 1.3310414188547195, 1.557396272070702, 0.812455548998002, -0.3073347556634042, -0.07034288894927138, -0.19188449210314537, 0.13499495045137344, 1.3787369827755829, 0.587274853579911, 0.8072054966767166, 1.2204289662446788, 0.8128677903690699, 0.24519516169034616, 0.16451342836925592, 0.4630309888714247, 0.8901604456511564, 0.22887904996964767, -0.70708128392086, 0.35553303918706386, 0.331126947332723, 0.3752382289467661, 0.6416902781665431, -0.908463333123495, 0.29780790740693414]}, {\"axis\": {\"matches\": true}, \"label\": \"PC 2 (5.3%)\", \"values\": [0.6854391861329199, 0.3191980898336487, 0.5041898329724528, -0.8256039435761132, 0.07539038928876729, -0.4173234829700257, 0.28389121093848035, -1.001107512974394, 0.2289569087770065, -0.7205748667019014, -1.2624919538621404, -0.10228410504597014, -0.547893298025337, -0.12436042022227797, -0.2518155710801705, 0.4682362050431169, -0.35197629106031625, -0.3319218293621205, -0.5418222581500144, -0.5814894466123588, -0.08421401387837324, -0.06682382794136632, -0.32756151979494447, -0.1823903633279211, 0.15037915314843703, 0.32961097958188373, 0.24466952060228903, 0.26739258481276484, -0.16233157487863328, -0.36508661276616056, -0.702537931730726, -0.6774905443743574, -0.31170964270339624, -0.42120513821462835, -0.4832842677174821, 0.19505396377111178, 0.40803533700101735, -0.37067899831891016, -0.2667280356618479, -0.6796614693108138, -0.6695265465361225, -0.033812442746762726, -0.4022576201789115, -1.0084247617784607, -0.5032184874026623, -0.2111801406626266, -0.2916220248087797, 0.01907117649127059, -0.7515687251694856, -0.3470165215985639]}, {\"axis\": {\"matches\": true}, \"label\": \"PC 3 (1.7%)\", \"values\": [-0.4061295530769631, -0.017129909205125315, -0.3382607277179589, -0.17708285639336457, -0.3065444648144316, 0.041188769353644177, 0.17002253374149967, 0.015672194238160155, -0.4148145661487038, 0.2834372462541255, -0.2664899538224496, 0.1323278904749737, -0.6919415783189644, -0.06215742761353894, 0.09365863819195047, -0.3132294005685771, 0.3283842970693476, -0.2702806708356938, -0.497348541177704, -0.2329635564825228, 0.4598442265727532, -0.2274721803208831, -0.34751321258425016, -0.23161141855267023, -0.3203723328292696, -0.3147714813796254, -0.5212449247379846, -0.16463849085222862, 0.03634357634449063, -0.3153371969389199, -0.24175804484226787, -0.3039165434636246, -0.17497330378776513, 0.015480495121708173, 0.44458375303487047, 0.38945871138620236, -0.2365660868498279, -0.6128710500606728, 0.18956248472924175, -0.057799238805744155, -0.0240538908898095, -0.00976802636842489, -0.2273627050328792, -0.10206934253841152, 0.017889465896507483, 0.08380907322251552, 0.0790733555013658, -0.20417287686374616, -0.007736584506980426, 0.012179139158859311]}, {\"axis\": {\"matches\": true}, \"label\": \"PC 4 (0.5%)\", \"values\": [0.0192901168553435, -6.757941710499064e-06, -0.000857644047619441, 0.09578444837157993, 0.11338453900933707, -0.24267131206866585, -0.08497338932826724, -0.01651059215462981, -0.03752355359177024, -0.005945701975093421, 0.04890880606342353, 0.05010053515659475, 0.061484989083400325, -0.16901066987095262, 0.12494088656962886, 0.10043888414556008, -0.18899152519294954, -0.21198499529228568, 0.2606366850425495, -0.03956118073833005, -0.07721355961071602, 0.12409000046372005, 0.003246239102036986, -0.28682534670532017, 0.04294123317350376, 0.10112286467050263, 0.0375050496558289, 0.07035309510363978, -0.029680271083736276, 0.07653037763062089, 0.009094698519606741, -0.018045458785481684, 0.034182914249866435, -0.17758073696002424, -0.2524424346266574, -0.11661539125463814, 0.03163524398466046, 0.15770049117443624, -0.1473280423371377, 0.030965577887986255, -0.26844350832386893, -0.1534482063797553, 0.0186204507586693, 0.04762429780402104, -0.09807163534474157, -0.23868654239135995, -0.13116505111148086, -0.020509676260204376, 0.23355863427434548, -0.05078371713668979]}], \"hovertemplate\": \"color=versicolor<br>%{xaxis.title.text}=%{x}<br>%{yaxis.title.text}=%{y}<extra></extra>\", \"legendgroup\": \"versicolor\", \"marker\": {\"color\": \"#EF553B\", \"symbol\": \"circle\"}, \"name\": \"versicolor\", \"showlegend\": true, \"type\": \"splom\"}, {\"diagonal\": {\"visible\": false}, \"dimensions\": [{\"axis\": {\"matches\": true}, \"label\": \"PC 1 (92.5%)\", \"values\": [2.531726980439558, 1.4140722251737572, 2.616484608284043, 1.970814945906482, 2.349757983950942, 3.396879920678137, 0.5193832450849367, 2.9320050969913005, 2.319672793874053, 2.9181342336442504, 1.6619349470194862, 1.8023404526607327, 2.1653788629533968, 1.3445942175098242, 1.5852672993086434, 1.9047435782139122, 1.949248781864498, 3.4887653796563844, 3.7946868612099687, 1.298329824567816, 2.428167259020848, 1.1980973722749626, 3.499265484298956, 1.3876682501815554, 2.275853649305694, 2.614193830698333, 1.257625182925136, 1.2906696477376014, 2.122853980508313, 2.3875644023690272, 2.8409609252853825, 3.232342898295874, 2.1587383731331347, 1.4431026043759745, 1.7796401068985697, 3.0765216210206603, 2.1449868567093033, 1.9048629251371312, 1.1688534694704031, 2.107653731173268, 2.314303394629547, 1.9224508848357522, 1.4140722251737572, 2.5633227123408084, 2.4193912198049796, 1.9440170488777369, 1.525663631313872, 1.7640459355269822, 1.901629075288232, 1.3896661333194167]}, {\"axis\": {\"matches\": true}, \"label\": \"PC 2 (5.3%)\", \"values\": [-0.01184223664030016, -0.5749250559123047, 0.34193528698729453, -0.1811256947049138, -0.041882549654841686, 0.5471680462301521, -1.1913516890506528, 0.35237700618085954, -0.24554817060691045, 0.7803806293720323, 0.24203840103752247, -0.21615460662653638, 0.21528028337300723, -0.7764154251768248, -0.5393070538471717, 0.11881899098269876, 0.04073025942776784, 1.1715445442635644, 0.25326557097253416, -0.761013936521508, 0.3767819712541527, -0.6055789617645941, 0.456773466964074, -0.2040309865701549, 0.33338652575664224, 0.5583669502788222, -0.17913699742322284, -0.11642525182937238, -0.21085488454948986, 0.46251925072626016, 0.3727425910490209, 1.3705240359763335, -0.2183255315629932, -0.14380128908272632, -0.5014647947060157, 0.6857644422460563, 0.13890660887731493, 0.048047508231834644, -0.16450249981508977, 0.3714822491771058, 0.18260885079369865, 0.40927117617869563, -0.5749250559123047, 0.2759745022398383, 0.30350393770262896, 0.18741522204601402, -0.37502084819182296, 0.07851918642935751, 0.11587674824796604, -0.28288670917226894]}, {\"axis\": {\"matches\": true}, \"label\": \"PC 3 (1.7%)\", \"values\": [0.758458651528495, 0.296398224305213, -0.11214137055436664, 0.10653914864984576, 0.2841106808661672, -0.3518731576273014, 0.5466855311249487, -0.4236912783368972, -0.34992218335904945, 0.42173893361376713, 0.24281526346759313, -0.037695328493964675, 0.03314818319913322, 0.28286801822431823, 0.6305704884623257, 0.4801380797657285, 0.04272909392943644, 0.12932008336177514, -0.5169707159938947, -0.3448870474686996, 0.2186490700467051, 0.5126407650398146, -0.5769101867216482, -0.06351132177864799, 0.2846781526607176, -0.20842334661879364, 0.046977807449227194, 0.231613560568306, 0.15351588509125508, -0.4520239614491275, -0.5010315391382014, -0.11844877739515808, 0.20842197616391564, -0.15408297110542718, -0.17581118605670365, -0.3364227412082235, 0.7341847390548597, 0.16047063070600812, 0.28246088100237116, 0.027437856461485326, 0.32286040074238254, 0.11549281596071757, 0.296398224305213, 0.29125361312685943, 0.5043025169513597, 0.1793028706811268, -0.12063644074491195, 0.1307840534286688, 0.7228735608675684, 0.36231783163122117]}, {\"axis\": {\"matches\": true}, \"label\": \"PC 4 (0.5%)\", \"values\": [-0.03259956851444956, -0.015695478279486006, 0.06595604952643852, -0.23685862488186132, -0.0013127240036090412, -0.11121996802024864, -0.09879841992577924, -0.2554073688442786, -0.07626286251324566, 0.10772931947885302, 0.11944758456759058, 0.07871345255565047, 0.16266728030785266, 0.1404818922583298, 0.3274553666691282, 0.217114500498995, -0.15784525195695603, -0.3116298379326808, 0.056451643540974684, -0.042673718056128546, 0.1838541791512894, 0.05950003054907905, -0.1377595975908772, 0.16376353673268987, -0.062230277600379955, -0.24044543308754104, 0.14760054550703341, 0.003084321573591337, 0.05261243319103639, -0.2299068772141239, -0.020216625381557395, -0.25448734437615517, 0.12772448922911864, -0.18992586408934103, -0.5035294527425077, 0.3105890924377394, 0.051766535137647694, -0.22198014191560683, 0.019330765589731597, 0.20995519851590377, 0.27589665973045435, 0.5040950067910501, -0.015695478279486006, 0.05618492696844713, 0.23821794655194872, 0.4250816338661446, 0.2557225645213718, 0.1362945563181902, 0.040872821848699156, -0.15631038532610417]}], \"hovertemplate\": \"color=virginica<br>%{xaxis.title.text}=%{x}<br>%{yaxis.title.text}=%{y}<extra></extra>\", \"legendgroup\": \"virginica\", \"marker\": {\"color\": \"#00cc96\", \"symbol\": \"circle\"}, \"name\": \"virginica\", \"showlegend\": true, \"type\": \"splom\"}],                        {\"dragmode\": \"select\", \"legend\": {\"title\": {\"text\": \"color\"}, \"tracegroupgap\": 0}, \"margin\": {\"t\": 60}, \"template\": {\"data\": {\"bar\": [{\"error_x\": {\"color\": \"#2a3f5f\"}, \"error_y\": {\"color\": \"#2a3f5f\"}, \"marker\": {\"line\": {\"color\": \"#E5ECF6\", \"width\": 0.5}}, \"type\": \"bar\"}], \"barpolar\": [{\"marker\": {\"line\": {\"color\": \"#E5ECF6\", \"width\": 0.5}}, \"type\": \"barpolar\"}], \"carpet\": [{\"aaxis\": {\"endlinecolor\": \"#2a3f5f\", \"gridcolor\": \"white\", \"linecolor\": \"white\", \"minorgridcolor\": \"white\", \"startlinecolor\": \"#2a3f5f\"}, \"baxis\": {\"endlinecolor\": \"#2a3f5f\", \"gridcolor\": \"white\", \"linecolor\": \"white\", \"minorgridcolor\": \"white\", \"startlinecolor\": \"#2a3f5f\"}, \"type\": \"carpet\"}], \"choropleth\": [{\"colorbar\": {\"outlinewidth\": 0, \"ticks\": \"\"}, \"type\": \"choropleth\"}], \"contour\": [{\"colorbar\": {\"outlinewidth\": 0, \"ticks\": \"\"}, \"colorscale\": [[0.0, \"#0d0887\"], [0.1111111111111111, \"#46039f\"], [0.2222222222222222, \"#7201a8\"], [0.3333333333333333, \"#9c179e\"], [0.4444444444444444, \"#bd3786\"], [0.5555555555555556, \"#d8576b\"], [0.6666666666666666, \"#ed7953\"], [0.7777777777777778, \"#fb9f3a\"], [0.8888888888888888, \"#fdca26\"], [1.0, \"#f0f921\"]], \"type\": \"contour\"}], \"contourcarpet\": [{\"colorbar\": {\"outlinewidth\": 0, \"ticks\": \"\"}, \"type\": \"contourcarpet\"}], \"heatmap\": [{\"colorbar\": {\"outlinewidth\": 0, \"ticks\": \"\"}, \"colorscale\": [[0.0, \"#0d0887\"], [0.1111111111111111, \"#46039f\"], [0.2222222222222222, \"#7201a8\"], [0.3333333333333333, \"#9c179e\"], [0.4444444444444444, \"#bd3786\"], [0.5555555555555556, \"#d8576b\"], [0.6666666666666666, \"#ed7953\"], [0.7777777777777778, \"#fb9f3a\"], [0.8888888888888888, \"#fdca26\"], [1.0, \"#f0f921\"]], \"type\": \"heatmap\"}], \"heatmapgl\": [{\"colorbar\": {\"outlinewidth\": 0, \"ticks\": \"\"}, \"colorscale\": [[0.0, \"#0d0887\"], [0.1111111111111111, \"#46039f\"], [0.2222222222222222, \"#7201a8\"], [0.3333333333333333, \"#9c179e\"], [0.4444444444444444, \"#bd3786\"], [0.5555555555555556, \"#d8576b\"], [0.6666666666666666, \"#ed7953\"], [0.7777777777777778, \"#fb9f3a\"], [0.8888888888888888, \"#fdca26\"], [1.0, \"#f0f921\"]], \"type\": \"heatmapgl\"}], \"histogram\": [{\"marker\": {\"colorbar\": {\"outlinewidth\": 0, \"ticks\": \"\"}}, \"type\": \"histogram\"}], \"histogram2d\": [{\"colorbar\": {\"outlinewidth\": 0, \"ticks\": \"\"}, \"colorscale\": [[0.0, \"#0d0887\"], [0.1111111111111111, \"#46039f\"], [0.2222222222222222, \"#7201a8\"], [0.3333333333333333, \"#9c179e\"], [0.4444444444444444, \"#bd3786\"], [0.5555555555555556, \"#d8576b\"], [0.6666666666666666, \"#ed7953\"], [0.7777777777777778, \"#fb9f3a\"], [0.8888888888888888, \"#fdca26\"], [1.0, \"#f0f921\"]], \"type\": \"histogram2d\"}], \"histogram2dcontour\": [{\"colorbar\": {\"outlinewidth\": 0, \"ticks\": \"\"}, \"colorscale\": [[0.0, \"#0d0887\"], [0.1111111111111111, \"#46039f\"], [0.2222222222222222, \"#7201a8\"], [0.3333333333333333, \"#9c179e\"], [0.4444444444444444, \"#bd3786\"], [0.5555555555555556, \"#d8576b\"], [0.6666666666666666, \"#ed7953\"], [0.7777777777777778, \"#fb9f3a\"], [0.8888888888888888, \"#fdca26\"], [1.0, \"#f0f921\"]], \"type\": \"histogram2dcontour\"}], \"mesh3d\": [{\"colorbar\": {\"outlinewidth\": 0, \"ticks\": \"\"}, \"type\": \"mesh3d\"}], \"parcoords\": [{\"line\": {\"colorbar\": {\"outlinewidth\": 0, \"ticks\": \"\"}}, \"type\": \"parcoords\"}], \"pie\": [{\"automargin\": true, \"type\": \"pie\"}], \"scatter\": [{\"marker\": {\"colorbar\": {\"outlinewidth\": 0, \"ticks\": \"\"}}, \"type\": \"scatter\"}], \"scatter3d\": [{\"line\": {\"colorbar\": {\"outlinewidth\": 0, \"ticks\": \"\"}}, \"marker\": {\"colorbar\": {\"outlinewidth\": 0, \"ticks\": \"\"}}, \"type\": \"scatter3d\"}], \"scattercarpet\": [{\"marker\": {\"colorbar\": {\"outlinewidth\": 0, \"ticks\": \"\"}}, \"type\": \"scattercarpet\"}], \"scattergeo\": [{\"marker\": {\"colorbar\": {\"outlinewidth\": 0, \"ticks\": \"\"}}, \"type\": \"scattergeo\"}], \"scattergl\": [{\"marker\": {\"colorbar\": {\"outlinewidth\": 0, \"ticks\": \"\"}}, \"type\": \"scattergl\"}], \"scattermapbox\": [{\"marker\": {\"colorbar\": {\"outlinewidth\": 0, \"ticks\": \"\"}}, \"type\": \"scattermapbox\"}], \"scatterpolar\": [{\"marker\": {\"colorbar\": {\"outlinewidth\": 0, \"ticks\": \"\"}}, \"type\": \"scatterpolar\"}], \"scatterpolargl\": [{\"marker\": {\"colorbar\": {\"outlinewidth\": 0, \"ticks\": \"\"}}, \"type\": \"scatterpolargl\"}], \"scatterternary\": [{\"marker\": {\"colorbar\": {\"outlinewidth\": 0, \"ticks\": \"\"}}, \"type\": \"scatterternary\"}], \"surface\": [{\"colorbar\": {\"outlinewidth\": 0, \"ticks\": \"\"}, \"colorscale\": [[0.0, \"#0d0887\"], [0.1111111111111111, \"#46039f\"], [0.2222222222222222, \"#7201a8\"], [0.3333333333333333, \"#9c179e\"], [0.4444444444444444, \"#bd3786\"], [0.5555555555555556, \"#d8576b\"], [0.6666666666666666, \"#ed7953\"], [0.7777777777777778, \"#fb9f3a\"], [0.8888888888888888, \"#fdca26\"], [1.0, \"#f0f921\"]], \"type\": \"surface\"}], \"table\": [{\"cells\": {\"fill\": {\"color\": \"#EBF0F8\"}, \"line\": {\"color\": \"white\"}}, \"header\": {\"fill\": {\"color\": \"#C8D4E3\"}, \"line\": {\"color\": \"white\"}}, \"type\": \"table\"}]}, \"layout\": {\"annotationdefaults\": {\"arrowcolor\": \"#2a3f5f\", \"arrowhead\": 0, \"arrowwidth\": 1}, \"autotypenumbers\": \"strict\", \"coloraxis\": {\"colorbar\": {\"outlinewidth\": 0, \"ticks\": \"\"}}, \"colorscale\": {\"diverging\": [[0, \"#8e0152\"], [0.1, \"#c51b7d\"], [0.2, \"#de77ae\"], [0.3, \"#f1b6da\"], [0.4, \"#fde0ef\"], [0.5, \"#f7f7f7\"], [0.6, \"#e6f5d0\"], [0.7, \"#b8e186\"], [0.8, \"#7fbc41\"], [0.9, \"#4d9221\"], [1, \"#276419\"]], \"sequential\": [[0.0, \"#0d0887\"], [0.1111111111111111, \"#46039f\"], [0.2222222222222222, \"#7201a8\"], [0.3333333333333333, \"#9c179e\"], [0.4444444444444444, \"#bd3786\"], [0.5555555555555556, \"#d8576b\"], [0.6666666666666666, \"#ed7953\"], [0.7777777777777778, \"#fb9f3a\"], [0.8888888888888888, \"#fdca26\"], [1.0, \"#f0f921\"]], \"sequentialminus\": [[0.0, \"#0d0887\"], [0.1111111111111111, \"#46039f\"], [0.2222222222222222, \"#7201a8\"], [0.3333333333333333, \"#9c179e\"], [0.4444444444444444, \"#bd3786\"], [0.5555555555555556, \"#d8576b\"], [0.6666666666666666, \"#ed7953\"], [0.7777777777777778, \"#fb9f3a\"], [0.8888888888888888, \"#fdca26\"], [1.0, \"#f0f921\"]]}, \"colorway\": [\"#636efa\", \"#EF553B\", \"#00cc96\", \"#ab63fa\", \"#FFA15A\", \"#19d3f3\", \"#FF6692\", \"#B6E880\", \"#FF97FF\", \"#FECB52\"], \"font\": {\"color\": \"#2a3f5f\"}, \"geo\": {\"bgcolor\": \"white\", \"lakecolor\": \"white\", \"landcolor\": \"#E5ECF6\", \"showlakes\": true, \"showland\": true, \"subunitcolor\": \"white\"}, \"hoverlabel\": {\"align\": \"left\"}, \"hovermode\": \"closest\", \"mapbox\": {\"style\": \"light\"}, \"paper_bgcolor\": \"white\", \"plot_bgcolor\": \"#E5ECF6\", \"polar\": {\"angularaxis\": {\"gridcolor\": \"white\", \"linecolor\": \"white\", \"ticks\": \"\"}, \"bgcolor\": \"#E5ECF6\", \"radialaxis\": {\"gridcolor\": \"white\", \"linecolor\": \"white\", \"ticks\": \"\"}}, \"scene\": {\"xaxis\": {\"backgroundcolor\": \"#E5ECF6\", \"gridcolor\": \"white\", \"gridwidth\": 2, \"linecolor\": \"white\", \"showbackground\": true, \"ticks\": \"\", \"zerolinecolor\": \"white\"}, \"yaxis\": {\"backgroundcolor\": \"#E5ECF6\", \"gridcolor\": \"white\", \"gridwidth\": 2, \"linecolor\": \"white\", \"showbackground\": true, \"ticks\": \"\", \"zerolinecolor\": \"white\"}, \"zaxis\": {\"backgroundcolor\": \"#E5ECF6\", \"gridcolor\": \"white\", \"gridwidth\": 2, \"linecolor\": \"white\", \"showbackground\": true, \"ticks\": \"\", \"zerolinecolor\": \"white\"}}, \"shapedefaults\": {\"line\": {\"color\": \"#2a3f5f\"}}, \"ternary\": {\"aaxis\": {\"gridcolor\": \"white\", \"linecolor\": \"white\", \"ticks\": \"\"}, \"baxis\": {\"gridcolor\": \"white\", \"linecolor\": \"white\", \"ticks\": \"\"}, \"bgcolor\": \"#E5ECF6\", \"caxis\": {\"gridcolor\": \"white\", \"linecolor\": \"white\", \"ticks\": \"\"}}, \"title\": {\"x\": 0.05}, \"xaxis\": {\"automargin\": true, \"gridcolor\": \"white\", \"linecolor\": \"white\", \"ticks\": \"\", \"title\": {\"standoff\": 15}, \"zerolinecolor\": \"white\", \"zerolinewidth\": 2}, \"yaxis\": {\"automargin\": true, \"gridcolor\": \"white\", \"linecolor\": \"white\", \"ticks\": \"\", \"title\": {\"standoff\": 15}, \"zerolinecolor\": \"white\", \"zerolinewidth\": 2}}}},                        {\"responsive\": true}                    ).then(function(){\n",
       "                            \n",
       "var gd = document.getElementById('89bb1f36-1565-43f7-b9d6-7db492dd2bc8');\n",
       "var x = new MutationObserver(function (mutations, observer) {{\n",
       "        var display = window.getComputedStyle(gd).display;\n",
       "        if (!display || display === 'none') {{\n",
       "            console.log([gd, 'removed!']);\n",
       "            Plotly.purge(gd);\n",
       "            observer.disconnect();\n",
       "        }}\n",
       "}});\n",
       "\n",
       "// Listen for the removal of the full notebook cells\n",
       "var notebookContainer = gd.closest('#notebook-container');\n",
       "if (notebookContainer) {{\n",
       "    x.observe(notebookContainer, {childList: true});\n",
       "}}\n",
       "\n",
       "// Listen for the clearing of the current output cell\n",
       "var outputEl = gd.closest('.output');\n",
       "if (outputEl) {{\n",
       "    x.observe(outputEl, {childList: true});\n",
       "}}\n",
       "\n",
       "                        })                };                });            </script>        </div>"
      ]
     },
     "metadata": {},
     "output_type": "display_data"
    }
   ],
   "source": [
    "from sklearn.decomposition import PCA\n",
    "\n",
    "df = px.data.iris()\n",
    "features = [\"sepal_width\", \"sepal_length\", \"petal_width\", \"petal_length\"]\n",
    "\n",
    "pca = PCA()\n",
    "components = pca.fit_transform(df[features])\n",
    "labels = {\n",
    "    str(i): f\"PC {i+1} ({var:.1f}%)\"\n",
    "    for i, var in enumerate(pca.explained_variance_ratio_ * 100)\n",
    "}\n",
    "\n",
    "fig = px.scatter_matrix(\n",
    "    components,\n",
    "    labels=labels,\n",
    "    dimensions=range(4),\n",
    "    color=df[\"species\"]\n",
    ")\n",
    "fig.update_traces(diagonal_visible=False)\n",
    "fig.show()"
   ]
  },
  {
   "cell_type": "code",
   "execution_count": 5,
   "metadata": {},
   "outputs": [
    {
     "data": {
      "application/vnd.plotly.v1+json": {
       "config": {
        "plotlyServerURL": "https://plot.ly"
       },
       "data": [
        {
         "diagonal": {
          "visible": false
         },
         "dimensions": [
          {
           "axis": {
            "matches": true
           },
           "label": "PC 1",
           "values": [
            -119.81884271656078,
            -168.89015548231225,
            -169.31170746584667,
            -190.2306422626733,
            -190.13345102539012,
            -188.95057656109333,
            -104.33599656015672,
            -102.09430836975716,
            -98.52827139987514,
            -100.03015499692022,
            -100.9399707691427,
            -103.33559388729839,
            -105.08279084419037,
            -108.44912259617688,
            -101.58730512902865,
            -108.51336710574707,
            -108.26519845023847,
            -103.6744526127844,
            -79.04098252405065,
            -105.99405422493568,
            -99.17535896909615,
            -104.74608797863495,
            -105.68626474420994,
            -104.2857577018946,
            -104.80928195846538,
            -79.02964703986169,
            -100.08353088616079,
            -79.61186289177593,
            -103.00397003221379,
            -101.36335842891144,
            -94.70422550705977,
            -99.24618351091205,
            -58.43935296439853,
            -94.31520691523218,
            -61.92942138300571,
            -134.5086064241347,
            -129.40448992208894,
            -136.7657022232663,
            -136.66581507311483,
            -167.25017356070947,
            -167.80307684984817,
            -180.50793077212717,
            -179.58103171956918,
            -182.78113650817485,
            -178.45543182540345,
            -181.13991717091977,
            -181.09096225037214,
            -175.4100852220314,
            -175.5261224779884,
            -178.6489878708632,
            -171.10922094743947,
            -169.29306152626137,
            -173.74595643503775,
            -173.64810650114302,
            40.90525079462454,
            -192.64911719355484,
            -109.0639635505715,
            -162.18439760304764,
            -132.27722681495203,
            -132.52450713885605,
            -130.32437967287174,
            -123.05743513553426,
            -130.86112351476,
            -132.45865976465035,
            -195.06857996965053,
            -87.39924959507987,
            -86.1583079538413,
            -76.1842404831409,
            -74.9801300712085,
            -75.39715031789542,
            -111.11987167337497,
            -108.15579279179529,
            -113.13748214865431,
            -109.22077853771465,
            -25.995344784195694,
            -19.280922622721032,
            -13.954101232540362,
            -20.26710737405204,
            -19.40289156600991,
            -23.715955557879344,
            -136.79398868812825,
            -133.29355314972852,
            -136.86953985046762,
            -133.81557379413172,
            -166.73694058831984,
            -164.7886398662066,
            -166.6373468777886,
            -165.51070965557815,
            -141.85539650124085,
            -143.546624952618,
            -142.09173607449247,
            -141.85256400174939,
            -144.77893725619987,
            -147.2739537929705,
            -143.29088602531428,
            -127.19164759348548,
            -135.95457907466186,
            -137.0614452101237,
            -139.36564589631845,
            -138.14583797488032,
            -33.10146847650106,
            -34.10125023313056,
            61.73256438136755,
            -32.294583409280364,
            -31.584451900352093,
            -31.3229529030486,
            -32.145457314316225,
            -30.487661093383434,
            -31.735413305322673,
            -30.98228788878435,
            -34.78271165045273,
            12.471559605851589,
            13.745527483229749,
            13.408334947797956,
            14.695023228704981,
            27.915370009499885,
            12.421703115642805,
            12.874742259779019,
            28.471184155651155,
            12.372107471877618,
            -218.01530794045652,
            -213.4697731986587,
            -212.77073626754566,
            -209.98780306054903,
            -212.9111151738947,
            -215.2339999222861,
            -206.8447620086441,
            19.876623627604168,
            18.675483812029334,
            18.41638225203395,
            19.159890807468063,
            18.53420398179735,
            21.750862621310546,
            20.770300449516448,
            57.76648478451024,
            19.315704750052536,
            23.697572024689304,
            19.445428372748278,
            20.176078848288018,
            18.678339155429743,
            21.010954765725664,
            19.254505252851512,
            -13.217711599803147,
            -13.204756179255424,
            -13.360414043282441,
            52.005784863425575,
            52.80337717712341,
            -12.031939566138792,
            -2.1093556542956984,
            -0.6667648381946059,
            -6.768488916563242,
            2.520841995461559,
            0.9908255766496338,
            25.667097563855545,
            8.217446451790792,
            75.01343120354694,
            75.78125317646872,
            -4.265066026117578,
            -1.2218724274243882,
            -4.2323915158463326,
            2.4948700796074466,
            -8.080296398656877,
            -11.867772948025292,
            -11.868149729709865,
            -13.769920242753832,
            31.433353555202103,
            -6.074511126819661,
            33.95386529065984,
            15.12582352113908,
            5.46315669567398,
            16.4409823065467,
            0.38274218464227966,
            -116.61133360110315,
            -116.70394832251014,
            -117.31700164470034,
            -119.73632584476452,
            -119.11054274545401,
            -117.69642941762946,
            -116.33500635961128,
            -217.307350879227,
            -214.77692761537335,
            -216.88554542117632,
            -213.67438449603472,
            -214.17989044105093,
            -212.75664824812378,
            -213.402374712533,
            -216.4823009427493,
            -25.001053498196754,
            -22.84461959658997,
            -26.102467767585537,
            -21.97920092093667,
            -24.714558478965113,
            -25.359816188617774,
            -154.68197601480213,
            -149.09792795083447,
            -163.44000887079048,
            -93.81512526445243,
            -81.09870915733205,
            -92.0369170676999,
            -26.633084032184186,
            -23.08393039550721,
            -74.4968390628642,
            -76.9653613795234,
            -192.92523074171328,
            -192.40652563111038,
            -140.13843833474274,
            -137.01969903813756,
            -133.58211594211465,
            -132.4387845455397,
            -133.34992780809816,
            -133.08960320718955,
            -133.79995615568077,
            -135.64560044221327,
            -136.1071201674686,
            -126.7781293870428,
            -137.5357748896817,
            -136.8862020283754,
            -134.53641842091974,
            -134.81437323005017,
            -134.18494845549324,
            -104.56069068933758,
            -105.08669491585607,
            -105.07222072574206,
            -106.76214633630634,
            -103.60789384545592,
            -102.30969419456159,
            -103.6236973759224,
            -99.64401817401753,
            -106.54687071518124,
            -107.00117082759287,
            -102.33342297731542,
            -101.10453301721283,
            -104.31348471804343,
            -102.5009994247734,
            -97.26762282265341,
            -102.44316540752466,
            -104.62503968418197,
            -105.61802584704682,
            -115.02852414229446,
            -114.29571122468967,
            -115.36783507586487,
            -115.42186981829553,
            -110.10531447866434,
            -114.58564365493099,
            -79.10228575408271,
            -84.3387569827917,
            -87.80707202968318,
            -79.9950177738299,
            -82.1100822027061,
            -90.36226510715514,
            -91.49184127549677,
            -86.29121138475941,
            -89.1093875624846,
            -92.11653706769661,
            -106.03681289579963,
            -107.72118951470544,
            -171.7855233648556,
            -146.13842227612935,
            -143.11234300299756,
            -145.6492797880515,
            -147.36755463713848,
            -145.49602707263608,
            -144.91404110153593,
            -146.43944993322634,
            -145.15076581770157,
            -148.81114077001234,
            -144.46445801849646,
            -146.25141600676292,
            -149.2344536722772,
            -187.48396906383348,
            -188.335112946201,
            -193.04694271942577,
            -188.90814354334216,
            -188.29260014425813,
            -163.1362870578921,
            -162.32107465266176,
            -159.50798470043875,
            -162.5654769265042,
            -163.11857078153776,
            -198.43593883811093,
            -192.97698753546027,
            -196.6765126286172,
            -191.25239184611516,
            -219.10451431919788,
            -136.4200814124363,
            -119.73087549596079,
            -161.3202622598971,
            -126.65981068729059,
            -125.45320979512903,
            -119.9753657877692,
            -173.89023577513282,
            -173.90073638059988,
            -174.23485148561068,
            -129.05256667916223,
            -127.01184879673745,
            -128.0456990886317,
            -125.17832357706186,
            -125.5773669953421,
            -58.474712854036454,
            -60.298436949733414,
            -62.75485609628815,
            -90.43713604890686,
            -88.75893551214627,
            -90.89135739194575,
            -191.50185762737942,
            -189.93601828753074,
            -189.86779853330148,
            -189.97792638652342,
            -109.61286359514432,
            -109.78317284823646,
            -99.56839522779059,
            -112.04998559325914,
            -108.6155825256919,
            -108.4942677058571,
            -108.75571217597904,
            -109.72487937486449,
            -107.44112157826694,
            -110.26550030310968,
            -110.2705476431916,
            -111.21635066176755,
            -128.2601722632263,
            -128.10000815054119,
            -128.44477987011803,
            -124.63267895623734,
            -129.3013707637705,
            -130.52075080629976,
            -130.2429193657167,
            -128.85436026470262,
            9.42692376299738,
            10.75233195487026,
            13.975935397886696,
            -114.92929703588494,
            -106.21019141328144,
            -187.29702803292133,
            -187.14913449191397,
            -189.63541044321929,
            -188.60247703393884,
            -186.8667293031795,
            -189.1609588205177,
            -188.6759042371156,
            -187.5904174659575,
            -132.68703369223346,
            2.2561906164723182,
            -51.61215121539483,
            -51.442235854383576,
            -63.69481203405022,
            -57.202551494745904,
            -72.13352592588987,
            -138.819163724883,
            -84.26754826752901,
            -85.48910666894345,
            -7.168621413953383,
            -14.846229794476864,
            -225.1724148522512,
            -85.75529626797595,
            -84.04273544694776,
            242.72149760093478,
            237.97029628234432,
            236.14102669194574,
            237.33243534581052,
            242.50055949734133,
            249.85067189248994,
            241.40575413643663,
            249.00368127555242,
            247.8138373398211,
            248.27006142375262,
            259.95433475968156,
            314.710746624922,
            243.1404835113856,
            242.95936604615306,
            238.15714598476336,
            246.13964953465359,
            250.54785461787677,
            237.82024040612214,
            238.11131058447066,
            237.40054141492487,
            246.98114664561976,
            237.36841045021208,
            237.61250064012924,
            238.6375378154036,
            239.0172522848027,
            237.5663381762298,
            237.50429351774565,
            237.4916513912807,
            269.59681798810385,
            237.73551211043477,
            238.0589618720001,
            237.21254828929875,
            244.80026652252786,
            237.31807276946307,
            237.75613953848114,
            241.20448810762164,
            237.37050138953646,
            236.67395182356216,
            237.01521072501052,
            238.67222881052083,
            236.97393817854865,
            238.3895124783883,
            238.51980726382737,
            252.92147889941035,
            238.04106748350037,
            237.5760621835526,
            243.4938146202658,
            237.53876654978276,
            256.9571106605146,
            242.6858901377576,
            245.61006668406736,
            256.1978194851934,
            261.2969823501371,
            300.9213441233114,
            353.2520283120828,
            342.96859167437583,
            345.2349859686574,
            292.14051395858684,
            328.76180338033976,
            345.5362068237957,
            346.13337960866664,
            315.6481300015013,
            350.1132438059626,
            337.06828004769665,
            260.11900081416366,
            259.2646077766193,
            267.0103679280042,
            351.03560439626267,
            349.40456625479237,
            350.6786935406364,
            342.44498399795674,
            346.4500649450597,
            322.98363127013306,
            335.05006807593196,
            327.46302935372336,
            328.8584441158365,
            322.10552681001053,
            322.6189348581744,
            323.3055020097547,
            320.69235980242627,
            344.54514696638796,
            350.61275817468453,
            332.36606132663985,
            236.98193260171504,
            238.7963299678912,
            240.37399969682969,
            237.5891246202646,
            240.37614049622672,
            282.86854614183164,
            340.16264241438364,
            259.95506066170395,
            239.5128226764431,
            237.26900980364655,
            264.203079817577,
            352.1568805615101,
            249.22054830993443,
            239.98647817968856,
            243.37728853818064,
            350.5401245855657,
            336.8688358355839,
            348.780233414929,
            350.2320450910474,
            272.23319511509703,
            235.91742266297024,
            277.62394976473655,
            237.75335949320754,
            235.77937455155998,
            237.1434116209822,
            234.32305445093283,
            250.9694556614283,
            345.08408759236136,
            255.95235433705238,
            243.33208076239342,
            233.78563181984472,
            235.84636793949556,
            236.77583988493947,
            236.05511415914947,
            240.8505080766128,
            249.86247248744849,
            264.62688664385894,
            236.9247595737446,
            251.2859292465018,
            242.13544214312105,
            240.36226471053934,
            234.14545072592634,
            236.04166998651553,
            235.55675115516217,
            233.1645799214887,
            239.81699349508418,
            235.41577756220718,
            236.73003878924087,
            235.7009761152617,
            279.1383044650713,
            294.6074697586488,
            302.17504450028974,
            281.0967173435585,
            277.730034085525,
            -29.11113302114123,
            -30.025447931271017,
            -30.04167270981828,
            -27.319943695975546,
            -27.675533356401733,
            -28.14381135414113,
            -27.080132157458706,
            -26.908163550019363,
            -138.69793277004524,
            -139.5044392331218,
            -138.3871630607856,
            -137.505173381216,
            -139.1903329527843
           ]
          },
          {
           "axis": {
            "matches": true
           },
           "label": "PC 2",
           "values": [
            -5.560055859669375,
            10.116208634430638,
            14.080532296694827,
            18.302463298499845,
            16.097947429508892,
            18.729162551867365,
            -8.73550926965795,
            -10.108029548187229,
            -0.24790911015786224,
            -0.3176678719042922,
            -5.901410081789813,
            -10.066546629881826,
            -3.682179111985719,
            -8.824295558145392,
            7.197688136058864,
            -7.568976018631554,
            0.9643598108942798,
            0.8049135545890219,
            94.52178616601047,
            -3.161430293976538,
            10.484406627882231,
            -4.769216597055043,
            -8.931241066530788,
            -6.717167352172299,
            -6.504693425264371,
            80.47146293354747,
            10.19334624851422,
            77.62880143832383,
            -0.4162217322205113,
            6.99335005451199,
            26.1971691472512,
            10.27552617517679,
            148.27755003613274,
            27.506138480822063,
            133.12965582464454,
            -0.6628833439881354,
            17.87873297924215,
            -0.5150625205644737,
            2.876035850652747,
            8.804352453830044,
            8.834950464509744,
            24.137470775195872,
            26.07237409924109,
            15.478439026688005,
            20.14644411290782,
            13.004777764276332,
            13.030512762157974,
            16.736898947587235,
            12.7723688699059,
            12.878592082310364,
            11.337880688062148,
            12.735778067296538,
            10.150219580386803,
            10.16645661286216,
            -55.96131707697567,
            16.133595951998622,
            -10.282903948681971,
            10.165296993179117,
            4.038074846020791,
            -1.999495183812574,
            -0.37365101205400936,
            15.761980059190018,
            -2.131394417734129,
            -0.7131454441706765,
            21.36292208299465,
            -17.238508948934513,
            -17.28262541510252,
            -19.01865974840826,
            -19.737358058024636,
            -19.740354419495784,
            4.6485149404558745,
            11.097133691444283,
            -2.2307552203683074,
            10.92872893066792,
            -33.2589862231314,
            -22.291753296502865,
            -13.292562686496124,
            -25.8554671860545,
            -25.35311927102084,
            -34.51078400794084,
            -1.0296256899607112,
            -0.01532093906702296,
            -1.0141251080783127,
            4.893088886977984,
            8.836228101984869,
            13.170498385580292,
            9.741380524054554,
            10.452057618034052,
            1.8834723634195187,
            2.8205786037907905,
            6.53093043583513,
            5.172755243934593,
            3.850005096581057,
            2.7177726089832697,
            1.921133166891058,
            37.51569480476924,
            5.1082905456258345,
            0.1834469688207565,
            3.625481984839731,
            0.271532191002846,
            -29.40429243443615,
            -30.149421423345107,
            280.335857750695,
            -29.146552764624325,
            -27.4664044883769,
            -28.78154757681828,
            -30.290173463470058,
            -22.648060078782077,
            -29.94560116506407,
            -26.057783804205144,
            -28.02383985288873,
            -44.247200194393706,
            -43.66527521513824,
            -45.53826498001819,
            -37.71061031429356,
            4.206664628602709,
            -41.99460349984881,
            -43.21933500850616,
            10.295351331567128,
            -40.22271457620721,
            33.303221870974554,
            44.19723978309749,
            43.766481689011464,
            51.22553681072475,
            42.51437328352929,
            37.14839080968911,
            61.78275239706363,
            -42.47338033014005,
            -47.07916856534737,
            -47.03521794476385,
            -45.317119808243866,
            -47.0850164562772,
            -36.44486779825003,
            -39.21150699951152,
            81.20053420560274,
            -44.93277817771588,
            -29.207506589763874,
            -44.3848631964924,
            -42.39526329077871,
            -47.055005319873366,
            -38.56571615457919,
            -46.96830138550907,
            -37.03972392393885,
            -37.03669537955934,
            -37.01657082958208,
            177.13493290263793,
            180.54948105024658,
            -32.04328495304935,
            1.159066656524737,
            6.030755527163789,
            -14.064309599949553,
            15.747003068074271,
            14.199894314286823,
            91.93431965340122,
            35.458368677062616,
            258.3482551873852,
            257.68916649102636,
            -5.162812215490927,
            3.955315553066462,
            -6.001835346182613,
            18.305837659857985,
            -15.65769241753848,
            -30.21125711295472,
            -29.071253414343662,
            -35.375319459200924,
            112.77202284192187,
            -10.76819215005934,
            124.85697134688995,
            58.32222050700069,
            26.823572647106793,
            62.93233998987516,
            9.517293274772877,
            -5.704935955253848,
            -4.373678373971591,
            -2.111795023489311,
            0.23788260728602806,
            -1.9857858565344821,
            -4.423975648729982,
            -0.2856647561874718,
            24.55163408905483,
            25.70526982281651,
            24.555008445289143,
            27.01536805594961,
            24.342585133245652,
            30.064694156107418,
            33.89977475047114,
            28.65902055269543,
            -32.3481770639246,
            -21.744556218658094,
            -35.23979878553118,
            -16.763472565163315,
            -28.322129464832464,
            -29.0524180343948,
            7.243086420152464,
            23.12781601125597,
            9.21954239975761,
            -14.960051686001659,
            25.775475079072567,
            -10.4754097290455,
            -36.19727525075384,
            -24.142056215077403,
            -17.53392569886758,
            -18.967945644653817,
            19.674411122910072,
            21.808735570935127,
            0.17934548957119756,
            1.9490761434139496,
            7.075944061627129,
            14.88797023407036,
            -0.19314682783268664,
            3.3070384799033836,
            1.4640298419299618,
            5.727984276429252,
            10.717774375615068,
            46.22730800064884,
            3.183477448239152,
            4.194077231701376,
            4.025297688943693,
            0.08323937528278641,
            3.070334489444898,
            -4.014552582741718,
            -7.347581120482478,
            -2.6969955406590107,
            -8.95296001299931,
            2.370604001513683,
            5.264463945682444,
            0.09043072115969036,
            14.776270377820522,
            9.929567355651058,
            7.198017556509873,
            8.87961182534996,
            10.905532721577465,
            1.5693632269268414,
            8.247785683765564,
            26.222251645918096,
            10.441482347370107,
            -0.8378551514382507,
            -2.386257553995785,
            10.22508883588013,
            5.916895177992708,
            -1.2715922719622197,
            -4.550181970015867,
            16.424817570248194,
            14.774188034413486,
            7.745350933692399,
            -8.095163367159678,
            -8.949575004069029,
            4.226492028541263,
            5.762223248842171,
            -12.269853721213993,
            -14.677180366394944,
            3.7016620519366867,
            -4.911570921993184,
            -15.254592697680234,
            -7.0168881888987285,
            -9.117435351110572,
            19.968890951164205,
            10.527557767654734,
            16.596987432261734,
            8.330270396422703,
            7.6174467274891375,
            11.796484046864387,
            13.220794277714834,
            6.963448100986833,
            12.247623080831051,
            8.114437385820125,
            15.980445406792894,
            15.588555509034821,
            10.138279930874004,
            21.127054148890902,
            23.808097627152453,
            16.02950650598043,
            17.64805006592648,
            21.68849254562213,
            6.871673848159198,
            6.8123184268097,
            14.109615590480969,
            10.204793950972956,
            6.897539318465561,
            17.985831003795482,
            26.963895024965918,
            22.420388200314132,
            36.83573732888601,
            24.731456426198484,
            0.09423989713414774,
            -4.390986029987728,
            63.707780984443346,
            -4.4958847552144094,
            -4.574976399227872,
            19.642637119715353,
            9.581360670131003,
            9.584228935251716,
            9.61493587871712,
            -3.330048345846646,
            -3.456366553814686,
            -3.4153712719133575,
            0.3491908211274785,
            -3.5142330433090323,
            4.002809925021024,
            0.8658315523749396,
            -17.775817814304823,
            -13.994811560023651,
            -2.2653248886857664,
            -8.804216481655622,
            19.26533937960781,
            19.485109854077237,
            16.007406611034664,
            16.02232503099442,
            -8.090274699555003,
            -7.395965335184522,
            36.64021751892167,
            -7.910456419385959,
            -7.5223025648766875,
            -4.71806529601285,
            -6.934177115272137,
            -7.565415268999887,
            -2.0876191987196147,
            -7.964437560286631,
            -6.353833790806879,
            -7.266843541190701,
            -2.9322020832108113,
            -2.945475187374972,
            -2.914437535639913,
            2.48582549506448,
            -2.8673997652309557,
            0.35011082902746227,
            -2.8031779240505346,
            -2.850076365710102,
            -30.71701601999881,
            -23.76960794573489,
            -17.496294906531357,
            -4.893698942972388,
            25.486827676562985,
            22.44600844010744,
            22.74621444148565,
            15.604764535928378,
            15.547198911614984,
            17.474010078922024,
            16.31787190795936,
            15.552035405269972,
            15.474513248537056,
            0.13281950121602779,
            -35.73443708576004,
            -27.138393193362607,
            -18.45221856540176,
            -11.096841082836276,
            9.002393237146515,
            -17.106861954421696,
            5.072057731343107,
            -10.019970474315267,
            -16.817120093313775,
            -14.01890186958484,
            -34.51205855057453,
            38.421151414755386,
            -2.8895834728440226,
            3.5741521519205515,
            -95.78290006949636,
            -108.81889416739841,
            -112.68751001461423,
            -108.19039286958075,
            -92.78389694213435,
            -69.90728387416273,
            -98.78026984004804,
            -72.17577669794504,
            -73.64252559972459,
            -73.79870775818809,
            -36.80872185258902,
            139.72372392257216,
            -93.79519121127247,
            -93.58681555949649,
            -109.57674018907954,
            -84.77031948350808,
            -67.2518125518585,
            -114.01527588096673,
            -113.94783421783085,
            -114.06865373683536,
            -81.6194626478766,
            -114.09424995669895,
            -113.97319368684892,
            -111.02303506516532,
            -113.55009472580315,
            -114.05657317760203,
            -114.09213201183934,
            -114.0945838399062,
            -7.726061886231771,
            -113.98898148826082,
            -113.96409888404314,
            -113.89445253391212,
            -91.08835287628253,
            -114.1086019916721,
            -111.76527710674758,
            -96.33700899693113,
            -114.04714113726837,
            -114.10170444836736,
            -114.07558935586414,
            -109.4209708157263,
            -114.11539126389127,
            -110.48358132533637,
            -113.85739723658675,
            -57.75735849849212,
            -113.96792623745786,
            -114.07708518469073,
            -94.22904891234559,
            -113.98722956514519,
            -49.2862869583486,
            -102.29681015452363,
            -88.5065060338869,
            -52.16986620970075,
            -35.42046030342221,
            93.92881292851244,
            263.1318155723143,
            231.92089895353618,
            238.0134390279009,
            63.79990801816491,
            181.3344854059621,
            239.45119161016675,
            244.8679155757248,
            143.8283405748154,
            250.09890174392928,
            219.23655252005207,
            -39.40301329786856,
            -40.575546738933326,
            -13.323089084527808,
            263.07594619361964,
            262.0545174070158,
            258.14809023200365,
            242.0517392167562,
            247.68036060959886,
            173.02614017061967,
            207.38605137246705,
            185.66366152845177,
            187.66632340940615,
            171.81777625880855,
            169.61942238968956,
            169.2074652960405,
            160.4222451492497,
            239.17224703789745,
            256.561051347467,
            199.6467954344827,
            -114.05990247263848,
            -108.7600623231707,
            -103.63495230190627,
            -112.99865898190635,
            -104.38948385490258,
            35.48027100668911,
            224.28512560796378,
            -38.690818063787766,
            -106.09577552913889,
            -114.11481366626953,
            -25.489310117438965,
            265.1010113914802,
            -74.35330825592483,
            -102.81598458354233,
            -94.02448576309367,
            259.0371415076307,
            216.74401378322744,
            255.4083122903,
            262.1376121729754,
            5.1759302160625085,
            -114.06949804507381,
            21.357394884362343,
            -108.88303996714916,
            -114.06646427282757,
            -111.18771634682757,
            -113.96225007862442,
            -54.128599084318616,
            244.3852688266943,
            -51.37006513349091,
            -86.9884678795178,
            -113.86889943603815,
            -114.07424990038379,
            -112.6331346435901,
            -110.66371285842735,
            -92.75866346122679,
            -71.72665877308334,
            -24.077713936593028,
            -113.45229383002638,
            -68.68802582856104,
            -97.65164467322693,
            -101.06432349126617,
            -113.98581122066781,
            -110.39992978782035,
            -112.52902114525878,
            -110.06241004990368,
            -88.8401046296246,
            -106.01042450868017,
            -110.0135712684165,
            -105.62307101004136,
            -125.44519739391006,
            -76.63952473059767,
            -52.10746455779681,
            -120.7183583281805,
            -127.15036897996082,
            -33.34447531526588,
            -33.269338331890246,
            -29.716046933000484,
            -33.3991684235639,
            -33.42656828924768,
            -33.40332837896132,
            -32.35777264058851,
            -33.47766400068419,
            5.781484954544782,
            1.0393887014143077,
            0.9380922013567985,
            4.251825104028836,
            1.009064229838786
           ]
          },
          {
           "axis": {
            "matches": true
           },
           "label": "PC 3",
           "values": [
            -3.1726926409604386,
            -30.781886774776417,
            -16.75362820644424,
            -6.534195370236318,
            -13.158520095538448,
            -16.486203553897365,
            -7.380790161478359,
            -30.315526225817987,
            -34.019538003962985,
            -22.147468619412457,
            -28.954538574456027,
            -19.78028118890811,
            13.29112088296943,
            -11.819263712972003,
            -28.775753608988566,
            -7.812460167143978,
            13.124698084315813,
            -27.23868823347337,
            9.407337034623461,
            -17.82279612501546,
            -40.01256115289502,
            -32.977845263223266,
            -35.429552637170595,
            -41.74871661622062,
            -36.93484864235413,
            -28.4630925989354,
            -33.499969172537476,
            -30.946751782319275,
            -36.68119803099288,
            -31.06828977386956,
            -36.72767146932467,
            -40.69346358560738,
            -25.062983890230047,
            -37.000816014828565,
            -36.02360332936074,
            -19.255554442114544,
            -13.820606033430865,
            1.0357679534095774,
            9.528071856198071,
            61.6429246881323,
            66.39753114416054,
            26.539241632587064,
            23.697561597268532,
            23.360511722878737,
            -2.037567307099502,
            2.380188178537818,
            2.392654385082052,
            -37.36980907348516,
            -45.98534304715736,
            -19.44763994985877,
            7.5526095937017175,
            -5.111926575512853,
            26.876712599308423,
            26.355143760402804,
            61.46677471274237,
            68.88265282027876,
            63.399982078177445,
            64.12330974080216,
            27.20039861406582,
            13.188967260459316,
            -1.4832686638745538,
            -21.77876273340928,
            -2.1349996810941274,
            16.117336101305675,
            -6.603601779532072,
            75.79031243490459,
            65.21777960961364,
            30.520275241861466,
            18.398251553898497,
            21.67117673268493,
            29.988952431920136,
            21.6137152707337,
            29.022430475083386,
            30.367702447388364,
            38.68528500920446,
            9.292752303723926,
            -13.081411627403426,
            8.457524537375834,
            2.349667065861611,
            15.323016530434742,
            23.58331033329506,
            -4.457831940558791,
            24.431220889542708,
            13.544744582570047,
            -6.786846674661961,
            -12.528437121079714,
            -4.891846935777758,
            -13.335694577708479,
            -33.153107966783956,
            -15.61580121627328,
            -18.098268685143942,
            -23.969632922929712,
            8.06472318737607,
            26.883522041136846,
            -10.122569442192908,
            -10.192977809952378,
            -20.347258569776173,
            -24.633387846030317,
            5.058946879110363,
            -14.615537987769564,
            -18.440993071398214,
            -11.793253609208795,
            -15.08244503530736,
            -24.48268352859937,
            -26.315214554084044,
            -31.811450537944786,
            -28.420604659688717,
            -22.74620027754968,
            -31.734234773116526,
            -27.48230655618459,
            0.5290459861641434,
            -15.403451553442295,
            -24.509933070447108,
            -26.518744485549902,
            -17.255852499997953,
            -19.732052343279516,
            -8.646198148666121,
            -16.147572712329634,
            -8.133488329236814,
            -3.2326787454442143,
            -30.98085572110424,
            -41.587614473050216,
            -48.594306596011776,
            -52.21200049267136,
            -50.78829934780742,
            -45.07156596427147,
            -51.07818265513228,
            -27.529184982033147,
            -29.587543615002627,
            -26.76495467722741,
            -29.34654123421897,
            -28.45530849443206,
            -28.228479754808603,
            -26.764030653694096,
            -26.289327346063068,
            -29.216905282233558,
            -25.27752218558087,
            -29.143002699481496,
            -29.578349259350638,
            -29.20258931991156,
            -26.273244555530596,
            -32.29873555513758,
            -34.530415762253156,
            -34.49684444313364,
            -33.09089737159778,
            -29.323932391318685,
            -28.198478042778827,
            -31.393564918454366,
            -29.022230682743658,
            -29.097658518065117,
            -30.704031764204565,
            -31.936328093412115,
            -22.7956181232189,
            -29.16339197201067,
            -28.588247704839784,
            -12.984442306724729,
            -21.710971147381628,
            -29.65496020664362,
            -31.577159473269766,
            -31.91073850419255,
            -25.54215698734108,
            -24.655899226029767,
            -30.625206447385352,
            -27.46583405152196,
            -26.815362571154015,
            -23.91435864715095,
            -28.80037683142585,
            -13.385772095175739,
            -27.71879933061757,
            -27.829333039373505,
            -26.75589891064599,
            -29.90403263714969,
            -33.308275925000274,
            -29.41817972413976,
            -17.780146736980683,
            9.60504082574253,
            -1.5333361123026477,
            -21.047293496584032,
            -21.775308777250654,
            -19.18947980999151,
            -38.21318047135938,
            -22.485659072645216,
            -44.657066128708486,
            -47.36864732421685,
            -43.61412899896337,
            -27.556278110301065,
            -15.385211375382044,
            41.51901602363125,
            51.07955088509219,
            43.26720865561799,
            56.984096045472434,
            49.70841435033784,
            53.26225277134071,
            62.41600254309848,
            56.14111309077611,
            57.821230820488,
            63.006500813765186,
            61.69892160542574,
            59.706790938570535,
            93.49004975307747,
            94.85627622343037,
            62.76410235358409,
            80.2922982108833,
            63.230329438180775,
            64.35286065408961,
            14.760563078449218,
            -8.008500274240559,
            -23.809767262042133,
            -13.026830549969514,
            -45.11459544450223,
            -38.510973246106495,
            -36.5497603143869,
            -9.403211230420023,
            7.60380983290198,
            23.58487153244904,
            -0.22459721505075905,
            -11.256113644269174,
            -32.878439188861115,
            -40.344234948904734,
            -38.49941625640308,
            -31.866225735192664,
            -35.15274128658223,
            -23.677344542869143,
            -25.957771001704412,
            -23.473476953906147,
            -26.99991125280468,
            -29.62004381681457,
            -24.575186719685036,
            23.07814159363724,
            19.69349795846997,
            -16.281304309473757,
            -22.279068161137353,
            -19.519484017058964,
            -17.30691328475417,
            -14.307373240147424,
            -11.18144688295431,
            -22.648890925662453,
            -18.5322880963459,
            40.2421860564582,
            22.13197604963217,
            12.445488108394631,
            4.1043558834805935,
            13.983564465812705,
            48.586473297202794,
            -6.2853146958742485,
            -2.468523042433041,
            25.057264621126883,
            -8.18634937885051,
            14.64833307745749,
            38.36103910066398,
            41.74394970048113,
            45.50899603459647,
            46.96139616334971,
            45.49924494579126,
            62.99103343539666,
            72.43796261113555,
            61.34653228390971,
            -21.36599355246979,
            -31.367493628848358,
            -31.485465648965143,
            -17.9913601887655,
            -23.412416281440983,
            -24.827802364502702,
            -27.763721239348563,
            -25.153109466698695,
            -3.716357091538441,
            -20.38758261321813,
            -6.391541077014912,
            4.771319071457519,
            -7.090765052013425,
            7.718045745700234,
            27.623372330658995,
            -4.506446740412977,
            0.9379911400836953,
            30.977333580966533,
            23.554875927579914,
            18.78810420916901,
            35.041884526272895,
            31.244482021119964,
            15.464678108648984,
            -8.588984775746601,
            11.8738471423407,
            2.92992013842818,
            64.13818442043092,
            74.79807777947087,
            45.6898729213458,
            57.182113174861236,
            43.68138849509194,
            32.830262472576685,
            50.405571677030046,
            59.406082179829994,
            59.53675853006155,
            62.67917787563572,
            18.85427601581856,
            0.6196408908898918,
            9.491969534664522,
            -5.557992357846318,
            -11.717286255275416,
            70.51341295088282,
            78.09368056789603,
            49.245968603906896,
            28.141449789424772,
            45.1324343645922,
            45.85675612342624,
            17.479547538619244,
            4.4194201941349,
            -5.8751688845149515,
            -4.762834343618355,
            -27.586213860854578,
            -23.701925810221315,
            6.474961514310963,
            -5.307137203687035,
            -34.231979931142135,
            -28.043833549334032,
            -31.61193526076484,
            -24.566241940170407,
            -29.22009763536053,
            -20.45018408106299,
            -16.51243697680794,
            -10.388188245495,
            -6.331730185305835,
            -7.8132186405171895,
            -4.559857480790695,
            -23.242810318148642,
            2.996163138935233,
            22.400620400219985,
            11.490316263004761,
            -0.3132376652110409,
            27.626819770156686,
            34.543942017063415,
            23.229063561267438,
            35.29093298423436,
            40.32317600959741,
            -0.9273820505832032,
            -1.3216284430794656,
            1.3854834218374492,
            -7.734612158286859,
            -17.79142122381852,
            -0.8121559756452061,
            -7.067341412656633,
            -16.9275282590333,
            18.685687464410325,
            1.3703644072263101,
            33.56820065261242,
            55.44197115595743,
            3.0215998881494817,
            0.44528396369686135,
            72.73325475767548,
            61.6531834986796,
            37.95661157065119,
            30.29658848169866,
            57.24606117209394,
            69.673574179281,
            54.879222674536344,
            72.6673897664641,
            74.87153493062442,
            -6.472607394676605,
            -1.4767438049930885,
            4.330632346189653,
            5.920052124085714,
            1.6885855018990712,
            -0.6879792665524697,
            -4.892771343552689,
            0.776100496781186,
            6.242051581955817,
            2.2400263313015225,
            -0.11024448742462502,
            -2.3272714932962675,
            -7.047917196435932,
            -4.668944274622881,
            -5.535890959558069,
            -7.460419740890049,
            0.8980313559612096,
            -10.555660460145056,
            -10.942873651673462,
            -7.068003473537516,
            -3.65474157447205,
            -8.360624143621868,
            -6.782213499804708,
            -9.33709834693021,
            -3.676212152840474,
            -8.635900845529193,
            -9.475420231800323,
            -9.553036065690264,
            -0.9963034921896955,
            -8.8043193552252,
            -10.09373308694278,
            -2.4770014235411546,
            -9.623849299611448,
            -8.370826517901836,
            -6.5051596080672835,
            4.71150346419617,
            -7.422188277191097,
            -3.0805964491292768,
            -4.833436762972626,
            -7.8345070054711545,
            -6.012756328883831,
            -8.192013135146414,
            -10.46359243854311,
            8.086999101206066,
            -9.949227539657718,
            -9.225339476183263,
            -8.678055165400933,
            -6.271016775735831,
            2.4282862655855517,
            -9.817265735488832,
            -8.979658180289048,
            -6.928140755881325,
            -6.194392012929376,
            -4.053986466474336,
            0.5798613316669818,
            -0.7809936654870994,
            -1.9173084047676523,
            -4.992312252072458,
            -3.866304636701283,
            -1.3577477006064729,
            6.116858043320269,
            4.642042025988759,
            -0.9609149534487524,
            16.563223519342692,
            -6.842624229183111,
            -3.336724629120619,
            3.246101537244682,
            11.155692477365967,
            22.637543119499103,
            3.0393138662303962,
            30.476750492389467,
            16.065076493156376,
            14.383981950398784,
            1.7469425053812648,
            9.003455636610555,
            2.6508954039666373,
            17.754376993454997,
            7.425747072147917,
            2.045277090501171,
            1.4075741362923373,
            4.77169214497274,
            -0.658385288191578,
            6.3917198617615885,
            -4.789117372903816,
            -3.5976443628144312,
            -6.702732106390163,
            -8.733436417941627,
            -8.781411098878442,
            -3.264225969594993,
            2.76288677672536,
            -4.296898449658716,
            -6.020653602590106,
            -7.952867872468989,
            -5.557685147299147,
            6.101938535464926,
            -6.506277510513824,
            -2.32530234066012,
            -7.755077034678197,
            4.675969145709522,
            9.482928947489441,
            9.300796741320847,
            15.370212500922115,
            6.541674025580759,
            3.223474707326986,
            2.189470721076201,
            0.3638464928169268,
            4.351152723665926,
            -0.4347168360682548,
            17.722147117009996,
            32.16738276254887,
            11.643917421919799,
            -3.460159618034143,
            13.604538728486213,
            24.086577796401528,
            3.421257663561181,
            -1.2816268740765517,
            10.490431106271517,
            16.748594720837325,
            -4.396298415909908,
            -5.27493611487488,
            -4.0780300909702705,
            -6.483333776848765,
            -6.040882790545333,
            0.8498153530356636,
            18.52576758123697,
            11.184273565939847,
            9.61742152455441,
            37.154937813914415,
            36.185938681544386,
            28.461279864085093,
            6.824364477939225,
            27.35420506070462,
            0.03013239581692907,
            -3.5522149834935064,
            -3.2506208805867502,
            -4.459067441387167,
            7.394657535275771,
            1.4009544160073575,
            9.870933795791606,
            20.03338454239044,
            -13.716463972132928,
            -11.318033529401312,
            -7.222819667173904,
            -13.598489014860615,
            -18.23391844133639,
            -20.978012302706595,
            -26.794149767490236,
            -37.285181328956874,
            -35.98834187949567,
            -29.77243230623299
           ]
          },
          {
           "axis": {
            "matches": true
           },
           "label": "PC 4",
           "values": [
            5.291593112234526,
            1.2967758967992016,
            -10.278398887628734,
            -19.644920785307168,
            -14.17814069865929,
            -11.335211503062423,
            1.84761944574211,
            20.94065829061849,
            23.8693336191554,
            14.314640741435928,
            19.840334782056956,
            12.270127064506333,
            -15.595629208522388,
            -11.069974055899586,
            3.4039197897020514,
            -14.440912593053252,
            -31.865534235405455,
            1.851180586284108,
            -27.393236849721767,
            -6.0563167656107275,
            12.547207066438448,
            6.612095730940418,
            8.453998753410161,
            13.772675106158633,
            9.848629103959823,
            4.144366398737496,
            7.289547668986414,
            6.170358389412518,
            9.859291299734116,
            5.277792451485987,
            10.004787931538246,
            13.402567780998641,
            2.0259967078222036,
            10.378924670826125,
            11.247389837827537,
            -6.324899745490542,
            -10.653126841136855,
            -23.362133074874563,
            -30.505202978814122,
            22.146859198308693,
            18.223780432368695,
            -47.160907155178656,
            -44.772797868569114,
            -44.71713130445706,
            -23.317437735867056,
            -27.206679551503658,
            -27.345462681660706,
            6.083361290003821,
            12.880466930741079,
            -8.979591877398484,
            -3.5245665390602112,
            7.2998877840313385,
            -19.54763181435782,
            -19.21699246809967,
            34.61310849028318,
            34.28190628289019,
            37.616566658041016,
            53.237810084769634,
            -12.252873467274188,
            -0.6668115986638175,
            11.600486116145174,
            28.90676719343463,
            12.338499057135348,
            -3.070479575007599,
            2.8851856439393178,
            21.810516448646005,
            30.527061512309057,
            -27.875155305997065,
            -17.84207901133078,
            -20.454508457132448,
            -46.28091016472024,
            -39.22683667479027,
            -45.544265472022104,
            -46.522966964679775,
            -48.5062052436956,
            -23.626660597225413,
            -4.749116000995416,
            -23.04418292110894,
            -17.921399778204943,
            -28.91778565177411,
            -9.403408291626231,
            14.169225165571426,
            -10.168771589199364,
            -0.9282322873644654,
            -18.46157542822726,
            -13.462904167358944,
            -20.16765701286819,
            -12.923550457667522,
            5.330398228654558,
            -9.432959225070844,
            -7.402695561254788,
            -2.4595213817278876,
            5.928004416355722,
            -9.880906005978936,
            21.13212324604299,
            -13.037841112224042,
            -5.179590649043906,
            -1.3967690488616,
            -26.333238098042116,
            -9.90643844035374,
            -1.077199862319434,
            -6.628415219958153,
            1.1713165691449094,
            3.8764683509695517,
            5.471647087385102,
            9.927143730912128,
            6.97839087064303,
            2.4742373951788745,
            10.000611675404992,
            6.379576580653412,
            -17.157823490365683,
            -0.857600412917829,
            6.602740501581767,
            8.24619803319033,
            0.7804779741587288,
            3.3899582505392596,
            -6.5769296736752985,
            -0.2214265690842797,
            -6.267238160501277,
            -11.16242820492177,
            -3.563880728206167,
            5.5530906588758535,
            11.32277723737781,
            14.240875363407788,
            13.157770411698763,
            8.34665238792719,
            13.393496576246122,
            8.288496437489579,
            10.014871875144422,
            7.549385480049617,
            9.945984993761762,
            9.196941975629539,
            9.21170423814128,
            7.799291522035073,
            9.320865391654772,
            9.701544121729455,
            6.631488395293006,
            9.713563855895345,
            9.876201090547246,
            9.584962297565859,
            7.0632337628414055,
            11.666690561504023,
            12.269094093220641,
            12.271786955997225,
            10.962108974574438,
            11.387237059001082,
            10.858788996098056,
            9.604422985388826,
            8.200532754087886,
            8.58213094760001,
            9.835636664924692,
            11.382873466976301,
            3.6864437245209247,
            10.239643748172194,
            8.83986046598594,
            -0.5782078883733942,
            6.696943405238949,
            9.424119569728575,
            11.122061891107025,
            11.212575725916635,
            6.308725591155128,
            5.1472201102067014,
            9.940879704051786,
            7.257234524697019,
            6.329177271025337,
            6.404232200476672,
            8.67096914593998,
            -2.3574877570920507,
            8.649827914908135,
            8.224800916757546,
            7.795029204802061,
            9.66053737380707,
            6.591235277865264,
            3.5322358013409714,
            -6.256754081368619,
            -29.119873183686735,
            -19.919823460694182,
            -3.403504948924395,
            -2.753437450205815,
            -10.92245162787432,
            5.042309753284186,
            -8.30864126166818,
            10.575301304977142,
            12.787195785132102,
            9.441443406196129,
            -3.977370393454507,
            -14.016379502862879,
            8.62658550736233,
            0.8487159594686176,
            7.184280747539509,
            -3.9796561886912327,
            1.9690033894632013,
            -0.9720480501873536,
            2.9425427888748854,
            8.51030034116628,
            32.49853280730739,
            32.502786807901906,
            34.12671924939201,
            35.27248273868463,
            30.457779925075315,
            29.511219412238656,
            36.83686485754427,
            22.20457819390102,
            45.39596749782237,
            44.51787267368434,
            -35.46865527108925,
            -16.24067488805833,
            -3.084479130321223,
            -11.930096799019292,
            14.555035638301604,
            9.243895559627203,
            7.329485254133293,
            -15.203999614231282,
            -29.211960058608824,
            -42.77327340140743,
            -22.746107307829043,
            -13.887042207901617,
            4.470060866095874,
            10.394625788611126,
            9.1582386909864,
            6.028419996840537,
            8.354789177537857,
            -0.8344281220850919,
            1.0572153988872488,
            -0.738571324226967,
            2.271729704233582,
            4.446627325278603,
            0.32537319957530336,
            -39.80561956136156,
            -37.00293388944451,
            -6.923862487087711,
            -1.6143766838639284,
            -3.9838982760877113,
            -5.798729900532137,
            -8.17613870313383,
            -11.171870758981816,
            -1.6258090189191812,
            -4.9534751663501675,
            -15.475430413662226,
            -0.32342828108366223,
            7.5939307947411665,
            14.524344318636825,
            6.619192900588362,
            -22.356214241645894,
            14.845547329965385,
            11.17172401051902,
            -11.710425191837276,
            16.476288403860398,
            -2.7202239244679096,
            -22.89197214837486,
            -25.780144521056588,
            -28.570702596973568,
            -29.870617173766362,
            -28.79274846560218,
            31.411411768856077,
            23.3281322966044,
            41.7027484176165,
            21.255610217043397,
            29.68408296761053,
            29.675961769469232,
            18.214201830512835,
            22.930718762227148,
            24.20535988411212,
            26.385184547474694,
            24.36547192379084,
            6.15229714547262,
            20.20264482629348,
            8.669683035263924,
            -0.6726802217385496,
            6.095666912596262,
            -6.289088524167761,
            -22.972166905710626,
            4.062939348710009,
            -0.38717190229376686,
            2.218262450407638,
            8.497030537148229,
            12.556963983634594,
            -1.138614044469622,
            1.8731278389976114,
            -12.659552187379951,
            7.817358127248697,
            -9.508007047102717,
            -1.677880642487253,
            36.82462533502899,
            32.67012965369687,
            12.577582685745575,
            32.61863975448657,
            10.195438089543883,
            19.320577557693685,
            4.855772921981378,
            29.897608120048456,
            29.78353030089311,
            27.09363924343044,
            -38.25044944740991,
            -22.953753659697508,
            -30.264569027323944,
            -17.564461062221874,
            -12.71012724115307,
            15.113194746178204,
            8.690235229761772,
            32.636196113077624,
            1.146474003456659,
            -12.944508404139745,
            -13.532206795338755,
            2.813958692171582,
            13.720384120862587,
            22.41288046818195,
            21.438583025351985,
            2.056584596974551,
            -1.4006781842543066,
            -26.17383813113451,
            -16.782063457639964,
            7.39759147940934,
            2.37728300653396,
            5.319114487582803,
            -0.6959927859839615,
            3.0947243881218593,
            -4.312154034809877,
            -7.430080645704943,
            -12.66445513211919,
            -16.74147886619303,
            -15.483114961426963,
            -18.243441525835426,
            -2.5542078279455294,
            -24.551915281896783,
            -40.78405134749288,
            -31.680392556466927,
            -21.960814746544997,
            -36.24680316169155,
            -41.86727472870174,
            -32.265654034198654,
            -5.009089305537068,
            -8.590981689575063,
            -24.61051089086864,
            -24.309050633700707,
            -26.77084804089403,
            -19.180829240873287,
            -10.686914357346826,
            -24.971835680719238,
            -19.756350185796826,
            -11.437079902726273,
            8.495865098443609,
            -14.421933991922048,
            26.5635114312861,
            8.398064159620775,
            -20.248014565454447,
            -17.816698446215316,
            31.670223959619292,
            30.555203273412253,
            1.7660091804897944,
            8.099310759529846,
            16.389647585430232,
            5.499682029662686,
            44.06514106525466,
            24.413417208136377,
            22.749212414247204,
            4.495761237094537,
            0.14303361551481325,
            -4.724046934927122,
            -6.052960821138535,
            -2.0647812526318594,
            0.08153920152611133,
            3.2588649997063426,
            -1.2175525640038025,
            -5.521652404277837,
            -2.2571259934224135,
            0.1115834946537179,
            5.070420899905807,
            5.371582955330682,
            3.386579245815951,
            3.889897114520965,
            5.742037307832362,
            -1.0092397497861383,
            7.052922368848966,
            7.3938977238855434,
            4.994598557749235,
            2.2523856293584155,
            5.652515285338288,
            4.4810992176893,
            6.643185962168222,
            3.226002154474175,
            5.999412777437954,
            6.499497625177859,
            6.510360374688,
            1.0560393074546823,
            5.82152358707493,
            7.118729040153011,
            0.5557583526816633,
            6.856591225185356,
            5.646122103765566,
            4.227262548691332,
            -5.036352769291414,
            4.746392952928744,
            1.3963147809390846,
            2.9127984998317538,
            5.415124415516519,
            3.676717844242283,
            5.577427345695228,
            7.606677832027929,
            -7.5604223739288745,
            7.075948150662004,
            6.492493803784443,
            6.282726228665501,
            4.202462505521643,
            -2.018509524865258,
            8.017191093723639,
            6.683778205763537,
            5.7929246787618345,
            4.909059495195877,
            5.597872726467126,
            5.435541126421003,
            5.069057417528233,
            5.757088087582689,
            6.115448493851124,
            6.845918391102819,
            5.501260315644862,
            -0.7209015533435823,
            -0.9365817387472066,
            6.57740684306799,
            -9.827309130762222,
            5.8526408152533795,
            2.783796535702094,
            -2.1709004262984664,
            -4.645768717898396,
            -14.10542687711424,
            2.219553052564805,
            -20.93115011871825,
            -8.220794330530989,
            -8.792954325780624,
            2.3729315509172744,
            -3.8978034742112055,
            1.452143835300158,
            -11.341806359587988,
            -2.8263635282362003,
            1.8722959708058546,
            1.949251964706396,
            0.6399136865525826,
            5.23086413170376,
            -1.930631062949833,
            2.59025103614167,
            1.9231640453767105,
            4.508827519491191,
            6.086578650934993,
            6.270894134591021,
            3.8130717134857566,
            1.8245278873160564,
            3.5532879395144956,
            4.002586170797143,
            5.433450904535655,
            4.810277444677403,
            -0.14956966834126226,
            4.826486567404502,
            0.8401265886005004,
            5.6456069384045335,
            0.9647251437827769,
            -3.851667442703008,
            -3.088832937500513,
            -7.952897677843755,
            -4.745889358198063,
            -3.89342436645607,
            -0.8731611970740865,
            -1.4543667554641877,
            -4.819415962936944,
            -0.628178185356646,
            -16.02653825804645,
            -27.316454261354846,
            -5.1873645353252344,
            2.505791203528101,
            -12.144714962486216,
            -21.35646334834942,
            -4.141368537243571,
            -0.045273486873363425,
            -9.992497485500921,
            -14.86971737406991,
            3.1156549622456633,
            4.416223008506499,
            2.089683185960569,
            4.806864814548401,
            4.110490321903498,
            -1.5253081406693831,
            -16.637886484109853,
            -10.296314167440212,
            -8.980981180353638,
            -32.28424643884338,
            -31.235226617447548,
            -24.883596850436305,
            -6.8540444584121385,
            -23.99116735796878,
            0.7208667821330265,
            4.34801689081395,
            4.31124739914407,
            4.586441727338428,
            -5.3392857383722605,
            -17.564990982856035,
            -24.74662936481207,
            -33.36787785929947,
            -5.117108576808208,
            -6.89822679600688,
            -10.326458558904836,
            -5.016334937969337,
            -1.0955507898743515,
            -5.706647169822614,
            -0.878984603857149,
            8.073690311875584,
            7.0164343424262805,
            1.676859732872916
           ]
          }
         ],
         "hovertemplate": "%{xaxis.title.text}=%{x}<br>%{yaxis.title.text}=%{y}<br>Median Price=%{marker.color}<extra></extra>",
         "legendgroup": "",
         "marker": {
          "color": [
           24,
           21.6,
           34.7,
           33.4,
           36.2,
           28.7,
           22.9,
           27.1,
           16.5,
           18.9,
           15,
           18.9,
           21.7,
           20.4,
           18.2,
           19.9,
           23.1,
           17.5,
           20.2,
           18.2,
           13.6,
           19.6,
           15.2,
           14.5,
           15.6,
           13.9,
           16.6,
           14.8,
           18.4,
           21,
           12.7,
           14.5,
           13.2,
           13.1,
           13.5,
           18.9,
           20,
           21,
           24.7,
           30.8,
           34.9,
           26.6,
           25.3,
           24.7,
           21.2,
           19.3,
           20,
           16.6,
           14.4,
           19.4,
           19.7,
           20.5,
           25,
           23.4,
           18.9,
           35.4,
           24.7,
           31.6,
           23.3,
           19.6,
           18.7,
           16,
           22.2,
           25,
           33,
           23.5,
           19.4,
           22,
           17.4,
           20.9,
           24.2,
           21.7,
           22.8,
           23.4,
           24.1,
           21.4,
           20,
           20.8,
           21.2,
           20.3,
           28,
           23.9,
           24.8,
           22.9,
           23.9,
           26.6,
           22.5,
           22.2,
           23.6,
           28.7,
           22.6,
           22,
           22.9,
           25,
           20.6,
           28.4,
           21.4,
           38.7,
           43.8,
           33.2,
           27.5,
           26.5,
           18.6,
           19.3,
           20.1,
           19.5,
           19.5,
           20.4,
           19.8,
           19.4,
           21.7,
           22.8,
           18.8,
           18.7,
           18.5,
           18.3,
           21.2,
           19.2,
           20.4,
           19.3,
           22,
           20.3,
           20.5,
           17.3,
           18.8,
           21.4,
           15.7,
           16.2,
           18,
           14.3,
           19.2,
           19.6,
           23,
           18.4,
           15.6,
           18.1,
           17.4,
           17.1,
           13.3,
           17.8,
           14,
           14.4,
           13.4,
           15.6,
           11.8,
           13.8,
           15.6,
           14.6,
           17.8,
           15.4,
           21.5,
           19.6,
           15.3,
           19.4,
           17,
           15.6,
           13.1,
           41.3,
           24.3,
           23.3,
           27,
           50,
           50,
           50,
           22.7,
           25,
           50,
           23.8,
           23.8,
           22.3,
           17.4,
           19.1,
           23.1,
           23.6,
           22.6,
           29.4,
           23.2,
           24.6,
           29.9,
           37.2,
           39.8,
           36.2,
           37.9,
           32.5,
           26.4,
           29.6,
           50,
           32,
           29.8,
           34.9,
           37,
           30.5,
           36.4,
           31.1,
           29.1,
           50,
           33.3,
           30.3,
           34.6,
           34.9,
           32.9,
           24.1,
           42.3,
           48.5,
           50,
           22.6,
           24.4,
           22.5,
           24.4,
           20,
           21.7,
           19.3,
           22.4,
           28.1,
           23.7,
           25,
           23.3,
           28.7,
           21.5,
           23,
           26.7,
           21.7,
           27.5,
           30.1,
           44.8,
           50,
           37.6,
           31.6,
           46.7,
           31.5,
           24.3,
           31.7,
           41.7,
           48.3,
           29,
           24,
           25.1,
           31.5,
           23.7,
           23.3,
           22,
           20.1,
           22.2,
           23.7,
           17.6,
           18.5,
           24.3,
           20.5,
           24.5,
           26.2,
           24.4,
           24.8,
           29.6,
           42.8,
           21.9,
           20.9,
           44,
           50,
           36,
           30.1,
           33.8,
           43.1,
           48.8,
           31,
           36.5,
           22.8,
           30.7,
           50,
           43.5,
           20.7,
           21.1,
           25.2,
           24.4,
           35.2,
           32.4,
           32,
           33.2,
           33.1,
           29.1,
           35.1,
           45.4,
           35.4,
           46,
           50,
           32.2,
           22,
           20.1,
           23.2,
           22.3,
           24.8,
           28.5,
           37.3,
           27.9,
           23.9,
           21.7,
           28.6,
           27.1,
           20.3,
           22.5,
           29,
           24.8,
           22,
           26.4,
           33.1,
           36.1,
           28.4,
           33.4,
           28.2,
           22.8,
           20.3,
           16.1,
           22.1,
           19.4,
           21.6,
           23.8,
           16.2,
           17.8,
           19.8,
           23.1,
           21,
           23.8,
           23.1,
           20.4,
           18.5,
           25,
           24.6,
           23,
           22.2,
           19.3,
           22.6,
           19.8,
           17.1,
           19.4,
           22.2,
           20.7,
           21.1,
           19.5,
           18.5,
           20.6,
           19,
           18.7,
           32.7,
           16.5,
           23.9,
           31.2,
           17.5,
           17.2,
           23.1,
           24.5,
           26.6,
           22.9,
           24.1,
           18.6,
           30.1,
           18.2,
           20.6,
           17.8,
           21.7,
           22.7,
           22.6,
           25,
           19.9,
           20.8,
           16.8,
           21.9,
           27.5,
           21.9,
           23.1,
           50,
           50,
           50,
           50,
           50,
           13.8,
           13.8,
           15,
           13.9,
           13.3,
           13.1,
           10.2,
           10.4,
           10.9,
           11.3,
           12.3,
           8.8,
           7.2,
           10.5,
           7.4,
           10.2,
           11.5,
           15.1,
           23.2,
           9.7,
           13.8,
           12.7,
           13.1,
           12.5,
           8.5,
           5,
           6.3,
           5.6,
           7.2,
           12.1,
           8.3,
           8.5,
           5,
           11.9,
           27.9,
           17.2,
           27.5,
           15,
           17.2,
           17.9,
           16.3,
           7,
           7.2,
           7.5,
           10.4,
           8.8,
           8.4,
           16.7,
           14.2,
           20.8,
           13.4,
           11.7,
           8.3,
           10.2,
           10.9,
           11,
           9.5,
           14.5,
           14.1,
           16.1,
           14.3,
           11.7,
           13.4,
           9.6,
           8.7,
           8.4,
           12.8,
           10.5,
           17.1,
           18.4,
           15.4,
           10.8,
           11.8,
           14.9,
           12.6,
           14.1,
           13,
           13.4,
           15.2,
           16.1,
           17.8,
           14.9,
           14.1,
           12.7,
           13.5,
           14.9,
           20,
           16.4,
           17.7,
           19.5,
           20.2,
           21.4,
           19.9,
           19,
           19.1,
           19.1,
           20.1,
           19.9,
           19.6,
           23.2,
           29.8,
           13.8,
           13.3,
           16.7,
           12,
           14.6,
           21.4,
           23,
           23.7,
           25,
           21.8,
           20.6,
           21.2,
           19.1,
           20.6,
           15.2,
           7,
           8.1,
           13.6,
           20.1,
           21.8,
           24.5,
           23.1,
           19.7,
           18.3,
           21.2,
           17.5,
           16.8,
           22.4,
           20.6,
           23.9,
           22,
           11.9
          ],
          "coloraxis": "coloraxis",
          "symbol": "circle"
         },
         "name": "",
         "selectedpoints": [
          32,
          34,
          102,
          145,
          146,
          155,
          156,
          167,
          367,
          410,
          411,
          412,
          414,
          415,
          416,
          417,
          418,
          419,
          423,
          424,
          425,
          426,
          427,
          428,
          429,
          430,
          431,
          432,
          433,
          434,
          435,
          436,
          437,
          438,
          445,
          450,
          454,
          455,
          456,
          457,
          466
         ],
         "showlegend": false,
         "type": "splom"
        }
       ],
       "layout": {
        "autosize": true,
        "coloraxis": {
         "colorbar": {
          "title": {
           "text": "Median Price"
          }
         },
         "colorscale": [
          [
           0,
           "#0d0887"
          ],
          [
           0.1111111111111111,
           "#46039f"
          ],
          [
           0.2222222222222222,
           "#7201a8"
          ],
          [
           0.3333333333333333,
           "#9c179e"
          ],
          [
           0.4444444444444444,
           "#bd3786"
          ],
          [
           0.5555555555555556,
           "#d8576b"
          ],
          [
           0.6666666666666666,
           "#ed7953"
          ],
          [
           0.7777777777777778,
           "#fb9f3a"
          ],
          [
           0.8888888888888888,
           "#fdca26"
          ],
          [
           1,
           "#f0f921"
          ]
         ]
        },
        "dragmode": "select",
        "legend": {
         "tracegroupgap": 0
        },
        "template": {
         "data": {
          "bar": [
           {
            "error_x": {
             "color": "#2a3f5f"
            },
            "error_y": {
             "color": "#2a3f5f"
            },
            "marker": {
             "line": {
              "color": "#E5ECF6",
              "width": 0.5
             }
            },
            "type": "bar"
           }
          ],
          "barpolar": [
           {
            "marker": {
             "line": {
              "color": "#E5ECF6",
              "width": 0.5
             }
            },
            "type": "barpolar"
           }
          ],
          "carpet": [
           {
            "aaxis": {
             "endlinecolor": "#2a3f5f",
             "gridcolor": "white",
             "linecolor": "white",
             "minorgridcolor": "white",
             "startlinecolor": "#2a3f5f"
            },
            "baxis": {
             "endlinecolor": "#2a3f5f",
             "gridcolor": "white",
             "linecolor": "white",
             "minorgridcolor": "white",
             "startlinecolor": "#2a3f5f"
            },
            "type": "carpet"
           }
          ],
          "choropleth": [
           {
            "colorbar": {
             "outlinewidth": 0,
             "ticks": ""
            },
            "type": "choropleth"
           }
          ],
          "contour": [
           {
            "colorbar": {
             "outlinewidth": 0,
             "ticks": ""
            },
            "colorscale": [
             [
              0,
              "#0d0887"
             ],
             [
              0.1111111111111111,
              "#46039f"
             ],
             [
              0.2222222222222222,
              "#7201a8"
             ],
             [
              0.3333333333333333,
              "#9c179e"
             ],
             [
              0.4444444444444444,
              "#bd3786"
             ],
             [
              0.5555555555555556,
              "#d8576b"
             ],
             [
              0.6666666666666666,
              "#ed7953"
             ],
             [
              0.7777777777777778,
              "#fb9f3a"
             ],
             [
              0.8888888888888888,
              "#fdca26"
             ],
             [
              1,
              "#f0f921"
             ]
            ],
            "type": "contour"
           }
          ],
          "contourcarpet": [
           {
            "colorbar": {
             "outlinewidth": 0,
             "ticks": ""
            },
            "type": "contourcarpet"
           }
          ],
          "heatmap": [
           {
            "colorbar": {
             "outlinewidth": 0,
             "ticks": ""
            },
            "colorscale": [
             [
              0,
              "#0d0887"
             ],
             [
              0.1111111111111111,
              "#46039f"
             ],
             [
              0.2222222222222222,
              "#7201a8"
             ],
             [
              0.3333333333333333,
              "#9c179e"
             ],
             [
              0.4444444444444444,
              "#bd3786"
             ],
             [
              0.5555555555555556,
              "#d8576b"
             ],
             [
              0.6666666666666666,
              "#ed7953"
             ],
             [
              0.7777777777777778,
              "#fb9f3a"
             ],
             [
              0.8888888888888888,
              "#fdca26"
             ],
             [
              1,
              "#f0f921"
             ]
            ],
            "type": "heatmap"
           }
          ],
          "heatmapgl": [
           {
            "colorbar": {
             "outlinewidth": 0,
             "ticks": ""
            },
            "colorscale": [
             [
              0,
              "#0d0887"
             ],
             [
              0.1111111111111111,
              "#46039f"
             ],
             [
              0.2222222222222222,
              "#7201a8"
             ],
             [
              0.3333333333333333,
              "#9c179e"
             ],
             [
              0.4444444444444444,
              "#bd3786"
             ],
             [
              0.5555555555555556,
              "#d8576b"
             ],
             [
              0.6666666666666666,
              "#ed7953"
             ],
             [
              0.7777777777777778,
              "#fb9f3a"
             ],
             [
              0.8888888888888888,
              "#fdca26"
             ],
             [
              1,
              "#f0f921"
             ]
            ],
            "type": "heatmapgl"
           }
          ],
          "histogram": [
           {
            "marker": {
             "colorbar": {
              "outlinewidth": 0,
              "ticks": ""
             }
            },
            "type": "histogram"
           }
          ],
          "histogram2d": [
           {
            "colorbar": {
             "outlinewidth": 0,
             "ticks": ""
            },
            "colorscale": [
             [
              0,
              "#0d0887"
             ],
             [
              0.1111111111111111,
              "#46039f"
             ],
             [
              0.2222222222222222,
              "#7201a8"
             ],
             [
              0.3333333333333333,
              "#9c179e"
             ],
             [
              0.4444444444444444,
              "#bd3786"
             ],
             [
              0.5555555555555556,
              "#d8576b"
             ],
             [
              0.6666666666666666,
              "#ed7953"
             ],
             [
              0.7777777777777778,
              "#fb9f3a"
             ],
             [
              0.8888888888888888,
              "#fdca26"
             ],
             [
              1,
              "#f0f921"
             ]
            ],
            "type": "histogram2d"
           }
          ],
          "histogram2dcontour": [
           {
            "colorbar": {
             "outlinewidth": 0,
             "ticks": ""
            },
            "colorscale": [
             [
              0,
              "#0d0887"
             ],
             [
              0.1111111111111111,
              "#46039f"
             ],
             [
              0.2222222222222222,
              "#7201a8"
             ],
             [
              0.3333333333333333,
              "#9c179e"
             ],
             [
              0.4444444444444444,
              "#bd3786"
             ],
             [
              0.5555555555555556,
              "#d8576b"
             ],
             [
              0.6666666666666666,
              "#ed7953"
             ],
             [
              0.7777777777777778,
              "#fb9f3a"
             ],
             [
              0.8888888888888888,
              "#fdca26"
             ],
             [
              1,
              "#f0f921"
             ]
            ],
            "type": "histogram2dcontour"
           }
          ],
          "mesh3d": [
           {
            "colorbar": {
             "outlinewidth": 0,
             "ticks": ""
            },
            "type": "mesh3d"
           }
          ],
          "parcoords": [
           {
            "line": {
             "colorbar": {
              "outlinewidth": 0,
              "ticks": ""
             }
            },
            "type": "parcoords"
           }
          ],
          "pie": [
           {
            "automargin": true,
            "type": "pie"
           }
          ],
          "scatter": [
           {
            "marker": {
             "colorbar": {
              "outlinewidth": 0,
              "ticks": ""
             }
            },
            "type": "scatter"
           }
          ],
          "scatter3d": [
           {
            "line": {
             "colorbar": {
              "outlinewidth": 0,
              "ticks": ""
             }
            },
            "marker": {
             "colorbar": {
              "outlinewidth": 0,
              "ticks": ""
             }
            },
            "type": "scatter3d"
           }
          ],
          "scattercarpet": [
           {
            "marker": {
             "colorbar": {
              "outlinewidth": 0,
              "ticks": ""
             }
            },
            "type": "scattercarpet"
           }
          ],
          "scattergeo": [
           {
            "marker": {
             "colorbar": {
              "outlinewidth": 0,
              "ticks": ""
             }
            },
            "type": "scattergeo"
           }
          ],
          "scattergl": [
           {
            "marker": {
             "colorbar": {
              "outlinewidth": 0,
              "ticks": ""
             }
            },
            "type": "scattergl"
           }
          ],
          "scattermapbox": [
           {
            "marker": {
             "colorbar": {
              "outlinewidth": 0,
              "ticks": ""
             }
            },
            "type": "scattermapbox"
           }
          ],
          "scatterpolar": [
           {
            "marker": {
             "colorbar": {
              "outlinewidth": 0,
              "ticks": ""
             }
            },
            "type": "scatterpolar"
           }
          ],
          "scatterpolargl": [
           {
            "marker": {
             "colorbar": {
              "outlinewidth": 0,
              "ticks": ""
             }
            },
            "type": "scatterpolargl"
           }
          ],
          "scatterternary": [
           {
            "marker": {
             "colorbar": {
              "outlinewidth": 0,
              "ticks": ""
             }
            },
            "type": "scatterternary"
           }
          ],
          "surface": [
           {
            "colorbar": {
             "outlinewidth": 0,
             "ticks": ""
            },
            "colorscale": [
             [
              0,
              "#0d0887"
             ],
             [
              0.1111111111111111,
              "#46039f"
             ],
             [
              0.2222222222222222,
              "#7201a8"
             ],
             [
              0.3333333333333333,
              "#9c179e"
             ],
             [
              0.4444444444444444,
              "#bd3786"
             ],
             [
              0.5555555555555556,
              "#d8576b"
             ],
             [
              0.6666666666666666,
              "#ed7953"
             ],
             [
              0.7777777777777778,
              "#fb9f3a"
             ],
             [
              0.8888888888888888,
              "#fdca26"
             ],
             [
              1,
              "#f0f921"
             ]
            ],
            "type": "surface"
           }
          ],
          "table": [
           {
            "cells": {
             "fill": {
              "color": "#EBF0F8"
             },
             "line": {
              "color": "white"
             }
            },
            "header": {
             "fill": {
              "color": "#C8D4E3"
             },
             "line": {
              "color": "white"
             }
            },
            "type": "table"
           }
          ]
         },
         "layout": {
          "annotationdefaults": {
           "arrowcolor": "#2a3f5f",
           "arrowhead": 0,
           "arrowwidth": 1
          },
          "autotypenumbers": "strict",
          "coloraxis": {
           "colorbar": {
            "outlinewidth": 0,
            "ticks": ""
           }
          },
          "colorscale": {
           "diverging": [
            [
             0,
             "#8e0152"
            ],
            [
             0.1,
             "#c51b7d"
            ],
            [
             0.2,
             "#de77ae"
            ],
            [
             0.3,
             "#f1b6da"
            ],
            [
             0.4,
             "#fde0ef"
            ],
            [
             0.5,
             "#f7f7f7"
            ],
            [
             0.6,
             "#e6f5d0"
            ],
            [
             0.7,
             "#b8e186"
            ],
            [
             0.8,
             "#7fbc41"
            ],
            [
             0.9,
             "#4d9221"
            ],
            [
             1,
             "#276419"
            ]
           ],
           "sequential": [
            [
             0,
             "#0d0887"
            ],
            [
             0.1111111111111111,
             "#46039f"
            ],
            [
             0.2222222222222222,
             "#7201a8"
            ],
            [
             0.3333333333333333,
             "#9c179e"
            ],
            [
             0.4444444444444444,
             "#bd3786"
            ],
            [
             0.5555555555555556,
             "#d8576b"
            ],
            [
             0.6666666666666666,
             "#ed7953"
            ],
            [
             0.7777777777777778,
             "#fb9f3a"
            ],
            [
             0.8888888888888888,
             "#fdca26"
            ],
            [
             1,
             "#f0f921"
            ]
           ],
           "sequentialminus": [
            [
             0,
             "#0d0887"
            ],
            [
             0.1111111111111111,
             "#46039f"
            ],
            [
             0.2222222222222222,
             "#7201a8"
            ],
            [
             0.3333333333333333,
             "#9c179e"
            ],
            [
             0.4444444444444444,
             "#bd3786"
            ],
            [
             0.5555555555555556,
             "#d8576b"
            ],
            [
             0.6666666666666666,
             "#ed7953"
            ],
            [
             0.7777777777777778,
             "#fb9f3a"
            ],
            [
             0.8888888888888888,
             "#fdca26"
            ],
            [
             1,
             "#f0f921"
            ]
           ]
          },
          "colorway": [
           "#636efa",
           "#EF553B",
           "#00cc96",
           "#ab63fa",
           "#FFA15A",
           "#19d3f3",
           "#FF6692",
           "#B6E880",
           "#FF97FF",
           "#FECB52"
          ],
          "font": {
           "color": "#2a3f5f"
          },
          "geo": {
           "bgcolor": "white",
           "lakecolor": "white",
           "landcolor": "#E5ECF6",
           "showlakes": true,
           "showland": true,
           "subunitcolor": "white"
          },
          "hoverlabel": {
           "align": "left"
          },
          "hovermode": "closest",
          "mapbox": {
           "style": "light"
          },
          "paper_bgcolor": "white",
          "plot_bgcolor": "#E5ECF6",
          "polar": {
           "angularaxis": {
            "gridcolor": "white",
            "linecolor": "white",
            "ticks": ""
           },
           "bgcolor": "#E5ECF6",
           "radialaxis": {
            "gridcolor": "white",
            "linecolor": "white",
            "ticks": ""
           }
          },
          "scene": {
           "xaxis": {
            "backgroundcolor": "#E5ECF6",
            "gridcolor": "white",
            "gridwidth": 2,
            "linecolor": "white",
            "showbackground": true,
            "ticks": "",
            "zerolinecolor": "white"
           },
           "yaxis": {
            "backgroundcolor": "#E5ECF6",
            "gridcolor": "white",
            "gridwidth": 2,
            "linecolor": "white",
            "showbackground": true,
            "ticks": "",
            "zerolinecolor": "white"
           },
           "zaxis": {
            "backgroundcolor": "#E5ECF6",
            "gridcolor": "white",
            "gridwidth": 2,
            "linecolor": "white",
            "showbackground": true,
            "ticks": "",
            "zerolinecolor": "white"
           }
          },
          "shapedefaults": {
           "line": {
            "color": "#2a3f5f"
           }
          },
          "ternary": {
           "aaxis": {
            "gridcolor": "white",
            "linecolor": "white",
            "ticks": ""
           },
           "baxis": {
            "gridcolor": "white",
            "linecolor": "white",
            "ticks": ""
           },
           "bgcolor": "#E5ECF6",
           "caxis": {
            "gridcolor": "white",
            "linecolor": "white",
            "ticks": ""
           }
          },
          "title": {
           "x": 0.05
          },
          "xaxis": {
           "automargin": true,
           "gridcolor": "white",
           "linecolor": "white",
           "ticks": "",
           "title": {
            "standoff": 15
           },
           "zerolinecolor": "white",
           "zerolinewidth": 2
          },
          "yaxis": {
           "automargin": true,
           "gridcolor": "white",
           "linecolor": "white",
           "ticks": "",
           "title": {
            "standoff": 15
           },
           "zerolinecolor": "white",
           "zerolinewidth": 2
          }
         }
        },
        "title": {
         "text": "Total Explained Variance: 99.72%"
        },
        "xaxis": {
         "autorange": true,
         "range": [
          -306.9212375797521,
          435.00085103958367
         ],
         "type": "linear"
        },
        "xaxis2": {
         "autorange": true,
         "range": [
          -184.7404651568587,
          337.9259539275929
         ],
         "type": "linear"
        },
        "xaxis3": {
         "autorange": true,
         "range": [
          -72.99718449411566,
          115.64146022487468
         ],
         "type": "linear"
        },
        "xaxis4": {
         "autorange": true,
         "range": [
          -62.885703847124766,
          67.6173086881988
         ],
         "type": "linear"
        },
        "yaxis": {
         "autorange": true,
         "range": [
          -306.9212375797521,
          435.00085103958367
         ],
         "type": "linear"
        },
        "yaxis2": {
         "autorange": true,
         "range": [
          -184.7404651568587,
          337.9259539275929
         ],
         "type": "linear"
        },
        "yaxis3": {
         "autorange": true,
         "range": [
          -72.99718449411566,
          115.64146022487468
         ],
         "type": "linear"
        },
        "yaxis4": {
         "autorange": true,
         "range": [
          -62.885703847124766,
          67.6173086881988
         ],
         "type": "linear"
        }
       }
      },
      "image/png": "[encoded data removed]",
      "text/html": [
       "<div>                            <div id=\"5bc5c2ca-d447-4706-9558-99aa16504d4e\" class=\"plotly-graph-div\" style=\"height:525px; width:100%;\"></div>            <script type=\"text/javascript\">                require([\"plotly\"], function(Plotly) {                    window.PLOTLYENV=window.PLOTLYENV || {};                                    if (document.getElementById(\"5bc5c2ca-d447-4706-9558-99aa16504d4e\")) {                    Plotly.newPlot(                        \"5bc5c2ca-d447-4706-9558-99aa16504d4e\",                        [{\"diagonal\": {\"visible\": false}, \"dimensions\": [{\"axis\": {\"matches\": true}, \"label\": \"PC 1\", \"values\": [-119.81884271656078, -168.89015548231225, -169.31170746584667, -190.2306422626733, -190.13345102539012, -188.95057656109333, -104.33599656015672, -102.09430836975716, -98.52827139987514, -100.03015499692022, -100.9399707691427, -103.33559388729839, -105.08279084419037, -108.44912259617688, -101.58730512902865, -108.51336710574707, -108.26519845023847, -103.6744526127844, -79.04098252405065, -105.99405422493568, -99.17535896909615, -104.74608797863495, -105.68626474420994, -104.2857577018946, -104.80928195846538, -79.02964703986169, -100.08353088616079, -79.61186289177593, -103.00397003221379, -101.36335842891144, -94.70422550705977, -99.24618351091205, -58.43935296439853, -94.31520691523218, -61.92942138300571, -134.5086064241347, -129.40448992208894, -136.7657022232663, -136.66581507311483, -167.25017356070947, -167.80307684984817, -180.50793077212717, -179.58103171956918, -182.78113650817485, -178.45543182540345, -181.13991717091977, -181.09096225037214, -175.4100852220314, -175.5261224779884, -178.6489878708632, -171.10922094743947, -169.29306152626137, -173.74595643503775, -173.64810650114302, 40.90525079462454, -192.64911719355484, -109.0639635505715, -162.18439760304764, -132.27722681495203, -132.52450713885605, -130.32437967287174, -123.05743513553426, -130.86112351476, -132.45865976465035, -195.06857996965053, -87.39924959507987, -86.1583079538413, -76.1842404831409, -74.9801300712085, -75.39715031789542, -111.11987167337497, -108.15579279179529, -113.13748214865431, -109.22077853771465, -25.995344784195694, -19.280922622721032, -13.954101232540362, -20.26710737405204, -19.40289156600991, -23.715955557879344, -136.79398868812825, -133.29355314972852, -136.86953985046762, -133.81557379413172, -166.73694058831984, -164.7886398662066, -166.6373468777886, -165.51070965557815, -141.85539650124085, -143.546624952618, -142.09173607449247, -141.85256400174939, -144.77893725619987, -147.2739537929705, -143.29088602531428, -127.19164759348548, -135.95457907466186, -137.0614452101237, -139.36564589631845, -138.14583797488032, -33.10146847650106, -34.10125023313056, 61.73256438136755, -32.294583409280364, -31.584451900352093, -31.3229529030486, -32.145457314316225, -30.487661093383434, -31.735413305322673, -30.98228788878435, -34.78271165045273, 12.471559605851589, 13.745527483229749, 13.408334947797956, 14.695023228704981, 27.915370009499885, 12.421703115642805, 12.874742259779019, 28.471184155651155, 12.372107471877618, -218.01530794045652, -213.4697731986587, -212.77073626754566, -209.98780306054903, -212.9111151738947, -215.2339999222861, -206.8447620086441, 19.876623627604168, 18.675483812029334, 18.41638225203395, 19.159890807468063, 18.53420398179735, 21.750862621310546, 20.770300449516448, 57.76648478451024, 19.315704750052536, 23.697572024689304, 19.445428372748278, 20.176078848288018, 18.678339155429743, 21.010954765725664, 19.254505252851512, -13.217711599803147, -13.204756179255424, -13.360414043282441, 52.005784863425575, 52.80337717712341, -12.031939566138792, -2.1093556542956984, -0.6667648381946059, -6.768488916563242, 2.520841995461559, 0.9908255766496338, 25.667097563855545, 8.217446451790792, 75.01343120354694, 75.78125317646872, -4.265066026117578, -1.2218724274243882, -4.2323915158463326, 2.4948700796074466, -8.080296398656877, -11.867772948025292, -11.868149729709865, -13.769920242753832, 31.433353555202103, -6.074511126819661, 33.95386529065984, 15.12582352113908, 5.46315669567398, 16.4409823065467, 0.38274218464227966, -116.61133360110315, -116.70394832251014, -117.31700164470034, -119.73632584476452, -119.11054274545401, -117.69642941762946, -116.33500635961128, -217.307350879227, -214.77692761537335, -216.88554542117632, -213.67438449603472, -214.17989044105093, -212.75664824812378, -213.402374712533, -216.4823009427493, -25.001053498196754, -22.84461959658997, -26.102467767585537, -21.97920092093667, -24.714558478965113, -25.359816188617774, -154.68197601480213, -149.09792795083447, -163.44000887079048, -93.81512526445243, -81.09870915733205, -92.0369170676999, -26.633084032184186, -23.08393039550721, -74.4968390628642, -76.9653613795234, -192.92523074171328, -192.40652563111038, -140.13843833474274, -137.01969903813756, -133.58211594211465, -132.4387845455397, -133.34992780809816, -133.08960320718955, -133.79995615568077, -135.64560044221327, -136.1071201674686, -126.7781293870428, -137.5357748896817, -136.8862020283754, -134.53641842091974, -134.81437323005017, -134.18494845549324, -104.56069068933758, -105.08669491585607, -105.07222072574206, -106.76214633630634, -103.60789384545592, -102.30969419456159, -103.6236973759224, -99.64401817401753, -106.54687071518124, -107.00117082759287, -102.33342297731542, -101.10453301721283, -104.31348471804343, -102.5009994247734, -97.26762282265341, -102.44316540752466, -104.62503968418197, -105.61802584704682, -115.02852414229446, -114.29571122468967, -115.36783507586487, -115.42186981829553, -110.10531447866434, -114.58564365493099, -79.10228575408271, -84.3387569827917, -87.80707202968318, -79.9950177738299, -82.1100822027061, -90.36226510715514, -91.49184127549677, -86.29121138475941, -89.1093875624846, -92.11653706769661, -106.03681289579963, -107.72118951470544, -171.7855233648556, -146.13842227612935, -143.11234300299756, -145.6492797880515, -147.36755463713848, -145.49602707263608, -144.91404110153593, -146.43944993322634, -145.15076581770157, -148.81114077001234, -144.46445801849646, -146.25141600676292, -149.2344536722772, -187.48396906383348, -188.335112946201, -193.04694271942577, -188.90814354334216, -188.29260014425813, -163.1362870578921, -162.32107465266176, -159.50798470043875, -162.5654769265042, -163.11857078153776, -198.43593883811093, -192.97698753546027, -196.6765126286172, -191.25239184611516, -219.10451431919788, -136.4200814124363, -119.73087549596079, -161.3202622598971, -126.65981068729059, -125.45320979512903, -119.9753657877692, -173.89023577513282, -173.90073638059988, -174.23485148561068, -129.05256667916223, -127.01184879673745, -128.0456990886317, -125.17832357706186, -125.5773669953421, -58.474712854036454, -60.298436949733414, -62.75485609628815, -90.43713604890686, -88.75893551214627, -90.89135739194575, -191.50185762737942, -189.93601828753074, -189.86779853330148, -189.97792638652342, -109.61286359514432, -109.78317284823646, -99.56839522779059, -112.04998559325914, -108.6155825256919, -108.4942677058571, -108.75571217597904, -109.72487937486449, -107.44112157826694, -110.26550030310968, -110.2705476431916, -111.21635066176755, -128.2601722632263, -128.10000815054119, -128.44477987011803, -124.63267895623734, -129.3013707637705, -130.52075080629976, -130.2429193657167, -128.85436026470262, 9.42692376299738, 10.75233195487026, 13.975935397886696, -114.92929703588494, -106.21019141328144, -187.29702803292133, -187.14913449191397, -189.63541044321929, -188.60247703393884, -186.8667293031795, -189.1609588205177, -188.6759042371156, -187.5904174659575, -132.68703369223346, 2.2561906164723182, -51.61215121539483, -51.442235854383576, -63.69481203405022, -57.202551494745904, -72.13352592588987, -138.819163724883, -84.26754826752901, -85.48910666894345, -7.168621413953383, -14.846229794476864, -225.1724148522512, -85.75529626797595, -84.04273544694776, 242.72149760093478, 237.97029628234432, 236.14102669194574, 237.33243534581052, 242.50055949734133, 249.85067189248994, 241.40575413643663, 249.00368127555242, 247.8138373398211, 248.27006142375262, 259.95433475968156, 314.710746624922, 243.1404835113856, 242.95936604615306, 238.15714598476336, 246.13964953465359, 250.54785461787677, 237.82024040612214, 238.11131058447066, 237.40054141492487, 246.98114664561976, 237.36841045021208, 237.61250064012924, 238.6375378154036, 239.0172522848027, 237.5663381762298, 237.50429351774565, 237.4916513912807, 269.59681798810385, 237.73551211043477, 238.0589618720001, 237.21254828929875, 244.80026652252786, 237.31807276946307, 237.75613953848114, 241.20448810762164, 237.37050138953646, 236.67395182356216, 237.01521072501052, 238.67222881052083, 236.97393817854865, 238.3895124783883, 238.51980726382737, 252.92147889941035, 238.04106748350037, 237.5760621835526, 243.4938146202658, 237.53876654978276, 256.9571106605146, 242.6858901377576, 245.61006668406736, 256.1978194851934, 261.2969823501371, 300.9213441233114, 353.2520283120828, 342.96859167437583, 345.2349859686574, 292.14051395858684, 328.76180338033976, 345.5362068237957, 346.13337960866664, 315.6481300015013, 350.1132438059626, 337.06828004769665, 260.11900081416366, 259.2646077766193, 267.0103679280042, 351.03560439626267, 349.40456625479237, 350.6786935406364, 342.44498399795674, 346.4500649450597, 322.98363127013306, 335.05006807593196, 327.46302935372336, 328.8584441158365, 322.10552681001053, 322.6189348581744, 323.3055020097547, 320.69235980242627, 344.54514696638796, 350.61275817468453, 332.36606132663985, 236.98193260171504, 238.7963299678912, 240.37399969682969, 237.5891246202646, 240.37614049622672, 282.86854614183164, 340.16264241438364, 259.95506066170395, 239.5128226764431, 237.26900980364655, 264.203079817577, 352.1568805615101, 249.22054830993443, 239.98647817968856, 243.37728853818064, 350.5401245855657, 336.8688358355839, 348.780233414929, 350.2320450910474, 272.23319511509703, 235.91742266297024, 277.62394976473655, 237.75335949320754, 235.77937455155998, 237.1434116209822, 234.32305445093283, 250.9694556614283, 345.08408759236136, 255.95235433705238, 243.33208076239342, 233.78563181984472, 235.84636793949556, 236.77583988493947, 236.05511415914947, 240.8505080766128, 249.86247248744849, 264.62688664385894, 236.9247595737446, 251.2859292465018, 242.13544214312105, 240.36226471053934, 234.14545072592634, 236.04166998651553, 235.55675115516217, 233.1645799214887, 239.81699349508418, 235.41577756220718, 236.73003878924087, 235.7009761152617, 279.1383044650713, 294.6074697586488, 302.17504450028974, 281.0967173435585, 277.730034085525, -29.11113302114123, -30.025447931271017, -30.04167270981828, -27.319943695975546, -27.675533356401733, -28.14381135414113, -27.080132157458706, -26.908163550019363, -138.69793277004524, -139.5044392331218, -138.3871630607856, -137.505173381216, -139.1903329527843]}, {\"axis\": {\"matches\": true}, \"label\": \"PC 2\", \"values\": [-5.560055859669375, 10.116208634430638, 14.080532296694827, 18.302463298499845, 16.097947429508892, 18.729162551867365, -8.73550926965795, -10.108029548187229, -0.24790911015786224, -0.3176678719042922, -5.901410081789813, -10.066546629881826, -3.682179111985719, -8.824295558145392, 7.197688136058864, -7.568976018631554, 0.9643598108942798, 0.8049135545890219, 94.52178616601047, -3.161430293976538, 10.484406627882231, -4.769216597055043, -8.931241066530788, -6.717167352172299, -6.504693425264371, 80.47146293354747, 10.19334624851422, 77.62880143832383, -0.4162217322205113, 6.99335005451199, 26.1971691472512, 10.27552617517679, 148.27755003613274, 27.506138480822063, 133.12965582464454, -0.6628833439881354, 17.87873297924215, -0.5150625205644737, 2.876035850652747, 8.804352453830044, 8.834950464509744, 24.137470775195872, 26.07237409924109, 15.478439026688005, 20.14644411290782, 13.004777764276332, 13.030512762157974, 16.736898947587235, 12.7723688699059, 12.878592082310364, 11.337880688062148, 12.735778067296538, 10.150219580386803, 10.16645661286216, -55.96131707697567, 16.133595951998622, -10.282903948681971, 10.165296993179117, 4.038074846020791, -1.999495183812574, -0.37365101205400936, 15.761980059190018, -2.131394417734129, -0.7131454441706765, 21.36292208299465, -17.238508948934513, -17.28262541510252, -19.01865974840826, -19.737358058024636, -19.740354419495784, 4.6485149404558745, 11.097133691444283, -2.2307552203683074, 10.92872893066792, -33.2589862231314, -22.291753296502865, -13.292562686496124, -25.8554671860545, -25.35311927102084, -34.51078400794084, -1.0296256899607112, -0.01532093906702296, -1.0141251080783127, 4.893088886977984, 8.836228101984869, 13.170498385580292, 9.741380524054554, 10.452057618034052, 1.8834723634195187, 2.8205786037907905, 6.53093043583513, 5.172755243934593, 3.850005096581057, 2.7177726089832697, 1.921133166891058, 37.51569480476924, 5.1082905456258345, 0.1834469688207565, 3.625481984839731, 0.271532191002846, -29.40429243443615, -30.149421423345107, 280.335857750695, -29.146552764624325, -27.4664044883769, -28.78154757681828, -30.290173463470058, -22.648060078782077, -29.94560116506407, -26.057783804205144, -28.02383985288873, -44.247200194393706, -43.66527521513824, -45.53826498001819, -37.71061031429356, 4.206664628602709, -41.99460349984881, -43.21933500850616, 10.295351331567128, -40.22271457620721, 33.303221870974554, 44.19723978309749, 43.766481689011464, 51.22553681072475, 42.51437328352929, 37.14839080968911, 61.78275239706363, -42.47338033014005, -47.07916856534737, -47.03521794476385, -45.317119808243866, -47.0850164562772, -36.44486779825003, -39.21150699951152, 81.20053420560274, -44.93277817771588, -29.207506589763874, -44.3848631964924, -42.39526329077871, -47.055005319873366, -38.56571615457919, -46.96830138550907, -37.03972392393885, -37.03669537955934, -37.01657082958208, 177.13493290263793, 180.54948105024658, -32.04328495304935, 1.159066656524737, 6.030755527163789, -14.064309599949553, 15.747003068074271, 14.199894314286823, 91.93431965340122, 35.458368677062616, 258.3482551873852, 257.68916649102636, -5.162812215490927, 3.955315553066462, -6.001835346182613, 18.305837659857985, -15.65769241753848, -30.21125711295472, -29.071253414343662, -35.375319459200924, 112.77202284192187, -10.76819215005934, 124.85697134688995, 58.32222050700069, 26.823572647106793, 62.93233998987516, 9.517293274772877, -5.704935955253848, -4.373678373971591, -2.111795023489311, 0.23788260728602806, -1.9857858565344821, -4.423975648729982, -0.2856647561874718, 24.55163408905483, 25.70526982281651, 24.555008445289143, 27.01536805594961, 24.342585133245652, 30.064694156107418, 33.89977475047114, 28.65902055269543, -32.3481770639246, -21.744556218658094, -35.23979878553118, -16.763472565163315, -28.322129464832464, -29.0524180343948, 7.243086420152464, 23.12781601125597, 9.21954239975761, -14.960051686001659, 25.775475079072567, -10.4754097290455, -36.19727525075384, -24.142056215077403, -17.53392569886758, -18.967945644653817, 19.674411122910072, 21.808735570935127, 0.17934548957119756, 1.9490761434139496, 7.075944061627129, 14.88797023407036, -0.19314682783268664, 3.3070384799033836, 1.4640298419299618, 5.727984276429252, 10.717774375615068, 46.22730800064884, 3.183477448239152, 4.194077231701376, 4.025297688943693, 0.08323937528278641, 3.070334489444898, -4.014552582741718, -7.347581120482478, -2.6969955406590107, -8.95296001299931, 2.370604001513683, 5.264463945682444, 0.09043072115969036, 14.776270377820522, 9.929567355651058, 7.198017556509873, 8.87961182534996, 10.905532721577465, 1.5693632269268414, 8.247785683765564, 26.222251645918096, 10.441482347370107, -0.8378551514382507, -2.386257553995785, 10.22508883588013, 5.916895177992708, -1.2715922719622197, -4.550181970015867, 16.424817570248194, 14.774188034413486, 7.745350933692399, -8.095163367159678, -8.949575004069029, 4.226492028541263, 5.762223248842171, -12.269853721213993, -14.677180366394944, 3.7016620519366867, -4.911570921993184, -15.254592697680234, -7.0168881888987285, -9.117435351110572, 19.968890951164205, 10.527557767654734, 16.596987432261734, 8.330270396422703, 7.6174467274891375, 11.796484046864387, 13.220794277714834, 6.963448100986833, 12.247623080831051, 8.114437385820125, 15.980445406792894, 15.588555509034821, 10.138279930874004, 21.127054148890902, 23.808097627152453, 16.02950650598043, 17.64805006592648, 21.68849254562213, 6.871673848159198, 6.8123184268097, 14.109615590480969, 10.204793950972956, 6.897539318465561, 17.985831003795482, 26.963895024965918, 22.420388200314132, 36.83573732888601, 24.731456426198484, 0.09423989713414774, -4.390986029987728, 63.707780984443346, -4.4958847552144094, -4.574976399227872, 19.642637119715353, 9.581360670131003, 9.584228935251716, 9.61493587871712, -3.330048345846646, -3.456366553814686, -3.4153712719133575, 0.3491908211274785, -3.5142330433090323, 4.002809925021024, 0.8658315523749396, -17.775817814304823, -13.994811560023651, -2.2653248886857664, -8.804216481655622, 19.26533937960781, 19.485109854077237, 16.007406611034664, 16.02232503099442, -8.090274699555003, -7.395965335184522, 36.64021751892167, -7.910456419385959, -7.5223025648766875, -4.71806529601285, -6.934177115272137, -7.565415268999887, -2.0876191987196147, -7.964437560286631, -6.353833790806879, -7.266843541190701, -2.9322020832108113, -2.945475187374972, -2.914437535639913, 2.48582549506448, -2.8673997652309557, 0.35011082902746227, -2.8031779240505346, -2.850076365710102, -30.71701601999881, -23.76960794573489, -17.496294906531357, -4.893698942972388, 25.486827676562985, 22.44600844010744, 22.74621444148565, 15.604764535928378, 15.547198911614984, 17.474010078922024, 16.31787190795936, 15.552035405269972, 15.474513248537056, 0.13281950121602779, -35.73443708576004, -27.138393193362607, -18.45221856540176, -11.096841082836276, 9.002393237146515, -17.106861954421696, 5.072057731343107, -10.019970474315267, -16.817120093313775, -14.01890186958484, -34.51205855057453, 38.421151414755386, -2.8895834728440226, 3.5741521519205515, -95.78290006949636, -108.81889416739841, -112.68751001461423, -108.19039286958075, -92.78389694213435, -69.90728387416273, -98.78026984004804, -72.17577669794504, -73.64252559972459, -73.79870775818809, -36.80872185258902, 139.72372392257216, -93.79519121127247, -93.58681555949649, -109.57674018907954, -84.77031948350808, -67.2518125518585, -114.01527588096673, -113.94783421783085, -114.06865373683536, -81.6194626478766, -114.09424995669895, -113.97319368684892, -111.02303506516532, -113.55009472580315, -114.05657317760203, -114.09213201183934, -114.0945838399062, -7.726061886231771, -113.98898148826082, -113.96409888404314, -113.89445253391212, -91.08835287628253, -114.1086019916721, -111.76527710674758, -96.33700899693113, -114.04714113726837, -114.10170444836736, -114.07558935586414, -109.4209708157263, -114.11539126389127, -110.48358132533637, -113.85739723658675, -57.75735849849212, -113.96792623745786, -114.07708518469073, -94.22904891234559, -113.98722956514519, -49.2862869583486, -102.29681015452363, -88.5065060338869, -52.16986620970075, -35.42046030342221, 93.92881292851244, 263.1318155723143, 231.92089895353618, 238.0134390279009, 63.79990801816491, 181.3344854059621, 239.45119161016675, 244.8679155757248, 143.8283405748154, 250.09890174392928, 219.23655252005207, -39.40301329786856, -40.575546738933326, -13.323089084527808, 263.07594619361964, 262.0545174070158, 258.14809023200365, 242.0517392167562, 247.68036060959886, 173.02614017061967, 207.38605137246705, 185.66366152845177, 187.66632340940615, 171.81777625880855, 169.61942238968956, 169.2074652960405, 160.4222451492497, 239.17224703789745, 256.561051347467, 199.6467954344827, -114.05990247263848, -108.7600623231707, -103.63495230190627, -112.99865898190635, -104.38948385490258, 35.48027100668911, 224.28512560796378, -38.690818063787766, -106.09577552913889, -114.11481366626953, -25.489310117438965, 265.1010113914802, -74.35330825592483, -102.81598458354233, -94.02448576309367, 259.0371415076307, 216.74401378322744, 255.4083122903, 262.1376121729754, 5.1759302160625085, -114.06949804507381, 21.357394884362343, -108.88303996714916, -114.06646427282757, -111.18771634682757, -113.96225007862442, -54.128599084318616, 244.3852688266943, -51.37006513349091, -86.9884678795178, -113.86889943603815, -114.07424990038379, -112.6331346435901, -110.66371285842735, -92.75866346122679, -71.72665877308334, -24.077713936593028, -113.45229383002638, -68.68802582856104, -97.65164467322693, -101.06432349126617, -113.98581122066781, -110.39992978782035, -112.52902114525878, -110.06241004990368, -88.8401046296246, -106.01042450868017, -110.0135712684165, -105.62307101004136, -125.44519739391006, -76.63952473059767, -52.10746455779681, -120.7183583281805, -127.15036897996082, -33.34447531526588, -33.269338331890246, -29.716046933000484, -33.3991684235639, -33.42656828924768, -33.40332837896132, -32.35777264058851, -33.47766400068419, 5.781484954544782, 1.0393887014143077, 0.9380922013567985, 4.251825104028836, 1.009064229838786]}, {\"axis\": {\"matches\": true}, \"label\": \"PC 3\", \"values\": [-3.1726926409604386, -30.781886774776417, -16.75362820644424, -6.534195370236318, -13.158520095538448, -16.486203553897365, -7.380790161478359, -30.315526225817987, -34.019538003962985, -22.147468619412457, -28.954538574456027, -19.78028118890811, 13.29112088296943, -11.819263712972003, -28.775753608988566, -7.812460167143978, 13.124698084315813, -27.23868823347337, 9.407337034623461, -17.82279612501546, -40.01256115289502, -32.977845263223266, -35.429552637170595, -41.74871661622062, -36.93484864235413, -28.4630925989354, -33.499969172537476, -30.946751782319275, -36.68119803099288, -31.06828977386956, -36.72767146932467, -40.69346358560738, -25.062983890230047, -37.000816014828565, -36.02360332936074, -19.255554442114544, -13.820606033430865, 1.0357679534095774, 9.528071856198071, 61.6429246881323, 66.39753114416054, 26.539241632587064, 23.697561597268532, 23.360511722878737, -2.037567307099502, 2.380188178537818, 2.392654385082052, -37.36980907348516, -45.98534304715736, -19.44763994985877, 7.5526095937017175, -5.111926575512853, 26.876712599308423, 26.355143760402804, 61.46677471274237, 68.88265282027876, 63.399982078177445, 64.12330974080216, 27.20039861406582, 13.188967260459316, -1.4832686638745538, -21.77876273340928, -2.1349996810941274, 16.117336101305675, -6.603601779532072, 75.79031243490459, 65.21777960961364, 30.520275241861466, 18.398251553898497, 21.67117673268493, 29.988952431920136, 21.6137152707337, 29.022430475083386, 30.367702447388364, 38.68528500920446, 9.292752303723926, -13.081411627403426, 8.457524537375834, 2.349667065861611, 15.323016530434742, 23.58331033329506, -4.457831940558791, 24.431220889542708, 13.544744582570047, -6.786846674661961, -12.528437121079714, -4.891846935777758, -13.335694577708479, -33.153107966783956, -15.61580121627328, -18.098268685143942, -23.969632922929712, 8.06472318737607, 26.883522041136846, -10.122569442192908, -10.192977809952378, -20.347258569776173, -24.633387846030317, 5.058946879110363, -14.615537987769564, -18.440993071398214, -11.793253609208795, -15.08244503530736, -24.48268352859937, -26.315214554084044, -31.811450537944786, -28.420604659688717, -22.74620027754968, -31.734234773116526, -27.48230655618459, 0.5290459861641434, -15.403451553442295, -24.509933070447108, -26.518744485549902, -17.255852499997953, -19.732052343279516, -8.646198148666121, -16.147572712329634, -8.133488329236814, -3.2326787454442143, -30.98085572110424, -41.587614473050216, -48.594306596011776, -52.21200049267136, -50.78829934780742, -45.07156596427147, -51.07818265513228, -27.529184982033147, -29.587543615002627, -26.76495467722741, -29.34654123421897, -28.45530849443206, -28.228479754808603, -26.764030653694096, -26.289327346063068, -29.216905282233558, -25.27752218558087, -29.143002699481496, -29.578349259350638, -29.20258931991156, -26.273244555530596, -32.29873555513758, -34.530415762253156, -34.49684444313364, -33.09089737159778, -29.323932391318685, -28.198478042778827, -31.393564918454366, -29.022230682743658, -29.097658518065117, -30.704031764204565, -31.936328093412115, -22.7956181232189, -29.16339197201067, -28.588247704839784, -12.984442306724729, -21.710971147381628, -29.65496020664362, -31.577159473269766, -31.91073850419255, -25.54215698734108, -24.655899226029767, -30.625206447385352, -27.46583405152196, -26.815362571154015, -23.91435864715095, -28.80037683142585, -13.385772095175739, -27.71879933061757, -27.829333039373505, -26.75589891064599, -29.90403263714969, -33.308275925000274, -29.41817972413976, -17.780146736980683, 9.60504082574253, -1.5333361123026477, -21.047293496584032, -21.775308777250654, -19.18947980999151, -38.21318047135938, -22.485659072645216, -44.657066128708486, -47.36864732421685, -43.61412899896337, -27.556278110301065, -15.385211375382044, 41.51901602363125, 51.07955088509219, 43.26720865561799, 56.984096045472434, 49.70841435033784, 53.26225277134071, 62.41600254309848, 56.14111309077611, 57.821230820488, 63.006500813765186, 61.69892160542574, 59.706790938570535, 93.49004975307747, 94.85627622343037, 62.76410235358409, 80.2922982108833, 63.230329438180775, 64.35286065408961, 14.760563078449218, -8.008500274240559, -23.809767262042133, -13.026830549969514, -45.11459544450223, -38.510973246106495, -36.5497603143869, -9.403211230420023, 7.60380983290198, 23.58487153244904, -0.22459721505075905, -11.256113644269174, -32.878439188861115, -40.344234948904734, -38.49941625640308, -31.866225735192664, -35.15274128658223, -23.677344542869143, -25.957771001704412, -23.473476953906147, -26.99991125280468, -29.62004381681457, -24.575186719685036, 23.07814159363724, 19.69349795846997, -16.281304309473757, -22.279068161137353, -19.519484017058964, -17.30691328475417, -14.307373240147424, -11.18144688295431, -22.648890925662453, -18.5322880963459, 40.2421860564582, 22.13197604963217, 12.445488108394631, 4.1043558834805935, 13.983564465812705, 48.586473297202794, -6.2853146958742485, -2.468523042433041, 25.057264621126883, -8.18634937885051, 14.64833307745749, 38.36103910066398, 41.74394970048113, 45.50899603459647, 46.96139616334971, 45.49924494579126, 62.99103343539666, 72.43796261113555, 61.34653228390971, -21.36599355246979, -31.367493628848358, -31.485465648965143, -17.9913601887655, -23.412416281440983, -24.827802364502702, -27.763721239348563, -25.153109466698695, -3.716357091538441, -20.38758261321813, -6.391541077014912, 4.771319071457519, -7.090765052013425, 7.718045745700234, 27.623372330658995, -4.506446740412977, 0.9379911400836953, 30.977333580966533, 23.554875927579914, 18.78810420916901, 35.041884526272895, 31.244482021119964, 15.464678108648984, -8.588984775746601, 11.8738471423407, 2.92992013842818, 64.13818442043092, 74.79807777947087, 45.6898729213458, 57.182113174861236, 43.68138849509194, 32.830262472576685, 50.405571677030046, 59.406082179829994, 59.53675853006155, 62.67917787563572, 18.85427601581856, 0.6196408908898918, 9.491969534664522, -5.557992357846318, -11.717286255275416, 70.51341295088282, 78.09368056789603, 49.245968603906896, 28.141449789424772, 45.1324343645922, 45.85675612342624, 17.479547538619244, 4.4194201941349, -5.8751688845149515, -4.762834343618355, -27.586213860854578, -23.701925810221315, 6.474961514310963, -5.307137203687035, -34.231979931142135, -28.043833549334032, -31.61193526076484, -24.566241940170407, -29.22009763536053, -20.45018408106299, -16.51243697680794, -10.388188245495, -6.331730185305835, -7.8132186405171895, -4.559857480790695, -23.242810318148642, 2.996163138935233, 22.400620400219985, 11.490316263004761, -0.3132376652110409, 27.626819770156686, 34.543942017063415, 23.229063561267438, 35.29093298423436, 40.32317600959741, -0.9273820505832032, -1.3216284430794656, 1.3854834218374492, -7.734612158286859, -17.79142122381852, -0.8121559756452061, -7.067341412656633, -16.9275282590333, 18.685687464410325, 1.3703644072263101, 33.56820065261242, 55.44197115595743, 3.0215998881494817, 0.44528396369686135, 72.73325475767548, 61.6531834986796, 37.95661157065119, 30.29658848169866, 57.24606117209394, 69.673574179281, 54.879222674536344, 72.6673897664641, 74.87153493062442, -6.472607394676605, -1.4767438049930885, 4.330632346189653, 5.920052124085714, 1.6885855018990712, -0.6879792665524697, -4.892771343552689, 0.776100496781186, 6.242051581955817, 2.2400263313015225, -0.11024448742462502, -2.3272714932962675, -7.047917196435932, -4.668944274622881, -5.535890959558069, -7.460419740890049, 0.8980313559612096, -10.555660460145056, -10.942873651673462, -7.068003473537516, -3.65474157447205, -8.360624143621868, -6.782213499804708, -9.33709834693021, -3.676212152840474, -8.635900845529193, -9.475420231800323, -9.553036065690264, -0.9963034921896955, -8.8043193552252, -10.09373308694278, -2.4770014235411546, -9.623849299611448, -8.370826517901836, -6.5051596080672835, 4.71150346419617, -7.422188277191097, -3.0805964491292768, -4.833436762972626, -7.8345070054711545, -6.012756328883831, -8.192013135146414, -10.46359243854311, 8.086999101206066, -9.949227539657718, -9.225339476183263, -8.678055165400933, -6.271016775735831, 2.4282862655855517, -9.817265735488832, -8.979658180289048, -6.928140755881325, -6.194392012929376, -4.053986466474336, 0.5798613316669818, -0.7809936654870994, -1.9173084047676523, -4.992312252072458, -3.866304636701283, -1.3577477006064729, 6.116858043320269, 4.642042025988759, -0.9609149534487524, 16.563223519342692, -6.842624229183111, -3.336724629120619, 3.246101537244682, 11.155692477365967, 22.637543119499103, 3.0393138662303962, 30.476750492389467, 16.065076493156376, 14.383981950398784, 1.7469425053812648, 9.003455636610555, 2.6508954039666373, 17.754376993454997, 7.425747072147917, 2.045277090501171, 1.4075741362923373, 4.77169214497274, -0.658385288191578, 6.3917198617615885, -4.789117372903816, -3.5976443628144312, -6.702732106390163, -8.733436417941627, -8.781411098878442, -3.264225969594993, 2.76288677672536, -4.296898449658716, -6.020653602590106, -7.952867872468989, -5.557685147299147, 6.101938535464926, -6.506277510513824, -2.32530234066012, -7.755077034678197, 4.675969145709522, 9.482928947489441, 9.300796741320847, 15.370212500922115, 6.541674025580759, 3.223474707326986, 2.189470721076201, 0.3638464928169268, 4.351152723665926, -0.4347168360682548, 17.722147117009996, 32.16738276254887, 11.643917421919799, -3.460159618034143, 13.604538728486213, 24.086577796401528, 3.421257663561181, -1.2816268740765517, 10.490431106271517, 16.748594720837325, -4.396298415909908, -5.27493611487488, -4.0780300909702705, -6.483333776848765, -6.040882790545333, 0.8498153530356636, 18.52576758123697, 11.184273565939847, 9.61742152455441, 37.154937813914415, 36.185938681544386, 28.461279864085093, 6.824364477939225, 27.35420506070462, 0.03013239581692907, -3.5522149834935064, -3.2506208805867502, -4.459067441387167, 7.394657535275771, 1.4009544160073575, 9.870933795791606, 20.03338454239044, -13.716463972132928, -11.318033529401312, -7.222819667173904, -13.598489014860615, -18.23391844133639, -20.978012302706595, -26.794149767490236, -37.285181328956874, -35.98834187949567, -29.77243230623299]}, {\"axis\": {\"matches\": true}, \"label\": \"PC 4\", \"values\": [5.291593112234526, 1.2967758967992016, -10.278398887628734, -19.644920785307168, -14.17814069865929, -11.335211503062423, 1.84761944574211, 20.94065829061849, 23.8693336191554, 14.314640741435928, 19.840334782056956, 12.270127064506333, -15.595629208522388, -11.069974055899586, 3.4039197897020514, -14.440912593053252, -31.865534235405455, 1.851180586284108, -27.393236849721767, -6.0563167656107275, 12.547207066438448, 6.612095730940418, 8.453998753410161, 13.772675106158633, 9.848629103959823, 4.144366398737496, 7.289547668986414, 6.170358389412518, 9.859291299734116, 5.277792451485987, 10.004787931538246, 13.402567780998641, 2.0259967078222036, 10.378924670826125, 11.247389837827537, -6.324899745490542, -10.653126841136855, -23.362133074874563, -30.505202978814122, 22.146859198308693, 18.223780432368695, -47.160907155178656, -44.772797868569114, -44.71713130445706, -23.317437735867056, -27.206679551503658, -27.345462681660706, 6.083361290003821, 12.880466930741079, -8.979591877398484, -3.5245665390602112, 7.2998877840313385, -19.54763181435782, -19.21699246809967, 34.61310849028318, 34.28190628289019, 37.616566658041016, 53.237810084769634, -12.252873467274188, -0.6668115986638175, 11.600486116145174, 28.90676719343463, 12.338499057135348, -3.070479575007599, 2.8851856439393178, 21.810516448646005, 30.527061512309057, -27.875155305997065, -17.84207901133078, -20.454508457132448, -46.28091016472024, -39.22683667479027, -45.544265472022104, -46.522966964679775, -48.5062052436956, -23.626660597225413, -4.749116000995416, -23.04418292110894, -17.921399778204943, -28.91778565177411, -9.403408291626231, 14.169225165571426, -10.168771589199364, -0.9282322873644654, -18.46157542822726, -13.462904167358944, -20.16765701286819, -12.923550457667522, 5.330398228654558, -9.432959225070844, -7.402695561254788, -2.4595213817278876, 5.928004416355722, -9.880906005978936, 21.13212324604299, -13.037841112224042, -5.179590649043906, -1.3967690488616, -26.333238098042116, -9.90643844035374, -1.077199862319434, -6.628415219958153, 1.1713165691449094, 3.8764683509695517, 5.471647087385102, 9.927143730912128, 6.97839087064303, 2.4742373951788745, 10.000611675404992, 6.379576580653412, -17.157823490365683, -0.857600412917829, 6.602740501581767, 8.24619803319033, 0.7804779741587288, 3.3899582505392596, -6.5769296736752985, -0.2214265690842797, -6.267238160501277, -11.16242820492177, -3.563880728206167, 5.5530906588758535, 11.32277723737781, 14.240875363407788, 13.157770411698763, 8.34665238792719, 13.393496576246122, 8.288496437489579, 10.014871875144422, 7.549385480049617, 9.945984993761762, 9.196941975629539, 9.21170423814128, 7.799291522035073, 9.320865391654772, 9.701544121729455, 6.631488395293006, 9.713563855895345, 9.876201090547246, 9.584962297565859, 7.0632337628414055, 11.666690561504023, 12.269094093220641, 12.271786955997225, 10.962108974574438, 11.387237059001082, 10.858788996098056, 9.604422985388826, 8.200532754087886, 8.58213094760001, 9.835636664924692, 11.382873466976301, 3.6864437245209247, 10.239643748172194, 8.83986046598594, -0.5782078883733942, 6.696943405238949, 9.424119569728575, 11.122061891107025, 11.212575725916635, 6.308725591155128, 5.1472201102067014, 9.940879704051786, 7.257234524697019, 6.329177271025337, 6.404232200476672, 8.67096914593998, -2.3574877570920507, 8.649827914908135, 8.224800916757546, 7.795029204802061, 9.66053737380707, 6.591235277865264, 3.5322358013409714, -6.256754081368619, -29.119873183686735, -19.919823460694182, -3.403504948924395, -2.753437450205815, -10.92245162787432, 5.042309753284186, -8.30864126166818, 10.575301304977142, 12.787195785132102, 9.441443406196129, -3.977370393454507, -14.016379502862879, 8.62658550736233, 0.8487159594686176, 7.184280747539509, -3.9796561886912327, 1.9690033894632013, -0.9720480501873536, 2.9425427888748854, 8.51030034116628, 32.49853280730739, 32.502786807901906, 34.12671924939201, 35.27248273868463, 30.457779925075315, 29.511219412238656, 36.83686485754427, 22.20457819390102, 45.39596749782237, 44.51787267368434, -35.46865527108925, -16.24067488805833, -3.084479130321223, -11.930096799019292, 14.555035638301604, 9.243895559627203, 7.329485254133293, -15.203999614231282, -29.211960058608824, -42.77327340140743, -22.746107307829043, -13.887042207901617, 4.470060866095874, 10.394625788611126, 9.1582386909864, 6.028419996840537, 8.354789177537857, -0.8344281220850919, 1.0572153988872488, -0.738571324226967, 2.271729704233582, 4.446627325278603, 0.32537319957530336, -39.80561956136156, -37.00293388944451, -6.923862487087711, -1.6143766838639284, -3.9838982760877113, -5.798729900532137, -8.17613870313383, -11.171870758981816, -1.6258090189191812, -4.9534751663501675, -15.475430413662226, -0.32342828108366223, 7.5939307947411665, 14.524344318636825, 6.619192900588362, -22.356214241645894, 14.845547329965385, 11.17172401051902, -11.710425191837276, 16.476288403860398, -2.7202239244679096, -22.89197214837486, -25.780144521056588, -28.570702596973568, -29.870617173766362, -28.79274846560218, 31.411411768856077, 23.3281322966044, 41.7027484176165, 21.255610217043397, 29.68408296761053, 29.675961769469232, 18.214201830512835, 22.930718762227148, 24.20535988411212, 26.385184547474694, 24.36547192379084, 6.15229714547262, 20.20264482629348, 8.669683035263924, -0.6726802217385496, 6.095666912596262, -6.289088524167761, -22.972166905710626, 4.062939348710009, -0.38717190229376686, 2.218262450407638, 8.497030537148229, 12.556963983634594, -1.138614044469622, 1.8731278389976114, -12.659552187379951, 7.817358127248697, -9.508007047102717, -1.677880642487253, 36.82462533502899, 32.67012965369687, 12.577582685745575, 32.61863975448657, 10.195438089543883, 19.320577557693685, 4.855772921981378, 29.897608120048456, 29.78353030089311, 27.09363924343044, -38.25044944740991, -22.953753659697508, -30.264569027323944, -17.564461062221874, -12.71012724115307, 15.113194746178204, 8.690235229761772, 32.636196113077624, 1.146474003456659, -12.944508404139745, -13.532206795338755, 2.813958692171582, 13.720384120862587, 22.41288046818195, 21.438583025351985, 2.056584596974551, -1.4006781842543066, -26.17383813113451, -16.782063457639964, 7.39759147940934, 2.37728300653396, 5.319114487582803, -0.6959927859839615, 3.0947243881218593, -4.312154034809877, -7.430080645704943, -12.66445513211919, -16.74147886619303, -15.483114961426963, -18.243441525835426, -2.5542078279455294, -24.551915281896783, -40.78405134749288, -31.680392556466927, -21.960814746544997, -36.24680316169155, -41.86727472870174, -32.265654034198654, -5.009089305537068, -8.590981689575063, -24.61051089086864, -24.309050633700707, -26.77084804089403, -19.180829240873287, -10.686914357346826, -24.971835680719238, -19.756350185796826, -11.437079902726273, 8.495865098443609, -14.421933991922048, 26.5635114312861, 8.398064159620775, -20.248014565454447, -17.816698446215316, 31.670223959619292, 30.555203273412253, 1.7660091804897944, 8.099310759529846, 16.389647585430232, 5.499682029662686, 44.06514106525466, 24.413417208136377, 22.749212414247204, 4.495761237094537, 0.14303361551481325, -4.724046934927122, -6.052960821138535, -2.0647812526318594, 0.08153920152611133, 3.2588649997063426, -1.2175525640038025, -5.521652404277837, -2.2571259934224135, 0.1115834946537179, 5.070420899905807, 5.371582955330682, 3.386579245815951, 3.889897114520965, 5.742037307832362, -1.0092397497861383, 7.052922368848966, 7.3938977238855434, 4.994598557749235, 2.2523856293584155, 5.652515285338288, 4.4810992176893, 6.643185962168222, 3.226002154474175, 5.999412777437954, 6.499497625177859, 6.510360374688, 1.0560393074546823, 5.82152358707493, 7.118729040153011, 0.5557583526816633, 6.856591225185356, 5.646122103765566, 4.227262548691332, -5.036352769291414, 4.746392952928744, 1.3963147809390846, 2.9127984998317538, 5.415124415516519, 3.676717844242283, 5.577427345695228, 7.606677832027929, -7.5604223739288745, 7.075948150662004, 6.492493803784443, 6.282726228665501, 4.202462505521643, -2.018509524865258, 8.017191093723639, 6.683778205763537, 5.7929246787618345, 4.909059495195877, 5.597872726467126, 5.435541126421003, 5.069057417528233, 5.757088087582689, 6.115448493851124, 6.845918391102819, 5.501260315644862, -0.7209015533435823, -0.9365817387472066, 6.57740684306799, -9.827309130762222, 5.8526408152533795, 2.783796535702094, -2.1709004262984664, -4.645768717898396, -14.10542687711424, 2.219553052564805, -20.93115011871825, -8.220794330530989, -8.792954325780624, 2.3729315509172744, -3.8978034742112055, 1.452143835300158, -11.341806359587988, -2.8263635282362003, 1.8722959708058546, 1.949251964706396, 0.6399136865525826, 5.23086413170376, -1.930631062949833, 2.59025103614167, 1.9231640453767105, 4.508827519491191, 6.086578650934993, 6.270894134591021, 3.8130717134857566, 1.8245278873160564, 3.5532879395144956, 4.002586170797143, 5.433450904535655, 4.810277444677403, -0.14956966834126226, 4.826486567404502, 0.8401265886005004, 5.6456069384045335, 0.9647251437827769, -3.851667442703008, -3.088832937500513, -7.952897677843755, -4.745889358198063, -3.89342436645607, -0.8731611970740865, -1.4543667554641877, -4.819415962936944, -0.628178185356646, -16.02653825804645, -27.316454261354846, -5.1873645353252344, 2.505791203528101, -12.144714962486216, -21.35646334834942, -4.141368537243571, -0.045273486873363425, -9.992497485500921, -14.86971737406991, 3.1156549622456633, 4.416223008506499, 2.089683185960569, 4.806864814548401, 4.110490321903498, -1.5253081406693831, -16.637886484109853, -10.296314167440212, -8.980981180353638, -32.28424643884338, -31.235226617447548, -24.883596850436305, -6.8540444584121385, -23.99116735796878, 0.7208667821330265, 4.34801689081395, 4.31124739914407, 4.586441727338428, -5.3392857383722605, -17.564990982856035, -24.74662936481207, -33.36787785929947, -5.117108576808208, -6.89822679600688, -10.326458558904836, -5.016334937969337, -1.0955507898743515, -5.706647169822614, -0.878984603857149, 8.073690311875584, 7.0164343424262805, 1.676859732872916]}], \"hovertemplate\": \"%{xaxis.title.text}=%{x}<br>%{yaxis.title.text}=%{y}<br>Median Price=%{marker.color}<extra></extra>\", \"legendgroup\": \"\", \"marker\": {\"color\": [24.0, 21.6, 34.7, 33.4, 36.2, 28.7, 22.9, 27.1, 16.5, 18.9, 15.0, 18.9, 21.7, 20.4, 18.2, 19.9, 23.1, 17.5, 20.2, 18.2, 13.6, 19.6, 15.2, 14.5, 15.6, 13.9, 16.6, 14.8, 18.4, 21.0, 12.7, 14.5, 13.2, 13.1, 13.5, 18.9, 20.0, 21.0, 24.7, 30.8, 34.9, 26.6, 25.3, 24.7, 21.2, 19.3, 20.0, 16.6, 14.4, 19.4, 19.7, 20.5, 25.0, 23.4, 18.9, 35.4, 24.7, 31.6, 23.3, 19.6, 18.7, 16.0, 22.2, 25.0, 33.0, 23.5, 19.4, 22.0, 17.4, 20.9, 24.2, 21.7, 22.8, 23.4, 24.1, 21.4, 20.0, 20.8, 21.2, 20.3, 28.0, 23.9, 24.8, 22.9, 23.9, 26.6, 22.5, 22.2, 23.6, 28.7, 22.6, 22.0, 22.9, 25.0, 20.6, 28.4, 21.4, 38.7, 43.8, 33.2, 27.5, 26.5, 18.6, 19.3, 20.1, 19.5, 19.5, 20.4, 19.8, 19.4, 21.7, 22.8, 18.8, 18.7, 18.5, 18.3, 21.2, 19.2, 20.4, 19.3, 22.0, 20.3, 20.5, 17.3, 18.8, 21.4, 15.7, 16.2, 18.0, 14.3, 19.2, 19.6, 23.0, 18.4, 15.6, 18.1, 17.4, 17.1, 13.3, 17.8, 14.0, 14.4, 13.4, 15.6, 11.8, 13.8, 15.6, 14.6, 17.8, 15.4, 21.5, 19.6, 15.3, 19.4, 17.0, 15.6, 13.1, 41.3, 24.3, 23.3, 27.0, 50.0, 50.0, 50.0, 22.7, 25.0, 50.0, 23.8, 23.8, 22.3, 17.4, 19.1, 23.1, 23.6, 22.6, 29.4, 23.2, 24.6, 29.9, 37.2, 39.8, 36.2, 37.9, 32.5, 26.4, 29.6, 50.0, 32.0, 29.8, 34.9, 37.0, 30.5, 36.4, 31.1, 29.1, 50.0, 33.3, 30.3, 34.6, 34.9, 32.9, 24.1, 42.3, 48.5, 50.0, 22.6, 24.4, 22.5, 24.4, 20.0, 21.7, 19.3, 22.4, 28.1, 23.7, 25.0, 23.3, 28.7, 21.5, 23.0, 26.7, 21.7, 27.5, 30.1, 44.8, 50.0, 37.6, 31.6, 46.7, 31.5, 24.3, 31.7, 41.7, 48.3, 29.0, 24.0, 25.1, 31.5, 23.7, 23.3, 22.0, 20.1, 22.2, 23.7, 17.6, 18.5, 24.3, 20.5, 24.5, 26.2, 24.4, 24.8, 29.6, 42.8, 21.9, 20.9, 44.0, 50.0, 36.0, 30.1, 33.8, 43.1, 48.8, 31.0, 36.5, 22.8, 30.7, 50.0, 43.5, 20.7, 21.1, 25.2, 24.4, 35.2, 32.4, 32.0, 33.2, 33.1, 29.1, 35.1, 45.4, 35.4, 46.0, 50.0, 32.2, 22.0, 20.1, 23.2, 22.3, 24.8, 28.5, 37.3, 27.9, 23.9, 21.7, 28.6, 27.1, 20.3, 22.5, 29.0, 24.8, 22.0, 26.4, 33.1, 36.1, 28.4, 33.4, 28.2, 22.8, 20.3, 16.1, 22.1, 19.4, 21.6, 23.8, 16.2, 17.8, 19.8, 23.1, 21.0, 23.8, 23.1, 20.4, 18.5, 25.0, 24.6, 23.0, 22.2, 19.3, 22.6, 19.8, 17.1, 19.4, 22.2, 20.7, 21.1, 19.5, 18.5, 20.6, 19.0, 18.7, 32.7, 16.5, 23.9, 31.2, 17.5, 17.2, 23.1, 24.5, 26.6, 22.9, 24.1, 18.6, 30.1, 18.2, 20.6, 17.8, 21.7, 22.7, 22.6, 25.0, 19.9, 20.8, 16.8, 21.9, 27.5, 21.9, 23.1, 50.0, 50.0, 50.0, 50.0, 50.0, 13.8, 13.8, 15.0, 13.9, 13.3, 13.1, 10.2, 10.4, 10.9, 11.3, 12.3, 8.8, 7.2, 10.5, 7.4, 10.2, 11.5, 15.1, 23.2, 9.7, 13.8, 12.7, 13.1, 12.5, 8.5, 5.0, 6.3, 5.6, 7.2, 12.1, 8.3, 8.5, 5.0, 11.9, 27.9, 17.2, 27.5, 15.0, 17.2, 17.9, 16.3, 7.0, 7.2, 7.5, 10.4, 8.8, 8.4, 16.7, 14.2, 20.8, 13.4, 11.7, 8.3, 10.2, 10.9, 11.0, 9.5, 14.5, 14.1, 16.1, 14.3, 11.7, 13.4, 9.6, 8.7, 8.4, 12.8, 10.5, 17.1, 18.4, 15.4, 10.8, 11.8, 14.9, 12.6, 14.1, 13.0, 13.4, 15.2, 16.1, 17.8, 14.9, 14.1, 12.7, 13.5, 14.9, 20.0, 16.4, 17.7, 19.5, 20.2, 21.4, 19.9, 19.0, 19.1, 19.1, 20.1, 19.9, 19.6, 23.2, 29.8, 13.8, 13.3, 16.7, 12.0, 14.6, 21.4, 23.0, 23.7, 25.0, 21.8, 20.6, 21.2, 19.1, 20.6, 15.2, 7.0, 8.1, 13.6, 20.1, 21.8, 24.5, 23.1, 19.7, 18.3, 21.2, 17.5, 16.8, 22.4, 20.6, 23.9, 22.0, 11.9], \"coloraxis\": \"coloraxis\", \"symbol\": \"circle\"}, \"name\": \"\", \"showlegend\": false, \"type\": \"splom\"}],                        {\"coloraxis\": {\"colorbar\": {\"title\": {\"text\": \"Median Price\"}}, \"colorscale\": [[0.0, \"#0d0887\"], [0.1111111111111111, \"#46039f\"], [0.2222222222222222, \"#7201a8\"], [0.3333333333333333, \"#9c179e\"], [0.4444444444444444, \"#bd3786\"], [0.5555555555555556, \"#d8576b\"], [0.6666666666666666, \"#ed7953\"], [0.7777777777777778, \"#fb9f3a\"], [0.8888888888888888, \"#fdca26\"], [1.0, \"#f0f921\"]]}, \"dragmode\": \"select\", \"legend\": {\"tracegroupgap\": 0}, \"template\": {\"data\": {\"bar\": [{\"error_x\": {\"color\": \"#2a3f5f\"}, \"error_y\": {\"color\": \"#2a3f5f\"}, \"marker\": {\"line\": {\"color\": \"#E5ECF6\", \"width\": 0.5}}, \"type\": \"bar\"}], \"barpolar\": [{\"marker\": {\"line\": {\"color\": \"#E5ECF6\", \"width\": 0.5}}, \"type\": \"barpolar\"}], \"carpet\": [{\"aaxis\": {\"endlinecolor\": \"#2a3f5f\", \"gridcolor\": \"white\", \"linecolor\": \"white\", \"minorgridcolor\": \"white\", \"startlinecolor\": \"#2a3f5f\"}, \"baxis\": {\"endlinecolor\": \"#2a3f5f\", \"gridcolor\": \"white\", \"linecolor\": \"white\", \"minorgridcolor\": \"white\", \"startlinecolor\": \"#2a3f5f\"}, \"type\": \"carpet\"}], \"choropleth\": [{\"colorbar\": {\"outlinewidth\": 0, \"ticks\": \"\"}, \"type\": \"choropleth\"}], \"contour\": [{\"colorbar\": {\"outlinewidth\": 0, \"ticks\": \"\"}, \"colorscale\": [[0.0, \"#0d0887\"], [0.1111111111111111, \"#46039f\"], [0.2222222222222222, \"#7201a8\"], [0.3333333333333333, \"#9c179e\"], [0.4444444444444444, \"#bd3786\"], [0.5555555555555556, \"#d8576b\"], [0.6666666666666666, \"#ed7953\"], [0.7777777777777778, \"#fb9f3a\"], [0.8888888888888888, \"#fdca26\"], [1.0, \"#f0f921\"]], \"type\": \"contour\"}], \"contourcarpet\": [{\"colorbar\": {\"outlinewidth\": 0, \"ticks\": \"\"}, \"type\": \"contourcarpet\"}], \"heatmap\": [{\"colorbar\": {\"outlinewidth\": 0, \"ticks\": \"\"}, \"colorscale\": [[0.0, \"#0d0887\"], [0.1111111111111111, \"#46039f\"], [0.2222222222222222, \"#7201a8\"], [0.3333333333333333, \"#9c179e\"], [0.4444444444444444, \"#bd3786\"], [0.5555555555555556, \"#d8576b\"], [0.6666666666666666, \"#ed7953\"], [0.7777777777777778, \"#fb9f3a\"], [0.8888888888888888, \"#fdca26\"], [1.0, \"#f0f921\"]], \"type\": \"heatmap\"}], \"heatmapgl\": [{\"colorbar\": {\"outlinewidth\": 0, \"ticks\": \"\"}, \"colorscale\": [[0.0, \"#0d0887\"], [0.1111111111111111, \"#46039f\"], [0.2222222222222222, \"#7201a8\"], [0.3333333333333333, \"#9c179e\"], [0.4444444444444444, \"#bd3786\"], [0.5555555555555556, \"#d8576b\"], [0.6666666666666666, \"#ed7953\"], [0.7777777777777778, \"#fb9f3a\"], [0.8888888888888888, \"#fdca26\"], [1.0, \"#f0f921\"]], \"type\": \"heatmapgl\"}], \"histogram\": [{\"marker\": {\"colorbar\": {\"outlinewidth\": 0, \"ticks\": \"\"}}, \"type\": \"histogram\"}], \"histogram2d\": [{\"colorbar\": {\"outlinewidth\": 0, \"ticks\": \"\"}, \"colorscale\": [[0.0, \"#0d0887\"], [0.1111111111111111, \"#46039f\"], [0.2222222222222222, \"#7201a8\"], [0.3333333333333333, \"#9c179e\"], [0.4444444444444444, \"#bd3786\"], [0.5555555555555556, \"#d8576b\"], [0.6666666666666666, \"#ed7953\"], [0.7777777777777778, \"#fb9f3a\"], [0.8888888888888888, \"#fdca26\"], [1.0, \"#f0f921\"]], \"type\": \"histogram2d\"}], \"histogram2dcontour\": [{\"colorbar\": {\"outlinewidth\": 0, \"ticks\": \"\"}, \"colorscale\": [[0.0, \"#0d0887\"], [0.1111111111111111, \"#46039f\"], [0.2222222222222222, \"#7201a8\"], [0.3333333333333333, \"#9c179e\"], [0.4444444444444444, \"#bd3786\"], [0.5555555555555556, \"#d8576b\"], [0.6666666666666666, \"#ed7953\"], [0.7777777777777778, \"#fb9f3a\"], [0.8888888888888888, \"#fdca26\"], [1.0, \"#f0f921\"]], \"type\": \"histogram2dcontour\"}], \"mesh3d\": [{\"colorbar\": {\"outlinewidth\": 0, \"ticks\": \"\"}, \"type\": \"mesh3d\"}], \"parcoords\": [{\"line\": {\"colorbar\": {\"outlinewidth\": 0, \"ticks\": \"\"}}, \"type\": \"parcoords\"}], \"pie\": [{\"automargin\": true, \"type\": \"pie\"}], \"scatter\": [{\"marker\": {\"colorbar\": {\"outlinewidth\": 0, \"ticks\": \"\"}}, \"type\": \"scatter\"}], \"scatter3d\": [{\"line\": {\"colorbar\": {\"outlinewidth\": 0, \"ticks\": \"\"}}, \"marker\": {\"colorbar\": {\"outlinewidth\": 0, \"ticks\": \"\"}}, \"type\": \"scatter3d\"}], \"scattercarpet\": [{\"marker\": {\"colorbar\": {\"outlinewidth\": 0, \"ticks\": \"\"}}, \"type\": \"scattercarpet\"}], \"scattergeo\": [{\"marker\": {\"colorbar\": {\"outlinewidth\": 0, \"ticks\": \"\"}}, \"type\": \"scattergeo\"}], \"scattergl\": [{\"marker\": {\"colorbar\": {\"outlinewidth\": 0, \"ticks\": \"\"}}, \"type\": \"scattergl\"}], \"scattermapbox\": [{\"marker\": {\"colorbar\": {\"outlinewidth\": 0, \"ticks\": \"\"}}, \"type\": \"scattermapbox\"}], \"scatterpolar\": [{\"marker\": {\"colorbar\": {\"outlinewidth\": 0, \"ticks\": \"\"}}, \"type\": \"scatterpolar\"}], \"scatterpolargl\": [{\"marker\": {\"colorbar\": {\"outlinewidth\": 0, \"ticks\": \"\"}}, \"type\": \"scatterpolargl\"}], \"scatterternary\": [{\"marker\": {\"colorbar\": {\"outlinewidth\": 0, \"ticks\": \"\"}}, \"type\": \"scatterternary\"}], \"surface\": [{\"colorbar\": {\"outlinewidth\": 0, \"ticks\": \"\"}, \"colorscale\": [[0.0, \"#0d0887\"], [0.1111111111111111, \"#46039f\"], [0.2222222222222222, \"#7201a8\"], [0.3333333333333333, \"#9c179e\"], [0.4444444444444444, \"#bd3786\"], [0.5555555555555556, \"#d8576b\"], [0.6666666666666666, \"#ed7953\"], [0.7777777777777778, \"#fb9f3a\"], [0.8888888888888888, \"#fdca26\"], [1.0, \"#f0f921\"]], \"type\": \"surface\"}], \"table\": [{\"cells\": {\"fill\": {\"color\": \"#EBF0F8\"}, \"line\": {\"color\": \"white\"}}, \"header\": {\"fill\": {\"color\": \"#C8D4E3\"}, \"line\": {\"color\": \"white\"}}, \"type\": \"table\"}]}, \"layout\": {\"annotationdefaults\": {\"arrowcolor\": \"#2a3f5f\", \"arrowhead\": 0, \"arrowwidth\": 1}, \"autotypenumbers\": \"strict\", \"coloraxis\": {\"colorbar\": {\"outlinewidth\": 0, \"ticks\": \"\"}}, \"colorscale\": {\"diverging\": [[0, \"#8e0152\"], [0.1, \"#c51b7d\"], [0.2, \"#de77ae\"], [0.3, \"#f1b6da\"], [0.4, \"#fde0ef\"], [0.5, \"#f7f7f7\"], [0.6, \"#e6f5d0\"], [0.7, \"#b8e186\"], [0.8, \"#7fbc41\"], [0.9, \"#4d9221\"], [1, \"#276419\"]], \"sequential\": [[0.0, \"#0d0887\"], [0.1111111111111111, \"#46039f\"], [0.2222222222222222, \"#7201a8\"], [0.3333333333333333, \"#9c179e\"], [0.4444444444444444, \"#bd3786\"], [0.5555555555555556, \"#d8576b\"], [0.6666666666666666, \"#ed7953\"], [0.7777777777777778, \"#fb9f3a\"], [0.8888888888888888, \"#fdca26\"], [1.0, \"#f0f921\"]], \"sequentialminus\": [[0.0, \"#0d0887\"], [0.1111111111111111, \"#46039f\"], [0.2222222222222222, \"#7201a8\"], [0.3333333333333333, \"#9c179e\"], [0.4444444444444444, \"#bd3786\"], [0.5555555555555556, \"#d8576b\"], [0.6666666666666666, \"#ed7953\"], [0.7777777777777778, \"#fb9f3a\"], [0.8888888888888888, \"#fdca26\"], [1.0, \"#f0f921\"]]}, \"colorway\": [\"#636efa\", \"#EF553B\", \"#00cc96\", \"#ab63fa\", \"#FFA15A\", \"#19d3f3\", \"#FF6692\", \"#B6E880\", \"#FF97FF\", \"#FECB52\"], \"font\": {\"color\": \"#2a3f5f\"}, \"geo\": {\"bgcolor\": \"white\", \"lakecolor\": \"white\", \"landcolor\": \"#E5ECF6\", \"showlakes\": true, \"showland\": true, \"subunitcolor\": \"white\"}, \"hoverlabel\": {\"align\": \"left\"}, \"hovermode\": \"closest\", \"mapbox\": {\"style\": \"light\"}, \"paper_bgcolor\": \"white\", \"plot_bgcolor\": \"#E5ECF6\", \"polar\": {\"angularaxis\": {\"gridcolor\": \"white\", \"linecolor\": \"white\", \"ticks\": \"\"}, \"bgcolor\": \"#E5ECF6\", \"radialaxis\": {\"gridcolor\": \"white\", \"linecolor\": \"white\", \"ticks\": \"\"}}, \"scene\": {\"xaxis\": {\"backgroundcolor\": \"#E5ECF6\", \"gridcolor\": \"white\", \"gridwidth\": 2, \"linecolor\": \"white\", \"showbackground\": true, \"ticks\": \"\", \"zerolinecolor\": \"white\"}, \"yaxis\": {\"backgroundcolor\": \"#E5ECF6\", \"gridcolor\": \"white\", \"gridwidth\": 2, \"linecolor\": \"white\", \"showbackground\": true, \"ticks\": \"\", \"zerolinecolor\": \"white\"}, \"zaxis\": {\"backgroundcolor\": \"#E5ECF6\", \"gridcolor\": \"white\", \"gridwidth\": 2, \"linecolor\": \"white\", \"showbackground\": true, \"ticks\": \"\", \"zerolinecolor\": \"white\"}}, \"shapedefaults\": {\"line\": {\"color\": \"#2a3f5f\"}}, \"ternary\": {\"aaxis\": {\"gridcolor\": \"white\", \"linecolor\": \"white\", \"ticks\": \"\"}, \"baxis\": {\"gridcolor\": \"white\", \"linecolor\": \"white\", \"ticks\": \"\"}, \"bgcolor\": \"#E5ECF6\", \"caxis\": {\"gridcolor\": \"white\", \"linecolor\": \"white\", \"ticks\": \"\"}}, \"title\": {\"x\": 0.05}, \"xaxis\": {\"automargin\": true, \"gridcolor\": \"white\", \"linecolor\": \"white\", \"ticks\": \"\", \"title\": {\"standoff\": 15}, \"zerolinecolor\": \"white\", \"zerolinewidth\": 2}, \"yaxis\": {\"automargin\": true, \"gridcolor\": \"white\", \"linecolor\": \"white\", \"ticks\": \"\", \"title\": {\"standoff\": 15}, \"zerolinecolor\": \"white\", \"zerolinewidth\": 2}}}, \"title\": {\"text\": \"Total Explained Variance: 99.72%\"}},                        {\"responsive\": true}                    ).then(function(){\n",
       "                            \n",
       "var gd = document.getElementById('5bc5c2ca-d447-4706-9558-99aa16504d4e');\n",
       "var x = new MutationObserver(function (mutations, observer) {{\n",
       "        var display = window.getComputedStyle(gd).display;\n",
       "        if (!display || display === 'none') {{\n",
       "            console.log([gd, 'removed!']);\n",
       "            Plotly.purge(gd);\n",
       "            observer.disconnect();\n",
       "        }}\n",
       "}});\n",
       "\n",
       "// Listen for the removal of the full notebook cells\n",
       "var notebookContainer = gd.closest('#notebook-container');\n",
       "if (notebookContainer) {{\n",
       "    x.observe(notebookContainer, {childList: true});\n",
       "}}\n",
       "\n",
       "// Listen for the clearing of the current output cell\n",
       "var outputEl = gd.closest('.output');\n",
       "if (outputEl) {{\n",
       "    x.observe(outputEl, {childList: true});\n",
       "}}\n",
       "\n",
       "                        })                };                });            </script>        </div>"
      ]
     },
     "metadata": {},
     "output_type": "display_data"
    }
   ],
   "source": [
    "import pandas as pd\n",
    "import plotly.express as px\n",
    "from sklearn.decomposition import PCA\n",
    "from sklearn.datasets import load_boston\n",
    "\n",
    "boston = load_boston()\n",
    "df = pd.DataFrame(boston.data, columns=boston.feature_names)\n",
    "n_components = 4\n",
    "\n",
    "pca = PCA(n_components=n_components)\n",
    "components = pca.fit_transform(df)\n",
    "\n",
    "total_var = pca.explained_variance_ratio_.sum() * 100\n",
    "\n",
    "labels = {str(i): f\"PC {i+1}\" for i in range(n_components)}\n",
    "labels['color'] = 'Median Price'\n",
    "\n",
    "fig = px.scatter_matrix(\n",
    "    components,\n",
    "    color=boston.target,\n",
    "    dimensions=range(n_components),\n",
    "    labels=labels,\n",
    "    title=f'Total Explained Variance: {total_var:.2f}%',\n",
    ")\n",
    "fig.update_traces(diagonal_visible=False)\n",
    "fig.show()"
   ]
  },
  {
   "cell_type": "code",
   "execution_count": 7,
   "metadata": {},
   "outputs": [
    {
     "name": "stdout",
     "output_type": "stream",
     "text": [
      "Dash is running on http://127.0.0.1:8050/\n",
      "\n",
      "Dash is running on http://127.0.0.1:8050/\n",
      "\n",
      " * Serving Flask app '__main__' (lazy loading)\n",
      " * Environment: production\n",
      "\u001b[31m   WARNING: This is a development server. Do not use it in a production deployment.\u001b[0m\n",
      "\u001b[2m   Use a production WSGI server instead.\u001b[0m\n",
      " * Debug mode: on\n"
     ]
    },
    {
     "ename": "SystemExit",
     "evalue": "1",
     "output_type": "error",
     "traceback": [
      "An exception has occurred, use %tb to see the full traceback.\n",
      "\u001b[1;31mSystemExit\u001b[0m\u001b[1;31m:\u001b[0m 1\n"
     ]
    }
   ],
   "source": [
    "import dash\n",
    "import dash_core_components as dcc\n",
    "import dash_html_components as html\n",
    "from dash.dependencies import Input, Output\n",
    "import pandas as pd\n",
    "import plotly.express as px\n",
    "from sklearn.decomposition import PCA\n",
    "from sklearn.datasets import load_boston\n",
    "\n",
    "boston = load_boston()\n",
    "df = pd.DataFrame(\n",
    "    boston.data, columns=boston.feature_names)\n",
    "\n",
    "app = dash.Dash(__name__)\n",
    "\n",
    "app.layout = html.Div([\n",
    "    dcc.Graph(id=\"graph\"),\n",
    "    html.P(\"Number of components:\"),\n",
    "    dcc.Slider(\n",
    "        id='slider',\n",
    "        min=2, max=5, value=3,\n",
    "        marks={i: str(i) for i in range(2,6)})\n",
    "])\n",
    "\n",
    "@app.callback(\n",
    "    Output(\"graph\", \"figure\"), \n",
    "    [Input(\"slider\", \"value\")])\n",
    "def run_and_plot(n_components):\n",
    "\n",
    "    pca = PCA(n_components=n_components)\n",
    "    components = pca.fit_transform(df)\n",
    "\n",
    "    var = pca.explained_variance_ratio_.sum() * 100\n",
    "\n",
    "    labels = {str(i): f\"PC {i+1}\" \n",
    "              for i in range(n_components)}\n",
    "    labels['color'] = 'Median Price'\n",
    "\n",
    "    fig = px.scatter_matrix(\n",
    "        components,\n",
    "        color=boston.target,\n",
    "        dimensions=range(n_components),\n",
    "        labels=labels,\n",
    "        title=f'Total Explained Variance: {var:.2f}%')\n",
    "    fig.update_traces(diagonal_visible=False)\n",
    "    return fig\n",
    "\n",
    "app.run_server(debug=True)"
   ]
  },
  {
   "cell_type": "code",
   "execution_count": null,
   "metadata": {},
   "outputs": [],
   "source": []
  }
 ],
 "metadata": {
  "kernelspec": {
   "display_name": "Python 3",
   "language": "python",
   "name": "python3"
  },
  "language_info": {
   "codemirror_mode": {
    "name": "ipython",
    "version": 3
   },
   "file_extension": ".py",
   "mimetype": "text/x-python",
   "name": "python",
   "nbconvert_exporter": "python",
   "pygments_lexer": "ipython3",
   "version": "3.8.10"
  }
 },
 "nbformat": 4,
 "nbformat_minor": 4
}

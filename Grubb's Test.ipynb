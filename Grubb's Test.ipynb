{
 "cells": [
  {
   "cell_type": "markdown",
   "id": "bde5e235-422a-4b79-921a-cbafccb0fddc",
   "metadata": {},
   "source": [
    "# Grubbs's test\n",
    "In statistics, Grubbs's test or the Grubbs test (named after Frank E. Grubbs, who published the test in 1950[1]), also known as the maximum normalized residual test or extreme studentized deviate test, is a test used to detect outliers in a univariate data set assumed to come from a normally distributed population.\n",
    "## Definition\n",
    "Grubbs's test is based on the assumption of normality. That is, one should first verify that the data can be reasonably approximated by a normal distribution before applying the Grubbs test.\n",
    "\n",
    "Grubbs's test detects one outlier at a time. This outlier is expunged from the dataset and the test is iterated until no outliers are detected. However, multiple iterations change the probabilities of detection, and the test should not be used for sample sizes of six or fewer since it frequently tags most of the points as outliers.\n",
    "\n",
    "Grubbs's test is defined for the hypothesis:\n",
    "\n",
    "* $H_0$: There are no outliers in the data set\n",
    "* $H_a$: There is exactly one outlier in the data set\n",
    "\n",
    "The Grubbs test statistic is defined as:\n",
    "\n",
    "\\begin{equation}\n",
    "    G =  \\frac{\\displaystyle\\max_{i=1,\\ldots, N}\\left \\vert Y_i - \\bar{Y}\\right\\vert}{s}\n",
    "\\end{equation}\n",
    "\n",
    "with $\\overline {Y}$ and $s$ denoting the sample mean and standard deviation, respectively. The Grubbs test statistic is the largest absolute deviation from the sample mean in units of the sample standard deviation.\n",
    "\n",
    "This is the two-sided test, for which the hypothesis of no outliers is rejected at significance level $\\alpha$ if\n",
    "\n",
    "\\begin{equation}\n",
    "    G > \\frac{N-1}{\\sqrt{N}} \\sqrt{\\frac{t_{\\alpha/(2N),N-2}^2}{N - 2 + t_{\\alpha/(2N),N-2}^2}}\n",
    "\\end{equation}\n",
    "\n",
    "with $t_{\\alpha/(2N),N-2}$ denoting the upper critical value of the t-distribution with $N-2$ degrees of freedom and a significance level of $\\alpha/(2N)$.\n",
    "\n",
    "### One-sided case\n",
    "The Grubbs test can also be defined as a one-sided test, replacing $\\alpha/(2N)$ with $\\alpha/(N)$. To test whether the minimum value is an outlier, the test statistic is\n",
    "\n",
    "\\begin{equation}\n",
    "    G=\\frac{\\overline{Y}-Y_{min}}{s}\n",
    "\\end{equation}\n",
    "\n",
    "with $Y_{min}$ denoting the minimum value. To test whether the maximum value is an outlier, the test statistic is\n",
    "\n",
    "\\begin{equation}\n",
    "    G=\\frac{Y_{max}-\\overline{Y}}{s}\n",
    "\\end{equation}\n",
    "\n",
    "with $Y_{max}$ denoting the maximum value."
   ]
  },
  {
   "cell_type": "code",
   "execution_count": 6,
   "id": "c44ca5a4-97ec-48ee-ba05-59e72a378d91",
   "metadata": {},
   "outputs": [],
   "source": [
    "from scipy import stats"
   ]
  },
  {
   "cell_type": "code",
   "execution_count": 45,
   "id": "98e55753-b27e-453b-8448-b233b8590b9c",
   "metadata": {},
   "outputs": [],
   "source": [
    "n=4 #0.05 ->1.46\n",
    "alpha=0.05"
   ]
  },
  {
   "cell_type": "code",
   "execution_count": 52,
   "id": "c58ca82f-ae70-41a4-9387-7841d03316fa",
   "metadata": {},
   "outputs": [
    {
     "data": {
      "text/plain": [
       "8.860200034654257"
      ]
     },
     "execution_count": 52,
     "metadata": {},
     "output_type": "execute_result"
    }
   ],
   "source": [
    "t_two=stats.t.ppf(1-alpha/(2*n), n-2)\n",
    "t_two"
   ]
  },
  {
   "cell_type": "code",
   "execution_count": 53,
   "id": "51986ee0-da2a-400a-9a00-583885af7b71",
   "metadata": {},
   "outputs": [],
   "source": [
    "#### prima parte"
   ]
  },
  {
   "cell_type": "code",
   "execution_count": 54,
   "id": "8fcad60b-b667-4c42-8969-eb6b88c22dc5",
   "metadata": {},
   "outputs": [
    {
     "data": {
      "text/plain": [
       "1.5"
      ]
     },
     "execution_count": 54,
     "metadata": {},
     "output_type": "execute_result"
    }
   ],
   "source": [
    "a=(n-1)/n**(1/2)\n",
    "a"
   ]
  },
  {
   "cell_type": "code",
   "execution_count": 55,
   "id": "62a83d4a-2388-44b4-8037-933dda8f6a94",
   "metadata": {},
   "outputs": [],
   "source": [
    "#### seconda parte"
   ]
  },
  {
   "cell_type": "code",
   "execution_count": 56,
   "id": "34e02182-a48d-451e-96ac-433510da1643",
   "metadata": {},
   "outputs": [
    {
     "data": {
      "text/plain": [
       "0.9874999999999998"
      ]
     },
     "execution_count": 56,
     "metadata": {},
     "output_type": "execute_result"
    }
   ],
   "source": [
    "b=((t_two**2)/(n-2+t_two**2))**(1/2)\n",
    "b"
   ]
  },
  {
   "cell_type": "markdown",
   "id": "4c5156ef-c57b-4a37-a7b5-cdf45d37ccc8",
   "metadata": {},
   "source": [
    "### insieme"
   ]
  },
  {
   "cell_type": "code",
   "execution_count": 57,
   "id": "6fc5f256-cc8f-48db-a128-5111c8d95add",
   "metadata": {},
   "outputs": [
    {
     "data": {
      "text/plain": [
       "1.4812499999999997"
      ]
     },
     "execution_count": 57,
     "metadata": {},
     "output_type": "execute_result"
    }
   ],
   "source": [
    "a*b"
   ]
  },
  {
   "cell_type": "code",
   "execution_count": 70,
   "id": "461c3663-d95d-4b74-a1f5-f15645c17b7a",
   "metadata": {},
   "outputs": [],
   "source": [
    "x=np.array([2,3,5,6,1,5,3,2,6,8,6,9,10])"
   ]
  },
  {
   "cell_type": "code",
   "execution_count": null,
   "id": "55797b5b-be4f-4336-9b63-bff2a299f024",
   "metadata": {},
   "outputs": [],
   "source": []
  },
  {
   "cell_type": "markdown",
   "id": "2b49bfe1-cc66-4ff8-87f4-02c63dab7372",
   "metadata": {
    "tags": []
   },
   "source": [
    "## Funzione python"
   ]
  },
  {
   "cell_type": "code",
   "execution_count": 71,
   "id": "f6d91b53-59dc-4460-b753-20577f58583c",
   "metadata": {},
   "outputs": [],
   "source": [
    "import numpy as np\n",
    "from scipy import stats"
   ]
  },
  {
   "cell_type": "code",
   "execution_count": 88,
   "id": "ea6efb85-9602-42f6-a06e-5657a7178ed8",
   "metadata": {},
   "outputs": [],
   "source": [
    "x=np.array([0,3,5,3,12,8,10,3,1,4,3,6,5,7,8,9,2,3,4,5,3])"
   ]
  },
  {
   "cell_type": "code",
   "execution_count": 112,
   "id": "8d284e73-4a2a-4ad9-836a-f5014a11aeff",
   "metadata": {},
   "outputs": [],
   "source": [
    "def grubbs_test (x, alpha=0.05, type=\"two_side\", side=None):\n",
    "    # x è il dataset che vuoi testare\n",
    "    # alpha è il valore di significatività del test, 1-alpha = p livello di confidenza, del 90% se alpha=0.1, default 0.05\n",
    "    # type: two_side or one_side, two_side default\n",
    "    # side serve solo nel caso one_side e fa scegliere quale valore si vuole controllare, right -> valore massimo, left -> valore minimo\n",
    "    \n",
    "    n=len(x) # numero di dati\n",
    "    if type == \"two_side\":\n",
    "        t=stats.t.ppf(1-alpha/(2*n), n-2) # t di student calcolata\n",
    "        g=np.amax(abs(x-x.mean()))/np.std(x)\n",
    "        \n",
    "    elif type == \"one_side\": \n",
    "        t=stats.t.ppf(1-alpha/(n), n-2) # t di student calcolata\n",
    "        if side==\"right\":\n",
    "            g=(np.amax(x)-x.mean())/np.std(x)\n",
    "        elif side==\"left\":\n",
    "            g=(x.mean()-np.min(x))/np.std(x)\n",
    "        \n",
    "    g_crit=(n-1)/n**(1/2)*((t**2)/(n-2+t**2))**(1/2) #valore critico di G\n",
    "    \n",
    "    if g > g_crit:\n",
    "        print(\"H_0 At this significance level, no outlier is detected\")\n",
    "    elif g < g_crit:\n",
    "        if type == \"two_side\":\n",
    "            print(f\"H_a There is exactly one outlier in the data set, is {g*np.std(x)+x.mean()}\")\n",
    "        elif type == \"one_side\": \n",
    "            if side==\"right\":\n",
    "                print(f\"H_a There is exactly one outlier in the data set, is {g*np.std(x)+x.mean()}\")\n",
    "            elif side==\"left\": \n",
    "                print(f\"H_a There is exactly one outlier in the data set, is {x.mean()-(g*np.std(x))}\")"
   ]
  },
  {
   "cell_type": "code",
   "execution_count": 113,
   "id": "cefd402c-b4e7-4b60-a0b5-155675b52629",
   "metadata": {},
   "outputs": [
    {
     "name": "stdout",
     "output_type": "stream",
     "text": [
      "H_a There is exactly one outlier in the data set, is 0.0\n"
     ]
    }
   ],
   "source": [
    "grubbs_test(x=x, type=\"one_side\", side=\"left\")"
   ]
  },
  {
   "cell_type": "code",
   "execution_count": null,
   "id": "454f3e1a-26ea-499d-8f6f-481cb30d0533",
   "metadata": {},
   "outputs": [],
   "source": []
  }
 ],
 "metadata": {
  "kernelspec": {
   "display_name": "Python 3 (ipykernel)",
   "language": "python",
   "name": "python3"
  },
  "language_info": {
   "codemirror_mode": {
    "name": "ipython",
    "version": 3
   },
   "file_extension": ".py",
   "mimetype": "text/x-python",
   "name": "python",
   "nbconvert_exporter": "python",
   "pygments_lexer": "ipython3",
   "version": "3.9.7"
  }
 },
 "nbformat": 4,
 "nbformat_minor": 5
}

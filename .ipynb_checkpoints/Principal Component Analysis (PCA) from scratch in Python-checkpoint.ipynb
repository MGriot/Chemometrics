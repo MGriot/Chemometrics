{
 "cells": [
  {
   "cell_type": "markdown",
   "id": "af1410ed-6672-438d-bf35-d0c54f538dce",
   "metadata": {},
   "source": [
    "# Dataset and imports"
   ]
  },
  {
   "cell_type": "code",
   "execution_count": 22,
   "id": "8b85a8d1-ff05-43a2-8aef-f82d415e315c",
   "metadata": {},
   "outputs": [
    {
     "data": {
      "text/html": [
       "<div>\n",
       "<style scoped>\n",
       "    .dataframe tbody tr th:only-of-type {\n",
       "        vertical-align: middle;\n",
       "    }\n",
       "\n",
       "    .dataframe tbody tr th {\n",
       "        vertical-align: top;\n",
       "    }\n",
       "\n",
       "    .dataframe thead th {\n",
       "        text-align: right;\n",
       "    }\n",
       "</style>\n",
       "<table border=\"1\" class=\"dataframe\">\n",
       "  <thead>\n",
       "    <tr style=\"text-align: right;\">\n",
       "      <th></th>\n",
       "      <th>sepal_length</th>\n",
       "      <th>sepal_width</th>\n",
       "      <th>petal_length</th>\n",
       "      <th>petal_width</th>\n",
       "      <th>species</th>\n",
       "    </tr>\n",
       "  </thead>\n",
       "  <tbody>\n",
       "    <tr>\n",
       "      <th>0</th>\n",
       "      <td>5.1</td>\n",
       "      <td>3.5</td>\n",
       "      <td>1.4</td>\n",
       "      <td>0.2</td>\n",
       "      <td>setosa</td>\n",
       "    </tr>\n",
       "    <tr>\n",
       "      <th>1</th>\n",
       "      <td>4.9</td>\n",
       "      <td>3.0</td>\n",
       "      <td>1.4</td>\n",
       "      <td>0.2</td>\n",
       "      <td>setosa</td>\n",
       "    </tr>\n",
       "    <tr>\n",
       "      <th>2</th>\n",
       "      <td>4.7</td>\n",
       "      <td>3.2</td>\n",
       "      <td>1.3</td>\n",
       "      <td>0.2</td>\n",
       "      <td>setosa</td>\n",
       "    </tr>\n",
       "    <tr>\n",
       "      <th>3</th>\n",
       "      <td>4.6</td>\n",
       "      <td>3.1</td>\n",
       "      <td>1.5</td>\n",
       "      <td>0.2</td>\n",
       "      <td>setosa</td>\n",
       "    </tr>\n",
       "    <tr>\n",
       "      <th>4</th>\n",
       "      <td>5.0</td>\n",
       "      <td>3.6</td>\n",
       "      <td>1.4</td>\n",
       "      <td>0.2</td>\n",
       "      <td>setosa</td>\n",
       "    </tr>\n",
       "  </tbody>\n",
       "</table>\n",
       "</div>"
      ],
      "text/plain": [
       "   sepal_length  sepal_width  petal_length  petal_width species\n",
       "0           5.1          3.5           1.4          0.2  setosa\n",
       "1           4.9          3.0           1.4          0.2  setosa\n",
       "2           4.7          3.2           1.3          0.2  setosa\n",
       "3           4.6          3.1           1.5          0.2  setosa\n",
       "4           5.0          3.6           1.4          0.2  setosa"
      ]
     },
     "execution_count": 22,
     "metadata": {},
     "output_type": "execute_result"
    }
   ],
   "source": [
    "import numpy as np \n",
    "import pandas as pd\n",
    "df = pd.read_csv(\"https://raw.githubusercontent.com/uiuc-cse/data-fa14/gh-pages/data/iris.csv\")\n",
    "df.head()"
   ]
  },
  {
   "cell_type": "markdown",
   "id": "5ecfb922-c196-4b80-9ce8-06709962005c",
   "metadata": {},
   "source": [
    "# Data scaling"
   ]
  },
  {
   "cell_type": "code",
   "execution_count": 3,
   "id": "f8231e45-ccd3-4764-82fc-604be297af36",
   "metadata": {},
   "outputs": [
    {
     "data": {
      "text/plain": [
       "array([[-0.90068117,  1.03205722, -1.3412724 , -1.31297673],\n",
       "       [-1.14301691, -0.1249576 , -1.3412724 , -1.31297673],\n",
       "       [-1.38535265,  0.33784833, -1.39813811, -1.31297673],\n",
       "       [-1.50652052,  0.10644536, -1.2844067 , -1.31297673],\n",
       "       [-1.02184904,  1.26346019, -1.3412724 , -1.31297673]])"
      ]
     },
     "execution_count": 3,
     "metadata": {},
     "output_type": "execute_result"
    }
   ],
   "source": [
    "from sklearn.preprocessing import StandardScaler\n",
    "X=df[[\"sepal_length\",\"sepal_width\",\"petal_length\",\"petal_width\"]]\n",
    "X_scaled = StandardScaler().fit_transform(X)\n",
    "X_scaled[:5]"
   ]
  },
  {
   "cell_type": "markdown",
   "id": "9beae64d-aaeb-4d20-93d6-0d6535c82bc9",
   "metadata": {},
   "source": [
    "# Covariance matrix"
   ]
  },
  {
   "cell_type": "code",
   "execution_count": 4,
   "id": "a646f56b-2a3e-48f1-a395-65589a38fa38",
   "metadata": {},
   "outputs": [
    {
     "data": {
      "text/plain": [
       "array([[ 1.00671141, -0.11010327,  0.87760486,  0.82344326],\n",
       "       [-0.11010327,  1.00671141, -0.42333835, -0.358937  ],\n",
       "       [ 0.87760486, -0.42333835,  1.00671141,  0.96921855],\n",
       "       [ 0.82344326, -0.358937  ,  0.96921855,  1.00671141]])"
      ]
     },
     "execution_count": 4,
     "metadata": {},
     "output_type": "execute_result"
    }
   ],
   "source": [
    "features = X_scaled.T\n",
    "cov_matrix = np.cov(features)\n",
    "cov_matrix[:5]"
   ]
  },
  {
   "cell_type": "markdown",
   "id": "2dcf9dd3-9d50-428f-a0fb-05e549898a4c",
   "metadata": {},
   "source": [
    "## Eigendecomposition"
   ]
  },
  {
   "cell_type": "code",
   "execution_count": 5,
   "id": "938db454-d522-43c1-8c71-9bba35e7830d",
   "metadata": {},
   "outputs": [
    {
     "data": {
      "text/plain": [
       "array([2.93035378, 0.92740362, 0.14834223, 0.02074601])"
      ]
     },
     "execution_count": 5,
     "metadata": {},
     "output_type": "execute_result"
    }
   ],
   "source": [
    "values, vectors = np.linalg.eig(cov_matrix)\n",
    "values[:5]"
   ]
  },
  {
   "cell_type": "code",
   "execution_count": 6,
   "id": "21800ce0-2180-4f9e-896a-a032857796fb",
   "metadata": {},
   "outputs": [
    {
     "data": {
      "text/plain": [
       "array([[ 0.52237162, -0.37231836, -0.72101681,  0.26199559],\n",
       "       [-0.26335492, -0.92555649,  0.24203288, -0.12413481],\n",
       "       [ 0.58125401, -0.02109478,  0.14089226, -0.80115427],\n",
       "       [ 0.56561105, -0.06541577,  0.6338014 ,  0.52354627]])"
      ]
     },
     "execution_count": 6,
     "metadata": {},
     "output_type": "execute_result"
    }
   ],
   "source": [
    "vectors[:5]"
   ]
  },
  {
   "cell_type": "code",
   "execution_count": 7,
   "id": "8685f299-7f13-473a-913b-2396267311c7",
   "metadata": {},
   "outputs": [
    {
     "name": "stdout",
     "output_type": "stream",
     "text": [
      "1.0 \n",
      " [0.7277045209380131, 0.23030523267680664, 0.036838319576273926, 0.005151926808906289]\n"
     ]
    }
   ],
   "source": [
    "explained_variances = []\n",
    "for i in range(len(values)):\n",
    "    explained_variances.append(values[i] / np.sum(values))\n",
    " \n",
    "print(np.sum(explained_variances), '\\n', explained_variances)"
   ]
  },
  {
   "cell_type": "markdown",
   "id": "a4f0f3c7-caef-467c-8a26-613af51d6c9c",
   "metadata": {},
   "source": [
    "# Visualizations"
   ]
  },
  {
   "cell_type": "code",
   "execution_count": 8,
   "id": "04782807-ec44-486c-849d-8fda438045ce",
   "metadata": {},
   "outputs": [
    {
     "data": {
      "text/html": [
       "<div>\n",
       "<style scoped>\n",
       "    .dataframe tbody tr th:only-of-type {\n",
       "        vertical-align: middle;\n",
       "    }\n",
       "\n",
       "    .dataframe tbody tr th {\n",
       "        vertical-align: top;\n",
       "    }\n",
       "\n",
       "    .dataframe thead th {\n",
       "        text-align: right;\n",
       "    }\n",
       "</style>\n",
       "<table border=\"1\" class=\"dataframe\">\n",
       "  <thead>\n",
       "    <tr style=\"text-align: right;\">\n",
       "      <th></th>\n",
       "      <th>PC1</th>\n",
       "      <th>PC2</th>\n",
       "      <th>Y</th>\n",
       "    </tr>\n",
       "  </thead>\n",
       "  <tbody>\n",
       "    <tr>\n",
       "      <th>0</th>\n",
       "      <td>-2.264542</td>\n",
       "      <td>-0.505704</td>\n",
       "      <td>setosa</td>\n",
       "    </tr>\n",
       "    <tr>\n",
       "      <th>1</th>\n",
       "      <td>-2.086426</td>\n",
       "      <td>0.655405</td>\n",
       "      <td>setosa</td>\n",
       "    </tr>\n",
       "    <tr>\n",
       "      <th>2</th>\n",
       "      <td>-2.367950</td>\n",
       "      <td>0.318477</td>\n",
       "      <td>setosa</td>\n",
       "    </tr>\n",
       "    <tr>\n",
       "      <th>3</th>\n",
       "      <td>-2.304197</td>\n",
       "      <td>0.575368</td>\n",
       "      <td>setosa</td>\n",
       "    </tr>\n",
       "    <tr>\n",
       "      <th>4</th>\n",
       "      <td>-2.388777</td>\n",
       "      <td>-0.674767</td>\n",
       "      <td>setosa</td>\n",
       "    </tr>\n",
       "  </tbody>\n",
       "</table>\n",
       "</div>"
      ],
      "text/plain": [
       "        PC1       PC2       Y\n",
       "0 -2.264542 -0.505704  setosa\n",
       "1 -2.086426  0.655405  setosa\n",
       "2 -2.367950  0.318477  setosa\n",
       "3 -2.304197  0.575368  setosa\n",
       "4 -2.388777 -0.674767  setosa"
      ]
     },
     "execution_count": 8,
     "metadata": {},
     "output_type": "execute_result"
    }
   ],
   "source": [
    "projected_1 = X_scaled.dot(vectors.T[0])\n",
    "projected_2 = X_scaled.dot(vectors.T[1])\n",
    "res = pd.DataFrame(projected_1, columns=['PC1'])\n",
    "res['PC2'] = projected_2\n",
    "res['Y'] = df[\"species\"]\n",
    "res.head()"
   ]
  },
  {
   "cell_type": "code",
   "execution_count": 14,
   "id": "36a31c53-2cca-449a-90d8-13029e625219",
   "metadata": {},
   "outputs": [
    {
     "data": {
      "image/png": "[encoded data removed]",
      "text/plain": [
       "<Figure size 1440x720 with 1 Axes>"
      ]
     },
     "metadata": {
      "needs_background": "light"
     },
     "output_type": "display_data"
    }
   ],
   "source": [
    "import matplotlib.pyplot as plt\n",
    "import seaborn as sns\n",
    "plt.figure(figsize=(20, 10))\n",
    "plt.scatter(res[\"PC1\"],res[\"PC2\"])\n",
    "plt.show()"
   ]
  },
  {
   "cell_type": "markdown",
   "id": "7586366b-d67b-4667-8ec0-bd430efbdb63",
   "metadata": {},
   "source": [
    "# TEST"
   ]
  },
  {
   "cell_type": "code",
   "execution_count": 17,
   "id": "ece5535c-d696-4c2c-b485-fab77ed4179e",
   "metadata": {},
   "outputs": [],
   "source": [
    "import numpy as np\n",
    "\n",
    "def PCA(X , num_components):\n",
    "    \n",
    "    #Step-1\n",
    "    X_meaned = X - np.mean(X , axis = 0)\n",
    "    \n",
    "    #Step-2\n",
    "    cov_mat = np.cov(X_meaned , rowvar = False)\n",
    "    \n",
    "    #Step-3\n",
    "    eigen_values , eigen_vectors = np.linalg.eigh(cov_mat)\n",
    "    \n",
    "    #Step-4\n",
    "    sorted_index = np.argsort(eigen_values)[::-1]\n",
    "    sorted_eigenvalue = eigen_values[sorted_index]\n",
    "    sorted_eigenvectors = eigen_vectors[:,sorted_index]\n",
    "    \n",
    "    #Step-5\n",
    "    eigenvector_subset = sorted_eigenvectors[:,0:num_components]\n",
    "    \n",
    "    #Step-6\n",
    "    X_reduced = np.dot(eigenvector_subset.transpose() , X_meaned.transpose() ).transpose()\n",
    "    \n",
    "    return X_reduced"
   ]
  },
  {
   "cell_type": "code",
   "execution_count": 18,
   "id": "c46b5de9-a6d4-493b-912b-e029c112663b",
   "metadata": {},
   "outputs": [],
   "source": [
    "import pandas as pd\n",
    "\n",
    "#Get the IRIS dataset\n",
    "url = \"https://archive.ics.uci.edu/ml/machine-learning-databases/iris/iris.data\"\n",
    "data = pd.read_csv(url, names=['sepal length','sepal width','petal length','petal width','target'])\n",
    "\n",
    "#prepare the data\n",
    "x = data.iloc[:,0:4]\n",
    "\n",
    "#prepare the target\n",
    "target = data.iloc[:,4]\n",
    "\n",
    "#Applying it to PCA function\n",
    "mat_reduced = PCA(x , 2)\n",
    "\n",
    "#Creating a Pandas DataFrame of reduced Dataset\n",
    "principal_df = pd.DataFrame(mat_reduced , columns = ['PC1','PC2'])\n",
    "\n",
    "#Concat it with target variable to create a complete Dataset\n",
    "principal_df = pd.concat([principal_df , pd.DataFrame(target)] , axis = 1)"
   ]
  },
  {
   "cell_type": "code",
   "execution_count": 19,
   "id": "fab95a46-c079-4be0-97f1-e19cfba5db32",
   "metadata": {},
   "outputs": [
    {
     "data": {
      "text/plain": [
       "<AxesSubplot:xlabel='PC1', ylabel='PC2'>"
      ]
     },
     "execution_count": 19,
     "metadata": {},
     "output_type": "execute_result"
    },
    {
     "data": {
      "image/png": "[encoded data removed]",
      "text/plain": [
       "<Figure size 432x432 with 1 Axes>"
      ]
     },
     "metadata": {
      "needs_background": "light"
     },
     "output_type": "display_data"
    }
   ],
   "source": [
    "import seaborn as sb\n",
    "import matplotlib.pyplot as plt\n",
    "\n",
    "plt.figure(figsize = (6,6))\n",
    "sb.scatterplot(data = principal_df , x = 'PC1',y = 'PC2' , hue = 'target' , s = 60 , palette= 'icefire')"
   ]
  },
  {
   "cell_type": "markdown",
   "id": "2f5c0e34-65f4-480d-adc4-8f9fb5ce1a49",
   "metadata": {},
   "source": [
    "# TEST: https://towardsdatascience.com/pca-with-numpy-58917c1d0391"
   ]
  },
  {
   "cell_type": "code",
   "execution_count": 21,
   "id": "2e95f6d7-26df-48d5-b212-b8165b933355",
   "metadata": {},
   "outputs": [],
   "source": [
    "import numpy as np\n",
    "from numpy import array\n",
    "from numpy import mean\n",
    "from numpy import cov\n",
    "from numpy.linalg import eig\n",
    "import matplotlib.pyplot as plt\n",
    "import pandas as pd\n",
    "from decimal import Decimal"
   ]
  },
  {
   "cell_type": "code",
   "execution_count": 57,
   "id": "67bb7931-ce10-4a3b-a370-16424a8c2c2c",
   "metadata": {},
   "outputs": [
    {
     "name": "stdout",
     "output_type": "stream",
     "text": [
      "Data matrix:\n",
      "[[1 5 2]\n",
      " [3 1 4]\n",
      " [5 8 6]]\n",
      "\n",
      "\n",
      "Matrix shape:\n",
      "rows: 3 \n",
      "columns: 3\n",
      "\n",
      "\n",
      "Number of PC :\n",
      "[1 2 3]\n",
      "\n",
      "\n",
      "Mean matrix:\n",
      "[3.         4.66666667 4.        ]\n",
      "\n",
      "\n",
      "Standard deviation:\n",
      "[1.63299316 2.86744176 1.63299316]\n",
      "\n",
      "\n",
      "Standardized data matrix:\n",
      "[[-1.22474487  0.11624764 -1.22474487]\n",
      " [ 0.         -1.27872403  0.        ]\n",
      " [ 1.22474487  1.16247639  1.22474487]]\n",
      "\n",
      "\n",
      "Covariance matrix:\n",
      "[[1.5        0.64068165 1.5       ]\n",
      " [0.64068165 1.5        0.64068165]\n",
      " [1.5        0.64068165 1.5       ]]\n",
      "\n",
      "\n",
      "Eigenvectors matrix:\n",
      "[[-6.39852868e-01 -7.07106781e-01  3.00978914e-01]\n",
      " [-4.25648463e-01 -3.02808452e-16 -9.04888604e-01]\n",
      " [-6.39852868e-01  7.07106781e-01  3.00978914e-01]]\n",
      "\n",
      "\n",
      "Eigenvalues:\n",
      "[3.42619979e+00 2.47682023e-16 1.07380021e+00]\n",
      "\n",
      "\n",
      "Explained variance on each of components:\n",
      "[76.13777311063785, 5.5040449451846046e-15, 23.86222688936214]\n",
      "\n",
      "\n",
      "Comulative variance that explain at least 95%:\n",
      "[ 76.13777311  76.13777311 100.        ]\n",
      "\n",
      "\n"
     ]
    },
    {
     "data": {
      "image/png": "[encoded data removed]",
      "text/plain": [
       "<Figure size 432x288 with 1 Axes>"
      ]
     },
     "metadata": {
      "needs_background": "light"
     },
     "output_type": "display_data"
    },
    {
     "data": {
      "image/png": "[encoded data removed]",
      "text/plain": [
       "<Figure size 432x288 with 1 Axes>"
      ]
     },
     "metadata": {
      "needs_background": "light"
     },
     "output_type": "display_data"
    },
    {
     "data": {
      "image/png": "[encoded data removed]",
      "text/plain": [
       "<Figure size 432x288 with 1 Axes>"
      ]
     },
     "metadata": {
      "needs_background": "light"
     },
     "output_type": "display_data"
    },
    {
     "data": {
      "image/png": "[encoded data removed]",
      "text/plain": [
       "<Figure size 432x288 with 1 Axes>"
      ]
     },
     "metadata": {
      "needs_background": "light"
     },
     "output_type": "display_data"
    },
    {
     "data": {
      "image/png": "[encoded data removed]",
      "text/plain": [
       "<Figure size 864x576 with 9 Axes>"
      ]
     },
     "metadata": {
      "needs_background": "light"
     },
     "output_type": "display_data"
    }
   ],
   "source": [
    "# define a matrix\n",
    "Parametri=[\"a\",\"b\",\"c\"]\n",
    "Campioni=[\"A\",\"B\",\"C\"]\n",
    "X = array([[1, 5, 2], [3, 1, 4], [5, 8, 6]])\n",
    "print(\"Data matrix:\")\n",
    "print(X)\n",
    "print(\"\\n\")\n",
    "\n",
    "# define matrix shape\n",
    "rows, columns = X.shape\n",
    "print(\"Matrix shape:\")\n",
    "print(f\"rows: {rows} \\ncolumns: {columns}\")\n",
    "print(\"\\n\")\n",
    "\n",
    "#PC number\n",
    "n_pc = np.arange(1, columns+1)\n",
    "print(\"Number of PC :\")\n",
    "print(n_pc)\n",
    "print(\"\\n\")\n",
    "\n",
    "# calculate the mean of each column\n",
    "M = mean(X.T, axis=1)\n",
    "print(\"Mean matrix:\")\n",
    "print(M)\n",
    "print(\"\\n\")\n",
    "\n",
    "# calculate standard deviation of eache column\n",
    "sd=np.std(X.T, axis=1)\n",
    "print(\"Standard deviation:\")\n",
    "print(sd)\n",
    "print(\"\\n\")\n",
    "\n",
    "# center columns by subtracting column means\n",
    "S = (X - M)/sd\n",
    "print(\"Standardized data matrix:\")\n",
    "print(S)\n",
    "print(\"\\n\")\n",
    "\n",
    "# calculate covariance matrix of centered matrix\n",
    "C = cov(S.T)\n",
    "print(\"Covariance matrix:\")\n",
    "print(C)\n",
    "print(\"\\n\")\n",
    "\n",
    "# eigendecomposition of covariance matrix\n",
    "eigen_values, eigen_vectors = eig(C)\n",
    "print(\"Eigenvectors matrix:\") #vettori delle componenti principali\n",
    "print(eigen_vectors)\n",
    "print(\"\\n\")\n",
    "print(\"Eigenvalues:\")\n",
    "print(eigen_values)\n",
    "print(\"\\n\")\n",
    "\n",
    "###################aggiunta####################\n",
    "# Calculating the explained variance on each of components\n",
    "variance_explained = []\n",
    "for i in eigen_values:\n",
    "     variance_explained.append((i/sum(eigen_values))*100)\n",
    "print(\"Explained variance on each of components:\")        \n",
    "print(variance_explained)\n",
    "print(\"\\n\")\n",
    "\n",
    "# Identifying components that explain at least 95%\n",
    "cumulative_variance_explained = np.cumsum(variance_explained)\n",
    "print(\"Comulative variance that explain at least 95%:\")  \n",
    "print(cumulative_variance_explained)\n",
    "print(\"\\n\")\n",
    "\n",
    "# Visualizing the eigenvalues and finding the \"elbow\" in the graphic\n",
    "plt.plot(n_pc, cumulative_variance_explained)\n",
    "plt.xlabel(\"Number of components\")\n",
    "plt.ylabel(\"Cumulative explained variance\")\n",
    "plt.title(\"Explained variance vs Number of components\")\n",
    "plt.show()\n",
    "###################aggiunta####################\n",
    "\n",
    "###### covariance matrix plot#####################\n",
    "fig, ax = plt.subplots()\n",
    "im = ax.imshow(C)\n",
    "\n",
    "# We want to show all ticks...\n",
    "ax.set_xticks(np.arange(len(Parametri)))\n",
    "ax.set_yticks(np.arange(len(Parametri)))\n",
    "# ... and label them with the respective list entries\n",
    "ax.set_xticklabels(Parametri)\n",
    "ax.set_yticklabels(Parametri)\n",
    "\n",
    "# Rotate the tick labels and set their alignment.\n",
    "plt.setp(ax.get_xticklabels(), rotation=0, ha=\"right\",\n",
    "         rotation_mode=\"anchor\")\n",
    "\n",
    "# Loop over data dimensions and create text annotations.\n",
    "for i in range(len(Parametri)):\n",
    "    for j in range(len(Parametri)):\n",
    "        text = ax.text(j, i,  round(C[i, j],3),\n",
    "                       ha=\"center\", va=\"center\", color=\"w\")\n",
    "\n",
    "ax.set_title(\"covariance matrix plot\")\n",
    "fig.tight_layout()\n",
    "plt.show()\n",
    "\n",
    "##############Plot of eigenvectors for PC1vsPC2 #############################ààà\n",
    "plt.xlabel(\"PC1\")\n",
    "plt.ylabel(\"PC2\")\n",
    "plt.title(\"PC1 vs PC2\")\n",
    "plt.scatter(x=eigen_vectors[0],y=eigen_vectors[1])\n",
    "plt.show()\n",
    "##############Plot of eigenvectors for PC1vsPC3 #############################ààà\n",
    "plt.xlabel(\"PC1\")\n",
    "plt.ylabel(\"PC3\")\n",
    "plt.title(\"PC1 vs PC3\")\n",
    "plt.scatter(x=eigen_vectors[0],y=eigen_vectors[2])\n",
    "plt.show()\n",
    "\n",
    "\n",
    "figursize=(12, 8)\n",
    "n_pc=np.array(n_pc)\n",
    "fig, axs = plt.subplots(np.amax(n_pc), np.amax(n_pc),figsize=figursize)\n",
    "fig.tight_layout(pad=3.0)\n",
    "a=1\n",
    "for i in n_pc:\n",
    "    for j in n_pc:\n",
    "        plt.subplot(np.amax(n_pc),np.amax(n_pc),a)\n",
    "        plt.scatter(x=eigen_vectors[i-1],y=eigen_vectors[j-1])\n",
    "        plt.xlabel(f\"PC{i}\")\n",
    "        plt.ylabel(f\"PC{j}\")\n",
    "        plt.title(f\"PC{i}\" \"vs\" + f\"PC{j}\")\n",
    "        a+=1\n",
    "plt.show()\n",
    "        "
   ]
  },
  {
   "cell_type": "markdown",
   "id": "ab7282ae-5869-4837-9185-5685746b97c4",
   "metadata": {},
   "source": [
    "## Project Data Onto Lower-Dimensional Linear Subspace"
   ]
  },
  {
   "cell_type": "code",
   "execution_count": 52,
   "id": "65058820-2884-4304-a4e8-b78af27d289f",
   "metadata": {},
   "outputs": [
    {
     "name": "stdout",
     "output_type": "stream",
     "text": [
      "[[-6.39852868e-01 -7.07106781e-01]\n",
      " [-4.25648463e-01 -3.02808452e-16]\n",
      " [-6.39852868e-01  7.07106781e-01]]\n"
     ]
    }
   ],
   "source": [
    "# Using two first components (because those explain more than 95%)\n",
    "projection_matrix = (eigen_vectors.T[:][:2]).T\n",
    "print(projection_matrix)"
   ]
  },
  {
   "cell_type": "code",
   "execution_count": 53,
   "id": "622e5778-204e-4c91-89f9-b50a23947394",
   "metadata": {},
   "outputs": [
    {
     "name": "stdout",
     "output_type": "stream",
     "text": [
      "[[ -4.04780092   0.70710678]\n",
      " [ -4.90461854   0.70710678]\n",
      " [-10.44356925   0.70710678]]\n"
     ]
    }
   ],
   "source": [
    "# Getting the product of original standardized X and the eigenvectors \n",
    "X_pca = X.dot(projection_matrix)\n",
    "print(X_pca)"
   ]
  },
  {
   "cell_type": "code",
   "execution_count": 63,
   "id": "c606de77-75e7-4c47-8d3a-280d13b832ef",
   "metadata": {},
   "outputs": [
    {
     "data": {
      "image/png": "[encoded data removed]",
      "text/plain": [
       "<Figure size 432x288 with 1 Axes>"
      ]
     },
     "metadata": {
      "needs_background": "light"
     },
     "output_type": "display_data"
    }
   ],
   "source": [
    "df = pd.DataFrame(X_pca)\n",
    "plt.scatter(df[0],df[1])\n",
    "plt.show()"
   ]
  },
  {
   "cell_type": "markdown",
   "id": "81ac7230-00b9-401f-8e11-96009c5af1f8",
   "metadata": {},
   "source": [
    "# Skitlearn"
   ]
  },
  {
   "cell_type": "code",
   "execution_count": 21,
   "id": "0766488c-cf63-4c46-8e81-3236700119a1",
   "metadata": {},
   "outputs": [
    {
     "name": "stdout",
     "output_type": "stream",
     "text": [
      "[[1 2]\n",
      " [3 4]\n",
      " [5 6]]\n",
      "[[ 0.70710678  0.70710678]\n",
      " [ 0.70710678 -0.70710678]]\n",
      "[8.00000000e+00 2.25080839e-33]\n",
      "[[-2.82842712e+00  2.22044605e-16]\n",
      " [ 0.00000000e+00  0.00000000e+00]\n",
      " [ 2.82842712e+00 -2.22044605e-16]]\n"
     ]
    }
   ],
   "source": [
    "# Principal Component Analysis\n",
    "from numpy import array\n",
    "from sklearn.decomposition import PCA\n",
    "# define a matrix\n",
    "A = array([[1, 2], [3, 4], [5, 6]])\n",
    "print(A)\n",
    "# create the PCA instance\n",
    "pca = PCA(2)\n",
    "# fit on data\n",
    "pca.fit(A)\n",
    "# access values and vectors\n",
    "print(pca.components_)\n",
    "print(pca.explained_variance_)\n",
    "# transform data\n",
    "B = pca.transform(A)\n",
    "print(B)"
   ]
  },
  {
   "cell_type": "code",
   "execution_count": null,
   "id": "ed5639a2-d23b-4648-902e-63aad5812407",
   "metadata": {},
   "outputs": [],
   "source": []
  }
 ],
 "metadata": {
  "kernelspec": {
   "display_name": "Python 3",
   "language": "python",
   "name": "python3"
  },
  "language_info": {
   "codemirror_mode": {
    "name": "ipython",
    "version": 3
   },
   "file_extension": ".py",
   "mimetype": "text/x-python",
   "name": "python",
   "nbconvert_exporter": "python",
   "pygments_lexer": "ipython3",
   "version": "3.9.5"
  }
 },
 "nbformat": 4,
 "nbformat_minor": 5
}

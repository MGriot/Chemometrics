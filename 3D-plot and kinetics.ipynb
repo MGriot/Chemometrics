{
 "cells": [
  {
   "cell_type": "markdown",
   "id": "3b6d4b57-3016-4f40-ae76-551801c300b3",
   "metadata": {},
   "source": [
    "# 3D surface and kinetics study"
   ]
  },
  {
   "cell_type": "markdown",
   "id": "449647e9-b271-468e-86dd-97647ea4af62",
   "metadata": {},
   "source": [
    "Codice per importare una matrice di dati e creare una suoerdfie 3D. Utleriore codice per fare uno studio cinetico."
   ]
  },
  {
   "cell_type": "code",
   "execution_count": null,
   "id": "531de749-73fd-49af-8c5b-c39239cbf8a8",
   "metadata": {},
   "outputs": [],
   "source": []
  }
 ],
 "metadata": {
  "kernelspec": {
   "display_name": "Python 3",
   "language": "python",
   "name": "python3"
  },
  "language_info": {
   "codemirror_mode": {
    "name": "ipython",
    "version": 3
   },
   "file_extension": ".py",
   "mimetype": "text/x-python",
   "name": "python",
   "nbconvert_exporter": "python",
   "pygments_lexer": "ipython3",
   "version": "3.9.5"
  }
 },
 "nbformat": 4,
 "nbformat_minor": 5
}
